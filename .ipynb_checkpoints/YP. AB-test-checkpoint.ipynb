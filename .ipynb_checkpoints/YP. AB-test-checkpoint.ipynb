{
 "cells": [
  {
   "cell_type": "markdown",
   "id": "a9fb67bf",
   "metadata": {},
   "source": [
    "# А-В тестирование"
   ]
  },
  {
   "cell_type": "markdown",
   "id": "7a5b8bc1",
   "metadata": {},
   "source": [
    "## Содержание\n",
    "\n",
    "1. Введение\n",
    "    - описание проекта\n",
    "    - цели и задачи проекта\n",
    "    - описание данных\n",
    "2. Загрузка и предобработка данных\n",
    "    - проверка пропусков\n",
    "    - проверка дубликатов\n",
    "    - приведение к нужному типу/формату данных\n",
    "3. Проверка данных\n",
    "    - на пересечение, распределение, на полноту событий (все ли юзеры совершали покупки)\n",
    "    - на соответсвие ТЗ\n",
    "5. Исследовательский анализ\n",
    "6. Оценка А/В-тестирования\n",
    "7. Резульаты"
   ]
  },
  {
   "cell_type": "markdown",
   "id": "f08133cf",
   "metadata": {},
   "source": [
    "## Введение\n",
    "\n",
    "**Описание проекта**\n",
    "Оцените корректность проведения теста и проанализируйте его результаты.\n",
    "\n",
    "**Цель проекта**\n",
    "Отследить эффективность улучшенной рекомендательной системы.\n",
    "\n",
    "**Задача проекта**\n",
    "- Проверить корреткность данных\n",
    "- Провести исследовательский анализ\n",
    "- Оценить результат тестирования\n",
    "\n",
    "**Описание данных**\n",
    "1. ab_project_marketing_events.csv — календарь маркетинговых событий на 2020 год.<br />\n",
    "Структура файла:<br />\n",
    "- name — название маркетингового события;\n",
    "- regions — регионы, в которых будет проводиться рекламная кампания;\n",
    "- start_dt — дата начала кампании;\n",
    "- finish_dt — дата завершения кампании.\n",
    "\n",
    "2. final_ab_new_users.csv — пользователи, зарегистрировавшиеся с 7 до 21 декабря 2020 года.<br />\n",
    "Структура файла:<br />\n",
    "- user_id — идентификатор пользователя;\n",
    "- first_date — дата регистрации;\n",
    "- region — регион пользователя;\n",
    "- device — устройство, с которого происходила регистрация.\n",
    "\n",
    "3. final_ab_events.csv — действия новых пользователей в период с 7 декабря 2020 по 4 января 2021 года.<br />\n",
    "Структура файла:<br />\n",
    "- user_id — идентификатор пользователя;\n",
    "- event_dt — дата и время события;\n",
    "- event_name — тип события;\n",
    "- details — дополнительные данные о событии. Например, для покупок,\n",
    "- purchase - стоимость покупки в долларах.\n",
    "\n",
    "4. final_ab_participants.csv — таблица участников тестов.<br />\n",
    "Структура файла:<br />\n",
    "- user_id — идентификатор пользователя;\n",
    "- ab_test — название теста;\n",
    "- group — группа пользователя."
   ]
  },
  {
   "cell_type": "markdown",
   "id": "d39679f0",
   "metadata": {},
   "source": [
    "## Загрузка и предобработка данных"
   ]
  },
  {
   "cell_type": "code",
   "execution_count": 1,
   "id": "875ada13",
   "metadata": {},
   "outputs": [],
   "source": [
    "import pandas as pd\n",
    "from datetime import datetime, timedelta, time\n",
    "import numpy as np\n",
    "from scipy import stats as st\n",
    "import math as mth\n",
    "import seaborn as sns\n",
    "import matplotlib.pyplot as plt\n",
    "import plotly.express as px\n",
    "import warnings\n",
    "warnings.filterwarnings(\"ignore\") "
   ]
  },
  {
   "cell_type": "code",
   "execution_count": 2,
   "id": "7150304a",
   "metadata": {},
   "outputs": [],
   "source": [
    "try:\n",
    "    events = pd.read_csv('final_ab_events.csv')\n",
    "    ads = pd.read_csv('ab_project_marketing_events.csv')\n",
    "    new_users = pd.read_csv('final_ab_new_users.csv')\n",
    "    participants = pd.read_csv('final_ab_participants.csv')\n",
    "\n",
    "except:\n",
    "    events = pd.read_csv('https://code.s3.yandex.net/datasets/final_ab_events.csv')\n",
    "    ads = pd.read_csv('https://code.s3.yandex.net/datasets/ab_project_marketing_events.csv')  \n",
    "    new_users = pd.read_csv('https://code.s3.yandex.net/datasets/final_ab_new_users.csv') \n",
    "    participants = pd.read_csv('https://code.s3.yandex.net/datasets/final_ab_participants.csv')"
   ]
  },
  {
   "cell_type": "code",
   "execution_count": 3,
   "id": "d3fc9642",
   "metadata": {},
   "outputs": [],
   "source": [
    "#Создадим функцию для ознакомления с данными\n",
    "def data_info(data):\n",
    "    print(f'Общая информация о датасете:\\n {data.info()} \\n \\n Первые три строки датасета \\n{data.head(3)}\\n')\n",
    "    print(f'Количество полных дубликатов: \\n {data.duplicated().sum()}\\n')\n",
    "    print(f'Количество пропусков: \\n {data.isna().mean()}\\n \\n ')\n",
    "    "
   ]
  },
  {
   "cell_type": "code",
   "execution_count": 4,
   "id": "a5f19cdf",
   "metadata": {
    "scrolled": true
   },
   "outputs": [
    {
     "name": "stdout",
     "output_type": "stream",
     "text": [
      "<class 'pandas.core.frame.DataFrame'>\n",
      "RangeIndex: 18268 entries, 0 to 18267\n",
      "Data columns (total 3 columns):\n",
      " #   Column   Non-Null Count  Dtype \n",
      "---  ------   --------------  ----- \n",
      " 0   user_id  18268 non-null  object\n",
      " 1   group    18268 non-null  object\n",
      " 2   ab_test  18268 non-null  object\n",
      "dtypes: object(3)\n",
      "memory usage: 428.3+ KB\n",
      "Общая информация о датасете:\n",
      " None \n",
      " \n",
      " Первые три строки датасета \n",
      "            user_id group                  ab_test\n",
      "0  D1ABA3E2887B6A73     A  recommender_system_test\n",
      "1  A7A3664BD6242119     A  recommender_system_test\n",
      "2  DABC14FDDFADD29E     A  recommender_system_test\n",
      "\n",
      "Количество полных дубликатов: \n",
      " 0\n",
      "\n",
      "Количество пропусков: \n",
      " user_id    0.0\n",
      "group      0.0\n",
      "ab_test    0.0\n",
      "dtype: float64\n",
      " \n",
      " \n"
     ]
    }
   ],
   "source": [
    "data_info(participants)"
   ]
  },
  {
   "cell_type": "code",
   "execution_count": 5,
   "id": "be6c0f7c",
   "metadata": {
    "scrolled": true
   },
   "outputs": [
    {
     "name": "stdout",
     "output_type": "stream",
     "text": [
      "<class 'pandas.core.frame.DataFrame'>\n",
      "RangeIndex: 440317 entries, 0 to 440316\n",
      "Data columns (total 4 columns):\n",
      " #   Column      Non-Null Count   Dtype  \n",
      "---  ------      --------------   -----  \n",
      " 0   user_id     440317 non-null  object \n",
      " 1   event_dt    440317 non-null  object \n",
      " 2   event_name  440317 non-null  object \n",
      " 3   details     62740 non-null   float64\n",
      "dtypes: float64(1), object(3)\n",
      "memory usage: 13.4+ MB\n",
      "Общая информация о датасете:\n",
      " None \n",
      " \n",
      " Первые три строки датасета \n",
      "            user_id             event_dt event_name  details\n",
      "0  E1BDDCE0DAFA2679  2020-12-07 20:22:03   purchase    99.99\n",
      "1  7B6452F081F49504  2020-12-07 09:22:53   purchase     9.99\n",
      "2  9CD9F34546DF254C  2020-12-07 12:59:29   purchase     4.99\n",
      "\n",
      "Количество полных дубликатов: \n",
      " 0\n",
      "\n",
      "Количество пропусков: \n",
      " user_id       0.000000\n",
      "event_dt      0.000000\n",
      "event_name    0.000000\n",
      "details       0.857512\n",
      "dtype: float64\n",
      " \n",
      " \n"
     ]
    }
   ],
   "source": [
    "data_info(events)"
   ]
  },
  {
   "cell_type": "code",
   "execution_count": 6,
   "id": "56ebc5d0",
   "metadata": {
    "scrolled": true
   },
   "outputs": [
    {
     "data": {
      "text/html": [
       "<div>\n",
       "<style scoped>\n",
       "    .dataframe tbody tr th:only-of-type {\n",
       "        vertical-align: middle;\n",
       "    }\n",
       "\n",
       "    .dataframe tbody tr th {\n",
       "        vertical-align: top;\n",
       "    }\n",
       "\n",
       "    .dataframe thead th {\n",
       "        text-align: right;\n",
       "    }\n",
       "</style>\n",
       "<table border=\"1\" class=\"dataframe\">\n",
       "  <thead>\n",
       "    <tr style=\"text-align: right;\">\n",
       "      <th></th>\n",
       "      <th>user_id</th>\n",
       "    </tr>\n",
       "    <tr>\n",
       "      <th>event_name</th>\n",
       "      <th></th>\n",
       "    </tr>\n",
       "  </thead>\n",
       "  <tbody>\n",
       "    <tr>\n",
       "      <th>login</th>\n",
       "      <td>189552</td>\n",
       "    </tr>\n",
       "    <tr>\n",
       "      <th>product_cart</th>\n",
       "      <td>62462</td>\n",
       "    </tr>\n",
       "    <tr>\n",
       "      <th>product_page</th>\n",
       "      <td>125563</td>\n",
       "    </tr>\n",
       "  </tbody>\n",
       "</table>\n",
       "</div>"
      ],
      "text/plain": [
       "              user_id\n",
       "event_name           \n",
       "login          189552\n",
       "product_cart    62462\n",
       "product_page   125563"
      ]
     },
     "execution_count": 6,
     "metadata": {},
     "output_type": "execute_result"
    }
   ],
   "source": [
    "#Попробуем определить природу пропусков в details\n",
    "events[events['details'].isna()==True].groupby('event_name').agg({'user_id':'count'})"
   ]
  },
  {
   "cell_type": "code",
   "execution_count": 7,
   "id": "f0fce265",
   "metadata": {},
   "outputs": [
    {
     "data": {
      "text/plain": [
       "array(['purchase', 'product_cart', 'product_page', 'login'], dtype=object)"
      ]
     },
     "execution_count": 7,
     "metadata": {},
     "output_type": "execute_result"
    }
   ],
   "source": [
    "events.event_name.unique()"
   ]
  },
  {
   "cell_type": "markdown",
   "id": "c544bfab",
   "metadata": {},
   "source": [
    "Пропущенные значения в столбце details не обнаружены только для события purchase. Следует передать ту информацию разработчикам для выявления причины отсутсвия данных."
   ]
  },
  {
   "cell_type": "code",
   "execution_count": 8,
   "id": "ee230ad9",
   "metadata": {},
   "outputs": [
    {
     "name": "stdout",
     "output_type": "stream",
     "text": [
      "<class 'pandas.core.frame.DataFrame'>\n",
      "RangeIndex: 61733 entries, 0 to 61732\n",
      "Data columns (total 4 columns):\n",
      " #   Column      Non-Null Count  Dtype \n",
      "---  ------      --------------  ----- \n",
      " 0   user_id     61733 non-null  object\n",
      " 1   first_date  61733 non-null  object\n",
      " 2   region      61733 non-null  object\n",
      " 3   device      61733 non-null  object\n",
      "dtypes: object(4)\n",
      "memory usage: 1.9+ MB\n",
      "Общая информация о датасете:\n",
      " None \n",
      " \n",
      " Первые три строки датасета \n",
      "            user_id  first_date     region   device\n",
      "0  D72A72121175D8BE  2020-12-07         EU       PC\n",
      "1  F1C668619DFE6E65  2020-12-07  N.America  Android\n",
      "2  2E1BF1D4C37EA01F  2020-12-07         EU       PC\n",
      "\n",
      "Количество полных дубликатов: \n",
      " 0\n",
      "\n",
      "Количество пропусков: \n",
      " user_id       0.0\n",
      "first_date    0.0\n",
      "region        0.0\n",
      "device        0.0\n",
      "dtype: float64\n",
      " \n",
      " \n"
     ]
    }
   ],
   "source": [
    "data_info(new_users)"
   ]
  },
  {
   "cell_type": "code",
   "execution_count": 9,
   "id": "bbbd7ba9",
   "metadata": {},
   "outputs": [
    {
     "name": "stdout",
     "output_type": "stream",
     "text": [
      "<class 'pandas.core.frame.DataFrame'>\n",
      "RangeIndex: 14 entries, 0 to 13\n",
      "Data columns (total 4 columns):\n",
      " #   Column     Non-Null Count  Dtype \n",
      "---  ------     --------------  ----- \n",
      " 0   name       14 non-null     object\n",
      " 1   regions    14 non-null     object\n",
      " 2   start_dt   14 non-null     object\n",
      " 3   finish_dt  14 non-null     object\n",
      "dtypes: object(4)\n",
      "memory usage: 576.0+ bytes\n",
      "Общая информация о датасете:\n",
      " None \n",
      " \n",
      " Первые три строки датасета \n",
      "                           name                   regions    start_dt  \\\n",
      "0      Christmas&New Year Promo             EU, N.America  2020-12-25   \n",
      "1  St. Valentine's Day Giveaway  EU, CIS, APAC, N.America  2020-02-14   \n",
      "2        St. Patric's Day Promo             EU, N.America  2020-03-17   \n",
      "\n",
      "    finish_dt  \n",
      "0  2021-01-03  \n",
      "1  2020-02-16  \n",
      "2  2020-03-19  \n",
      "\n",
      "Количество полных дубликатов: \n",
      " 0\n",
      "\n",
      "Количество пропусков: \n",
      " name         0.0\n",
      "regions      0.0\n",
      "start_dt     0.0\n",
      "finish_dt    0.0\n",
      "dtype: float64\n",
      " \n",
      " \n"
     ]
    }
   ],
   "source": [
    "data_info(ads)"
   ]
  },
  {
   "cell_type": "code",
   "execution_count": 10,
   "id": "8626344d",
   "metadata": {},
   "outputs": [],
   "source": [
    "events['event_dt'] = pd.to_datetime(events['event_dt'], format='%Y-%m-%d %H:%M:%S')\n",
    "new_users['first_date'] = pd.to_datetime(new_users['first_date'])\n",
    "ads['start_dt'] = pd.to_datetime(ads['start_dt'])\n",
    "ads['finish_dt'] = pd.to_datetime(ads['finish_dt'])"
   ]
  },
  {
   "cell_type": "code",
   "execution_count": 11,
   "id": "b45c29bf",
   "metadata": {},
   "outputs": [
    {
     "data": {
      "text/plain": [
       "0"
      ]
     },
     "execution_count": 11,
     "metadata": {},
     "output_type": "execute_result"
    }
   ],
   "source": [
    "#Создадим дополнительный столбец\n",
    "events['event_date'] = pd.to_datetime(events['event_dt'].dt.date)\n",
    "events['event_date'].isna().sum()"
   ]
  },
  {
   "cell_type": "markdown",
   "id": "5c623350",
   "metadata": {},
   "source": [
    "## Проверка данных"
   ]
  },
  {
   "cell_type": "markdown",
   "id": "f73ced51",
   "metadata": {},
   "source": [
    "**Пересечения в группах**"
   ]
  },
  {
   "cell_type": "code",
   "execution_count": 12,
   "id": "91d18536",
   "metadata": {
    "scrolled": true
   },
   "outputs": [
    {
     "data": {
      "text/plain": [
       "2        001064FEAAB631A1\n",
       "10       00341D8401F0F665\n",
       "12       003B6786B4FF5B03\n",
       "29       0082295A41A867B5\n",
       "46       00E68F103C66C1F7\n",
       "               ...       \n",
       "16638    FF7BE2897FC0380D\n",
       "16644    FF9A81323FA67D6E\n",
       "16652    FFC53FD45DDA5EE8\n",
       "16662    FFED90241D04503F\n",
       "16664    FFF28D02B1EACBE1\n",
       "Name: user_id, Length: 1602, dtype: object"
      ]
     },
     "execution_count": 12,
     "metadata": {},
     "output_type": "execute_result"
    }
   ],
   "source": [
    "#Проверим пересечения в тестах\n",
    "double = participants.groupby('user_id', as_index=False).agg({'ab_test':'count'}).query('ab_test>1')['user_id']\n",
    "double"
   ]
  },
  {
   "cell_type": "markdown",
   "id": "1c550512",
   "metadata": {},
   "source": [
    "Пересечения по тестам есть: 1602 пользователя учавствовали в целевом и конкурирющем тесте. \n",
    "Поскольку результаты другого теста могут исказить результаты целевого, но в датасете событий нельзя разделить события пользователя в рамках того или другого теста, то необходимо проверить, равномерно ли распределены задублированные пользователи группы Б другого теста в группах целевого теста:"
   ]
  },
  {
   "cell_type": "code",
   "execution_count": 13,
   "id": "845b3bc9",
   "metadata": {
    "scrolled": false
   },
   "outputs": [
    {
     "data": {
      "text/html": [
       "<div>\n",
       "<style scoped>\n",
       "    .dataframe tbody tr th:only-of-type {\n",
       "        vertical-align: middle;\n",
       "    }\n",
       "\n",
       "    .dataframe tbody tr th {\n",
       "        vertical-align: top;\n",
       "    }\n",
       "\n",
       "    .dataframe thead th {\n",
       "        text-align: right;\n",
       "    }\n",
       "</style>\n",
       "<table border=\"1\" class=\"dataframe\">\n",
       "  <thead>\n",
       "    <tr style=\"text-align: right;\">\n",
       "      <th></th>\n",
       "      <th>group</th>\n",
       "      <th>user_id</th>\n",
       "    </tr>\n",
       "  </thead>\n",
       "  <tbody>\n",
       "    <tr>\n",
       "      <th>0</th>\n",
       "      <td>A</td>\n",
       "      <td>3824</td>\n",
       "    </tr>\n",
       "    <tr>\n",
       "      <th>1</th>\n",
       "      <td>B</td>\n",
       "      <td>2877</td>\n",
       "    </tr>\n",
       "  </tbody>\n",
       "</table>\n",
       "</div>"
      ],
      "text/plain": [
       "  group  user_id\n",
       "0     A     3824\n",
       "1     B     2877"
      ]
     },
     "execution_count": 13,
     "metadata": {},
     "output_type": "execute_result"
    }
   ],
   "source": [
    "#Количество пользователей в целевом тесте по группам\n",
    "target_test = participants.query('ab_test == \"recommender_system_test\"').groupby('group', as_index=False)['user_id'].count()\n",
    "target_test"
   ]
  },
  {
   "cell_type": "code",
   "execution_count": 14,
   "id": "73e5aebb",
   "metadata": {},
   "outputs": [
    {
     "data": {
      "text/html": [
       "<div>\n",
       "<style scoped>\n",
       "    .dataframe tbody tr th:only-of-type {\n",
       "        vertical-align: middle;\n",
       "    }\n",
       "\n",
       "    .dataframe tbody tr th {\n",
       "        vertical-align: top;\n",
       "    }\n",
       "\n",
       "    .dataframe thead th {\n",
       "        text-align: right;\n",
       "    }\n",
       "</style>\n",
       "<table border=\"1\" class=\"dataframe\">\n",
       "  <thead>\n",
       "    <tr style=\"text-align: right;\">\n",
       "      <th></th>\n",
       "      <th>user_id</th>\n",
       "    </tr>\n",
       "    <tr>\n",
       "      <th>group</th>\n",
       "      <th></th>\n",
       "    </tr>\n",
       "  </thead>\n",
       "  <tbody>\n",
       "    <tr>\n",
       "      <th>A</th>\n",
       "      <td>439</td>\n",
       "    </tr>\n",
       "    <tr>\n",
       "      <th>B</th>\n",
       "      <td>344</td>\n",
       "    </tr>\n",
       "  </tbody>\n",
       "</table>\n",
       "</div>"
      ],
      "text/plain": [
       "       user_id\n",
       "group         \n",
       "A          439\n",
       "B          344"
      ]
     },
     "execution_count": 14,
     "metadata": {},
     "output_type": "execute_result"
    }
   ],
   "source": [
    "#определим пользователей, учавствующих в экспериментальной группе второго теста\n",
    "test2_groupB= participants.query('user_id in @double and ab_test == \"interface_eu_test\" and group ==\"B\"')['user_id']\n",
    "#как участиники экспериментальной группе второго теста распределены в группах целевого теста\n",
    "test2_groupB_in_test1 = participants.query('user_id in @test2_groupB and ab_test == \"recommender_system_test\"')\\\n",
    "                            .groupby('group').agg({'user_id':'count'})\n",
    "test2_groupB_in_test1"
   ]
  },
  {
   "cell_type": "markdown",
   "id": "f5fe02bf",
   "metadata": {},
   "source": [
    "Проведем z-тест для оценки равномерности распределения пересекающихся пользователей группы Б другого теста в двух группах целевого теста. <br />\n",
    "H0: пропорции (целевые участиники и задублированные) двух групп целевого теста разные <br />\n",
    "Н1: пропорции (целевые участиники и задублированные) двух групп целевого теста равны.\n"
   ]
  },
  {
   "cell_type": "code",
   "execution_count": 15,
   "id": "f404bb4f",
   "metadata": {},
   "outputs": [
    {
     "name": "stdout",
     "output_type": "stream",
     "text": [
      "[439 344] [3824 2877]\n",
      "p-значение:  0.5475925169519402\n",
      "Не получилось отвергнуть нулевую гипотезу, нет оснований считать группы целевого теста разными\n"
     ]
    }
   ],
   "source": [
    "alpha = .05 # критический уровень статистической значимости\n",
    "\n",
    "successes = np.array([test2_groupB_in_test1['user_id'][0]\\\n",
    "                      , test2_groupB_in_test1['user_id'][1]]) #количество задублированных пользователей\n",
    "trials = np.array([target_test['user_id'][0],\\\n",
    "                   target_test['user_id'][1]])\n",
    "\n",
    "print(successes, trials)\n",
    "\n",
    "# пропорция в группе А:\n",
    "p1 = successes[0]/trials[0]\n",
    "\n",
    "# пропорция в группе В:\n",
    "p2 = successes[1]/trials[1]\n",
    "\n",
    "# пропорция во всем тесте:\n",
    "p_combined = (successes[0] + successes[1]) / (trials[0] + trials[1])\n",
    "\n",
    "# разница пропорций групп\n",
    "difference = p1 - p2 \n",
    "\n",
    "# считаем статистику в ст.отклонениях стандартного нормального распределения\n",
    "z_value = difference / mth.sqrt(p_combined * (1 - p_combined) * (1/trials[0] + 1/trials[1]))\n",
    "\n",
    "# задаем стандартное нормальное распределение (среднее 0, ст.отклонение 1)\n",
    "distr = st.norm(0, 1) \n",
    "\n",
    "p_value = (1 - distr.cdf(abs(z_value))) * 2\n",
    "\n",
    "print('p-значение: ', p_value)\n",
    "\n",
    "if p_value < alpha:\n",
    "    print('Отвергаем нулевую гипотезу: между группами целевого теста есть значимая разница')\n",
    "else:\n",
    "    print(\n",
    "        'Не получилось отвергнуть нулевую гипотезу, нет оснований считать группы целевого теста разными')"
   ]
  },
  {
   "cell_type": "markdown",
   "id": "d8821a8c",
   "metadata": {},
   "source": [
    "Таким образом, влияние изменений экспериментальной группы Б другого теста равномерно распределено на группы целевого теста. Поэтому сильного искажения конверсий мы не получим, если оставим их."
   ]
  },
  {
   "cell_type": "markdown",
   "id": "67e52eb2",
   "metadata": {},
   "source": [
    "**Соответствие ТЗ**"
   ]
  },
  {
   "cell_type": "code",
   "execution_count": 16,
   "id": "abc3560e",
   "metadata": {
    "scrolled": false
   },
   "outputs": [
    {
     "data": {
      "text/plain": [
       "Timestamp('2020-12-07 00:00:00')"
      ]
     },
     "metadata": {},
     "output_type": "display_data"
    },
    {
     "data": {
      "text/plain": [
       "Timestamp('2020-12-23 00:00:00')"
      ]
     },
     "execution_count": 16,
     "metadata": {},
     "output_type": "execute_result"
    }
   ],
   "source": [
    "#Проверим даты регистрации новых пользователей\n",
    "display(new_users['first_date'].min())\n",
    "new_users['first_date'].max()"
   ]
  },
  {
   "cell_type": "code",
   "execution_count": 17,
   "id": "83ea5e31",
   "metadata": {
    "scrolled": false
   },
   "outputs": [
    {
     "data": {
      "text/plain": [
       "region\n",
       "APAC          3153\n",
       "CIS           3155\n",
       "EU           46270\n",
       "N.America     9155\n",
       "Name: user_id, dtype: int64"
      ]
     },
     "execution_count": 17,
     "metadata": {},
     "output_type": "execute_result"
    }
   ],
   "source": [
    "#проверим какие регионы учавствовали в тесте\n",
    "new_users.groupby('region')['user_id'].count()"
   ]
  },
  {
   "cell_type": "code",
   "execution_count": 18,
   "id": "3e545485",
   "metadata": {},
   "outputs": [
    {
     "ename": "ValueError",
     "evalue": "data type must provide an itemsize",
     "output_type": "error",
     "traceback": [
      "\u001b[1;31m---------------------------------------------------------------------------\u001b[0m",
      "\u001b[1;31mValueError\u001b[0m                                Traceback (most recent call last)",
      "\u001b[1;32m~\\AppData\\Local\\Temp\\ipykernel_2004\\1633129018.py\u001b[0m in \u001b[0;36m<module>\u001b[1;34m\u001b[0m\n\u001b[0;32m      1\u001b[0m \u001b[1;31m#Найдем аудиторию теста recommender_system_test\u001b[0m\u001b[1;33m\u001b[0m\u001b[1;33m\u001b[0m\u001b[0m\n\u001b[0;32m      2\u001b[0m \u001b[0mparticipants_target_test\u001b[0m \u001b[1;33m=\u001b[0m \u001b[0mparticipants\u001b[0m\u001b[1;33m.\u001b[0m\u001b[0mquery\u001b[0m\u001b[1;33m(\u001b[0m\u001b[1;34m'ab_test == \"recommender_system_test\"'\u001b[0m\u001b[1;33m)\u001b[0m\u001b[1;33m\u001b[0m\u001b[1;33m\u001b[0m\u001b[0m\n\u001b[1;32m----> 3\u001b[1;33m \u001b[0mright_users\u001b[0m \u001b[1;33m=\u001b[0m \u001b[0mnew_users\u001b[0m\u001b[1;33m.\u001b[0m\u001b[0mquery\u001b[0m\u001b[1;33m(\u001b[0m\u001b[1;34m'user_id in @participants_target_test[\"user_id\"]'\u001b[0m\u001b[1;33m)\u001b[0m\u001b[1;33m\u001b[0m\u001b[1;33m\u001b[0m\u001b[0m\n\u001b[0m\u001b[0;32m      4\u001b[0m \u001b[1;33m\u001b[0m\u001b[0m\n\u001b[0;32m      5\u001b[0m \u001b[1;31m#Проверим даты регистрации новых нужным нам пользователей\u001b[0m\u001b[1;33m\u001b[0m\u001b[1;33m\u001b[0m\u001b[0m\n",
      "\u001b[1;32m~\\anaconda3\\lib\\site-packages\\pandas\\core\\frame.py\u001b[0m in \u001b[0;36mquery\u001b[1;34m(self, expr, inplace, **kwargs)\u001b[0m\n\u001b[0;32m   4109\u001b[0m         \u001b[0mkwargs\u001b[0m\u001b[1;33m[\u001b[0m\u001b[1;34m\"level\"\u001b[0m\u001b[1;33m]\u001b[0m \u001b[1;33m=\u001b[0m \u001b[0mkwargs\u001b[0m\u001b[1;33m.\u001b[0m\u001b[0mpop\u001b[0m\u001b[1;33m(\u001b[0m\u001b[1;34m\"level\"\u001b[0m\u001b[1;33m,\u001b[0m \u001b[1;36m0\u001b[0m\u001b[1;33m)\u001b[0m \u001b[1;33m+\u001b[0m \u001b[1;36m1\u001b[0m\u001b[1;33m\u001b[0m\u001b[1;33m\u001b[0m\u001b[0m\n\u001b[0;32m   4110\u001b[0m         \u001b[0mkwargs\u001b[0m\u001b[1;33m[\u001b[0m\u001b[1;34m\"target\"\u001b[0m\u001b[1;33m]\u001b[0m \u001b[1;33m=\u001b[0m \u001b[1;32mNone\u001b[0m\u001b[1;33m\u001b[0m\u001b[1;33m\u001b[0m\u001b[0m\n\u001b[1;32m-> 4111\u001b[1;33m         \u001b[0mres\u001b[0m \u001b[1;33m=\u001b[0m \u001b[0mself\u001b[0m\u001b[1;33m.\u001b[0m\u001b[0meval\u001b[0m\u001b[1;33m(\u001b[0m\u001b[0mexpr\u001b[0m\u001b[1;33m,\u001b[0m \u001b[1;33m**\u001b[0m\u001b[0mkwargs\u001b[0m\u001b[1;33m)\u001b[0m\u001b[1;33m\u001b[0m\u001b[1;33m\u001b[0m\u001b[0m\n\u001b[0m\u001b[0;32m   4112\u001b[0m \u001b[1;33m\u001b[0m\u001b[0m\n\u001b[0;32m   4113\u001b[0m         \u001b[1;32mtry\u001b[0m\u001b[1;33m:\u001b[0m\u001b[1;33m\u001b[0m\u001b[1;33m\u001b[0m\u001b[0m\n",
      "\u001b[1;32m~\\anaconda3\\lib\\site-packages\\pandas\\core\\frame.py\u001b[0m in \u001b[0;36meval\u001b[1;34m(self, expr, inplace, **kwargs)\u001b[0m\n\u001b[0;32m   4238\u001b[0m         \u001b[0mkwargs\u001b[0m\u001b[1;33m[\u001b[0m\u001b[1;34m\"resolvers\"\u001b[0m\u001b[1;33m]\u001b[0m \u001b[1;33m=\u001b[0m \u001b[0mtuple\u001b[0m\u001b[1;33m(\u001b[0m\u001b[0mkwargs\u001b[0m\u001b[1;33m.\u001b[0m\u001b[0mget\u001b[0m\u001b[1;33m(\u001b[0m\u001b[1;34m\"resolvers\"\u001b[0m\u001b[1;33m,\u001b[0m \u001b[1;33m(\u001b[0m\u001b[1;33m)\u001b[0m\u001b[1;33m)\u001b[0m\u001b[1;33m)\u001b[0m \u001b[1;33m+\u001b[0m \u001b[0mresolvers\u001b[0m\u001b[1;33m\u001b[0m\u001b[1;33m\u001b[0m\u001b[0m\n\u001b[0;32m   4239\u001b[0m \u001b[1;33m\u001b[0m\u001b[0m\n\u001b[1;32m-> 4240\u001b[1;33m         \u001b[1;32mreturn\u001b[0m \u001b[0m_eval\u001b[0m\u001b[1;33m(\u001b[0m\u001b[0mexpr\u001b[0m\u001b[1;33m,\u001b[0m \u001b[0minplace\u001b[0m\u001b[1;33m=\u001b[0m\u001b[0minplace\u001b[0m\u001b[1;33m,\u001b[0m \u001b[1;33m**\u001b[0m\u001b[0mkwargs\u001b[0m\u001b[1;33m)\u001b[0m\u001b[1;33m\u001b[0m\u001b[1;33m\u001b[0m\u001b[0m\n\u001b[0m\u001b[0;32m   4241\u001b[0m \u001b[1;33m\u001b[0m\u001b[0m\n\u001b[0;32m   4242\u001b[0m     \u001b[1;32mdef\u001b[0m \u001b[0mselect_dtypes\u001b[0m\u001b[1;33m(\u001b[0m\u001b[0mself\u001b[0m\u001b[1;33m,\u001b[0m \u001b[0minclude\u001b[0m\u001b[1;33m=\u001b[0m\u001b[1;32mNone\u001b[0m\u001b[1;33m,\u001b[0m \u001b[0mexclude\u001b[0m\u001b[1;33m=\u001b[0m\u001b[1;32mNone\u001b[0m\u001b[1;33m)\u001b[0m \u001b[1;33m->\u001b[0m \u001b[0mDataFrame\u001b[0m\u001b[1;33m:\u001b[0m\u001b[1;33m\u001b[0m\u001b[1;33m\u001b[0m\u001b[0m\n",
      "\u001b[1;32m~\\anaconda3\\lib\\site-packages\\pandas\\core\\computation\\eval.py\u001b[0m in \u001b[0;36meval\u001b[1;34m(expr, parser, engine, truediv, local_dict, global_dict, resolvers, level, target, inplace)\u001b[0m\n\u001b[0;32m    349\u001b[0m         )\n\u001b[0;32m    350\u001b[0m \u001b[1;33m\u001b[0m\u001b[0m\n\u001b[1;32m--> 351\u001b[1;33m         \u001b[0mparsed_expr\u001b[0m \u001b[1;33m=\u001b[0m \u001b[0mExpr\u001b[0m\u001b[1;33m(\u001b[0m\u001b[0mexpr\u001b[0m\u001b[1;33m,\u001b[0m \u001b[0mengine\u001b[0m\u001b[1;33m=\u001b[0m\u001b[0mengine\u001b[0m\u001b[1;33m,\u001b[0m \u001b[0mparser\u001b[0m\u001b[1;33m=\u001b[0m\u001b[0mparser\u001b[0m\u001b[1;33m,\u001b[0m \u001b[0menv\u001b[0m\u001b[1;33m=\u001b[0m\u001b[0menv\u001b[0m\u001b[1;33m)\u001b[0m\u001b[1;33m\u001b[0m\u001b[1;33m\u001b[0m\u001b[0m\n\u001b[0m\u001b[0;32m    352\u001b[0m \u001b[1;33m\u001b[0m\u001b[0m\n\u001b[0;32m    353\u001b[0m         \u001b[1;31m# construct the engine and evaluate the parsed expression\u001b[0m\u001b[1;33m\u001b[0m\u001b[1;33m\u001b[0m\u001b[0m\n",
      "\u001b[1;32m~\\anaconda3\\lib\\site-packages\\pandas\\core\\computation\\expr.py\u001b[0m in \u001b[0;36m__init__\u001b[1;34m(self, expr, engine, parser, env, level)\u001b[0m\n\u001b[0;32m    809\u001b[0m         \u001b[0mself\u001b[0m\u001b[1;33m.\u001b[0m\u001b[0mparser\u001b[0m \u001b[1;33m=\u001b[0m \u001b[0mparser\u001b[0m\u001b[1;33m\u001b[0m\u001b[1;33m\u001b[0m\u001b[0m\n\u001b[0;32m    810\u001b[0m         \u001b[0mself\u001b[0m\u001b[1;33m.\u001b[0m\u001b[0m_visitor\u001b[0m \u001b[1;33m=\u001b[0m \u001b[0mPARSERS\u001b[0m\u001b[1;33m[\u001b[0m\u001b[0mparser\u001b[0m\u001b[1;33m]\u001b[0m\u001b[1;33m(\u001b[0m\u001b[0mself\u001b[0m\u001b[1;33m.\u001b[0m\u001b[0menv\u001b[0m\u001b[1;33m,\u001b[0m \u001b[0mself\u001b[0m\u001b[1;33m.\u001b[0m\u001b[0mengine\u001b[0m\u001b[1;33m,\u001b[0m \u001b[0mself\u001b[0m\u001b[1;33m.\u001b[0m\u001b[0mparser\u001b[0m\u001b[1;33m)\u001b[0m\u001b[1;33m\u001b[0m\u001b[1;33m\u001b[0m\u001b[0m\n\u001b[1;32m--> 811\u001b[1;33m         \u001b[0mself\u001b[0m\u001b[1;33m.\u001b[0m\u001b[0mterms\u001b[0m \u001b[1;33m=\u001b[0m \u001b[0mself\u001b[0m\u001b[1;33m.\u001b[0m\u001b[0mparse\u001b[0m\u001b[1;33m(\u001b[0m\u001b[1;33m)\u001b[0m\u001b[1;33m\u001b[0m\u001b[1;33m\u001b[0m\u001b[0m\n\u001b[0m\u001b[0;32m    812\u001b[0m \u001b[1;33m\u001b[0m\u001b[0m\n\u001b[0;32m    813\u001b[0m     \u001b[1;33m@\u001b[0m\u001b[0mproperty\u001b[0m\u001b[1;33m\u001b[0m\u001b[1;33m\u001b[0m\u001b[0m\n",
      "\u001b[1;32m~\\anaconda3\\lib\\site-packages\\pandas\\core\\computation\\expr.py\u001b[0m in \u001b[0;36mparse\u001b[1;34m(self)\u001b[0m\n\u001b[0;32m    828\u001b[0m         \u001b[0mParse\u001b[0m \u001b[0man\u001b[0m \u001b[0mexpression\u001b[0m\u001b[1;33m.\u001b[0m\u001b[1;33m\u001b[0m\u001b[1;33m\u001b[0m\u001b[0m\n\u001b[0;32m    829\u001b[0m         \"\"\"\n\u001b[1;32m--> 830\u001b[1;33m         \u001b[1;32mreturn\u001b[0m \u001b[0mself\u001b[0m\u001b[1;33m.\u001b[0m\u001b[0m_visitor\u001b[0m\u001b[1;33m.\u001b[0m\u001b[0mvisit\u001b[0m\u001b[1;33m(\u001b[0m\u001b[0mself\u001b[0m\u001b[1;33m.\u001b[0m\u001b[0mexpr\u001b[0m\u001b[1;33m)\u001b[0m\u001b[1;33m\u001b[0m\u001b[1;33m\u001b[0m\u001b[0m\n\u001b[0m\u001b[0;32m    831\u001b[0m \u001b[1;33m\u001b[0m\u001b[0m\n\u001b[0;32m    832\u001b[0m     \u001b[1;33m@\u001b[0m\u001b[0mproperty\u001b[0m\u001b[1;33m\u001b[0m\u001b[1;33m\u001b[0m\u001b[0m\n",
      "\u001b[1;32m~\\anaconda3\\lib\\site-packages\\pandas\\core\\computation\\expr.py\u001b[0m in \u001b[0;36mvisit\u001b[1;34m(self, node, **kwargs)\u001b[0m\n\u001b[0;32m    413\u001b[0m         \u001b[0mmethod\u001b[0m \u001b[1;33m=\u001b[0m \u001b[1;34m\"visit_\"\u001b[0m \u001b[1;33m+\u001b[0m \u001b[0mtype\u001b[0m\u001b[1;33m(\u001b[0m\u001b[0mnode\u001b[0m\u001b[1;33m)\u001b[0m\u001b[1;33m.\u001b[0m\u001b[0m__name__\u001b[0m\u001b[1;33m\u001b[0m\u001b[1;33m\u001b[0m\u001b[0m\n\u001b[0;32m    414\u001b[0m         \u001b[0mvisitor\u001b[0m \u001b[1;33m=\u001b[0m \u001b[0mgetattr\u001b[0m\u001b[1;33m(\u001b[0m\u001b[0mself\u001b[0m\u001b[1;33m,\u001b[0m \u001b[0mmethod\u001b[0m\u001b[1;33m)\u001b[0m\u001b[1;33m\u001b[0m\u001b[1;33m\u001b[0m\u001b[0m\n\u001b[1;32m--> 415\u001b[1;33m         \u001b[1;32mreturn\u001b[0m \u001b[0mvisitor\u001b[0m\u001b[1;33m(\u001b[0m\u001b[0mnode\u001b[0m\u001b[1;33m,\u001b[0m \u001b[1;33m**\u001b[0m\u001b[0mkwargs\u001b[0m\u001b[1;33m)\u001b[0m\u001b[1;33m\u001b[0m\u001b[1;33m\u001b[0m\u001b[0m\n\u001b[0m\u001b[0;32m    416\u001b[0m \u001b[1;33m\u001b[0m\u001b[0m\n\u001b[0;32m    417\u001b[0m     \u001b[1;32mdef\u001b[0m \u001b[0mvisit_Module\u001b[0m\u001b[1;33m(\u001b[0m\u001b[0mself\u001b[0m\u001b[1;33m,\u001b[0m \u001b[0mnode\u001b[0m\u001b[1;33m,\u001b[0m \u001b[1;33m**\u001b[0m\u001b[0mkwargs\u001b[0m\u001b[1;33m)\u001b[0m\u001b[1;33m:\u001b[0m\u001b[1;33m\u001b[0m\u001b[1;33m\u001b[0m\u001b[0m\n",
      "\u001b[1;32m~\\anaconda3\\lib\\site-packages\\pandas\\core\\computation\\expr.py\u001b[0m in \u001b[0;36mvisit_Module\u001b[1;34m(self, node, **kwargs)\u001b[0m\n\u001b[0;32m    419\u001b[0m             \u001b[1;32mraise\u001b[0m \u001b[0mSyntaxError\u001b[0m\u001b[1;33m(\u001b[0m\u001b[1;34m\"only a single expression is allowed\"\u001b[0m\u001b[1;33m)\u001b[0m\u001b[1;33m\u001b[0m\u001b[1;33m\u001b[0m\u001b[0m\n\u001b[0;32m    420\u001b[0m         \u001b[0mexpr\u001b[0m \u001b[1;33m=\u001b[0m \u001b[0mnode\u001b[0m\u001b[1;33m.\u001b[0m\u001b[0mbody\u001b[0m\u001b[1;33m[\u001b[0m\u001b[1;36m0\u001b[0m\u001b[1;33m]\u001b[0m\u001b[1;33m\u001b[0m\u001b[1;33m\u001b[0m\u001b[0m\n\u001b[1;32m--> 421\u001b[1;33m         \u001b[1;32mreturn\u001b[0m \u001b[0mself\u001b[0m\u001b[1;33m.\u001b[0m\u001b[0mvisit\u001b[0m\u001b[1;33m(\u001b[0m\u001b[0mexpr\u001b[0m\u001b[1;33m,\u001b[0m \u001b[1;33m**\u001b[0m\u001b[0mkwargs\u001b[0m\u001b[1;33m)\u001b[0m\u001b[1;33m\u001b[0m\u001b[1;33m\u001b[0m\u001b[0m\n\u001b[0m\u001b[0;32m    422\u001b[0m \u001b[1;33m\u001b[0m\u001b[0m\n\u001b[0;32m    423\u001b[0m     \u001b[1;32mdef\u001b[0m \u001b[0mvisit_Expr\u001b[0m\u001b[1;33m(\u001b[0m\u001b[0mself\u001b[0m\u001b[1;33m,\u001b[0m \u001b[0mnode\u001b[0m\u001b[1;33m,\u001b[0m \u001b[1;33m**\u001b[0m\u001b[0mkwargs\u001b[0m\u001b[1;33m)\u001b[0m\u001b[1;33m:\u001b[0m\u001b[1;33m\u001b[0m\u001b[1;33m\u001b[0m\u001b[0m\n",
      "\u001b[1;32m~\\anaconda3\\lib\\site-packages\\pandas\\core\\computation\\expr.py\u001b[0m in \u001b[0;36mvisit\u001b[1;34m(self, node, **kwargs)\u001b[0m\n\u001b[0;32m    413\u001b[0m         \u001b[0mmethod\u001b[0m \u001b[1;33m=\u001b[0m \u001b[1;34m\"visit_\"\u001b[0m \u001b[1;33m+\u001b[0m \u001b[0mtype\u001b[0m\u001b[1;33m(\u001b[0m\u001b[0mnode\u001b[0m\u001b[1;33m)\u001b[0m\u001b[1;33m.\u001b[0m\u001b[0m__name__\u001b[0m\u001b[1;33m\u001b[0m\u001b[1;33m\u001b[0m\u001b[0m\n\u001b[0;32m    414\u001b[0m         \u001b[0mvisitor\u001b[0m \u001b[1;33m=\u001b[0m \u001b[0mgetattr\u001b[0m\u001b[1;33m(\u001b[0m\u001b[0mself\u001b[0m\u001b[1;33m,\u001b[0m \u001b[0mmethod\u001b[0m\u001b[1;33m)\u001b[0m\u001b[1;33m\u001b[0m\u001b[1;33m\u001b[0m\u001b[0m\n\u001b[1;32m--> 415\u001b[1;33m         \u001b[1;32mreturn\u001b[0m \u001b[0mvisitor\u001b[0m\u001b[1;33m(\u001b[0m\u001b[0mnode\u001b[0m\u001b[1;33m,\u001b[0m \u001b[1;33m**\u001b[0m\u001b[0mkwargs\u001b[0m\u001b[1;33m)\u001b[0m\u001b[1;33m\u001b[0m\u001b[1;33m\u001b[0m\u001b[0m\n\u001b[0m\u001b[0;32m    416\u001b[0m \u001b[1;33m\u001b[0m\u001b[0m\n\u001b[0;32m    417\u001b[0m     \u001b[1;32mdef\u001b[0m \u001b[0mvisit_Module\u001b[0m\u001b[1;33m(\u001b[0m\u001b[0mself\u001b[0m\u001b[1;33m,\u001b[0m \u001b[0mnode\u001b[0m\u001b[1;33m,\u001b[0m \u001b[1;33m**\u001b[0m\u001b[0mkwargs\u001b[0m\u001b[1;33m)\u001b[0m\u001b[1;33m:\u001b[0m\u001b[1;33m\u001b[0m\u001b[1;33m\u001b[0m\u001b[0m\n",
      "\u001b[1;32m~\\anaconda3\\lib\\site-packages\\pandas\\core\\computation\\expr.py\u001b[0m in \u001b[0;36mvisit_Expr\u001b[1;34m(self, node, **kwargs)\u001b[0m\n\u001b[0;32m    422\u001b[0m \u001b[1;33m\u001b[0m\u001b[0m\n\u001b[0;32m    423\u001b[0m     \u001b[1;32mdef\u001b[0m \u001b[0mvisit_Expr\u001b[0m\u001b[1;33m(\u001b[0m\u001b[0mself\u001b[0m\u001b[1;33m,\u001b[0m \u001b[0mnode\u001b[0m\u001b[1;33m,\u001b[0m \u001b[1;33m**\u001b[0m\u001b[0mkwargs\u001b[0m\u001b[1;33m)\u001b[0m\u001b[1;33m:\u001b[0m\u001b[1;33m\u001b[0m\u001b[1;33m\u001b[0m\u001b[0m\n\u001b[1;32m--> 424\u001b[1;33m         \u001b[1;32mreturn\u001b[0m \u001b[0mself\u001b[0m\u001b[1;33m.\u001b[0m\u001b[0mvisit\u001b[0m\u001b[1;33m(\u001b[0m\u001b[0mnode\u001b[0m\u001b[1;33m.\u001b[0m\u001b[0mvalue\u001b[0m\u001b[1;33m,\u001b[0m \u001b[1;33m**\u001b[0m\u001b[0mkwargs\u001b[0m\u001b[1;33m)\u001b[0m\u001b[1;33m\u001b[0m\u001b[1;33m\u001b[0m\u001b[0m\n\u001b[0m\u001b[0;32m    425\u001b[0m \u001b[1;33m\u001b[0m\u001b[0m\n\u001b[0;32m    426\u001b[0m     \u001b[1;32mdef\u001b[0m \u001b[0m_rewrite_membership_op\u001b[0m\u001b[1;33m(\u001b[0m\u001b[0mself\u001b[0m\u001b[1;33m,\u001b[0m \u001b[0mnode\u001b[0m\u001b[1;33m,\u001b[0m \u001b[0mleft\u001b[0m\u001b[1;33m,\u001b[0m \u001b[0mright\u001b[0m\u001b[1;33m)\u001b[0m\u001b[1;33m:\u001b[0m\u001b[1;33m\u001b[0m\u001b[1;33m\u001b[0m\u001b[0m\n",
      "\u001b[1;32m~\\anaconda3\\lib\\site-packages\\pandas\\core\\computation\\expr.py\u001b[0m in \u001b[0;36mvisit\u001b[1;34m(self, node, **kwargs)\u001b[0m\n\u001b[0;32m    413\u001b[0m         \u001b[0mmethod\u001b[0m \u001b[1;33m=\u001b[0m \u001b[1;34m\"visit_\"\u001b[0m \u001b[1;33m+\u001b[0m \u001b[0mtype\u001b[0m\u001b[1;33m(\u001b[0m\u001b[0mnode\u001b[0m\u001b[1;33m)\u001b[0m\u001b[1;33m.\u001b[0m\u001b[0m__name__\u001b[0m\u001b[1;33m\u001b[0m\u001b[1;33m\u001b[0m\u001b[0m\n\u001b[0;32m    414\u001b[0m         \u001b[0mvisitor\u001b[0m \u001b[1;33m=\u001b[0m \u001b[0mgetattr\u001b[0m\u001b[1;33m(\u001b[0m\u001b[0mself\u001b[0m\u001b[1;33m,\u001b[0m \u001b[0mmethod\u001b[0m\u001b[1;33m)\u001b[0m\u001b[1;33m\u001b[0m\u001b[1;33m\u001b[0m\u001b[0m\n\u001b[1;32m--> 415\u001b[1;33m         \u001b[1;32mreturn\u001b[0m \u001b[0mvisitor\u001b[0m\u001b[1;33m(\u001b[0m\u001b[0mnode\u001b[0m\u001b[1;33m,\u001b[0m \u001b[1;33m**\u001b[0m\u001b[0mkwargs\u001b[0m\u001b[1;33m)\u001b[0m\u001b[1;33m\u001b[0m\u001b[1;33m\u001b[0m\u001b[0m\n\u001b[0m\u001b[0;32m    416\u001b[0m \u001b[1;33m\u001b[0m\u001b[0m\n\u001b[0;32m    417\u001b[0m     \u001b[1;32mdef\u001b[0m \u001b[0mvisit_Module\u001b[0m\u001b[1;33m(\u001b[0m\u001b[0mself\u001b[0m\u001b[1;33m,\u001b[0m \u001b[0mnode\u001b[0m\u001b[1;33m,\u001b[0m \u001b[1;33m**\u001b[0m\u001b[0mkwargs\u001b[0m\u001b[1;33m)\u001b[0m\u001b[1;33m:\u001b[0m\u001b[1;33m\u001b[0m\u001b[1;33m\u001b[0m\u001b[0m\n",
      "\u001b[1;32m~\\anaconda3\\lib\\site-packages\\pandas\\core\\computation\\expr.py\u001b[0m in \u001b[0;36mvisit_Compare\u001b[1;34m(self, node, **kwargs)\u001b[0m\n\u001b[0;32m    721\u001b[0m             \u001b[0mop\u001b[0m \u001b[1;33m=\u001b[0m \u001b[0mself\u001b[0m\u001b[1;33m.\u001b[0m\u001b[0mtranslate_In\u001b[0m\u001b[1;33m(\u001b[0m\u001b[0mops\u001b[0m\u001b[1;33m[\u001b[0m\u001b[1;36m0\u001b[0m\u001b[1;33m]\u001b[0m\u001b[1;33m)\u001b[0m\u001b[1;33m\u001b[0m\u001b[1;33m\u001b[0m\u001b[0m\n\u001b[0;32m    722\u001b[0m             \u001b[0mbinop\u001b[0m \u001b[1;33m=\u001b[0m \u001b[0mast\u001b[0m\u001b[1;33m.\u001b[0m\u001b[0mBinOp\u001b[0m\u001b[1;33m(\u001b[0m\u001b[0mop\u001b[0m\u001b[1;33m=\u001b[0m\u001b[0mop\u001b[0m\u001b[1;33m,\u001b[0m \u001b[0mleft\u001b[0m\u001b[1;33m=\u001b[0m\u001b[0mnode\u001b[0m\u001b[1;33m.\u001b[0m\u001b[0mleft\u001b[0m\u001b[1;33m,\u001b[0m \u001b[0mright\u001b[0m\u001b[1;33m=\u001b[0m\u001b[0mcomps\u001b[0m\u001b[1;33m[\u001b[0m\u001b[1;36m0\u001b[0m\u001b[1;33m]\u001b[0m\u001b[1;33m)\u001b[0m\u001b[1;33m\u001b[0m\u001b[1;33m\u001b[0m\u001b[0m\n\u001b[1;32m--> 723\u001b[1;33m             \u001b[1;32mreturn\u001b[0m \u001b[0mself\u001b[0m\u001b[1;33m.\u001b[0m\u001b[0mvisit\u001b[0m\u001b[1;33m(\u001b[0m\u001b[0mbinop\u001b[0m\u001b[1;33m)\u001b[0m\u001b[1;33m\u001b[0m\u001b[1;33m\u001b[0m\u001b[0m\n\u001b[0m\u001b[0;32m    724\u001b[0m \u001b[1;33m\u001b[0m\u001b[0m\n\u001b[0;32m    725\u001b[0m         \u001b[1;31m# recursive case: we have a chained comparison, a CMP b CMP c, etc.\u001b[0m\u001b[1;33m\u001b[0m\u001b[1;33m\u001b[0m\u001b[0m\n",
      "\u001b[1;32m~\\anaconda3\\lib\\site-packages\\pandas\\core\\computation\\expr.py\u001b[0m in \u001b[0;36mvisit\u001b[1;34m(self, node, **kwargs)\u001b[0m\n\u001b[0;32m    413\u001b[0m         \u001b[0mmethod\u001b[0m \u001b[1;33m=\u001b[0m \u001b[1;34m\"visit_\"\u001b[0m \u001b[1;33m+\u001b[0m \u001b[0mtype\u001b[0m\u001b[1;33m(\u001b[0m\u001b[0mnode\u001b[0m\u001b[1;33m)\u001b[0m\u001b[1;33m.\u001b[0m\u001b[0m__name__\u001b[0m\u001b[1;33m\u001b[0m\u001b[1;33m\u001b[0m\u001b[0m\n\u001b[0;32m    414\u001b[0m         \u001b[0mvisitor\u001b[0m \u001b[1;33m=\u001b[0m \u001b[0mgetattr\u001b[0m\u001b[1;33m(\u001b[0m\u001b[0mself\u001b[0m\u001b[1;33m,\u001b[0m \u001b[0mmethod\u001b[0m\u001b[1;33m)\u001b[0m\u001b[1;33m\u001b[0m\u001b[1;33m\u001b[0m\u001b[0m\n\u001b[1;32m--> 415\u001b[1;33m         \u001b[1;32mreturn\u001b[0m \u001b[0mvisitor\u001b[0m\u001b[1;33m(\u001b[0m\u001b[0mnode\u001b[0m\u001b[1;33m,\u001b[0m \u001b[1;33m**\u001b[0m\u001b[0mkwargs\u001b[0m\u001b[1;33m)\u001b[0m\u001b[1;33m\u001b[0m\u001b[1;33m\u001b[0m\u001b[0m\n\u001b[0m\u001b[0;32m    416\u001b[0m \u001b[1;33m\u001b[0m\u001b[0m\n\u001b[0;32m    417\u001b[0m     \u001b[1;32mdef\u001b[0m \u001b[0mvisit_Module\u001b[0m\u001b[1;33m(\u001b[0m\u001b[0mself\u001b[0m\u001b[1;33m,\u001b[0m \u001b[0mnode\u001b[0m\u001b[1;33m,\u001b[0m \u001b[1;33m**\u001b[0m\u001b[0mkwargs\u001b[0m\u001b[1;33m)\u001b[0m\u001b[1;33m:\u001b[0m\u001b[1;33m\u001b[0m\u001b[1;33m\u001b[0m\u001b[0m\n",
      "\u001b[1;32m~\\anaconda3\\lib\\site-packages\\pandas\\core\\computation\\expr.py\u001b[0m in \u001b[0;36mvisit_BinOp\u001b[1;34m(self, node, **kwargs)\u001b[0m\n\u001b[0;32m    534\u001b[0m \u001b[1;33m\u001b[0m\u001b[0m\n\u001b[0;32m    535\u001b[0m     \u001b[1;32mdef\u001b[0m \u001b[0mvisit_BinOp\u001b[0m\u001b[1;33m(\u001b[0m\u001b[0mself\u001b[0m\u001b[1;33m,\u001b[0m \u001b[0mnode\u001b[0m\u001b[1;33m,\u001b[0m \u001b[1;33m**\u001b[0m\u001b[0mkwargs\u001b[0m\u001b[1;33m)\u001b[0m\u001b[1;33m:\u001b[0m\u001b[1;33m\u001b[0m\u001b[1;33m\u001b[0m\u001b[0m\n\u001b[1;32m--> 536\u001b[1;33m         \u001b[0mop\u001b[0m\u001b[1;33m,\u001b[0m \u001b[0mop_class\u001b[0m\u001b[1;33m,\u001b[0m \u001b[0mleft\u001b[0m\u001b[1;33m,\u001b[0m \u001b[0mright\u001b[0m \u001b[1;33m=\u001b[0m \u001b[0mself\u001b[0m\u001b[1;33m.\u001b[0m\u001b[0m_maybe_transform_eq_ne\u001b[0m\u001b[1;33m(\u001b[0m\u001b[0mnode\u001b[0m\u001b[1;33m)\u001b[0m\u001b[1;33m\u001b[0m\u001b[1;33m\u001b[0m\u001b[0m\n\u001b[0m\u001b[0;32m    537\u001b[0m         \u001b[0mleft\u001b[0m\u001b[1;33m,\u001b[0m \u001b[0mright\u001b[0m \u001b[1;33m=\u001b[0m \u001b[0mself\u001b[0m\u001b[1;33m.\u001b[0m\u001b[0m_maybe_downcast_constants\u001b[0m\u001b[1;33m(\u001b[0m\u001b[0mleft\u001b[0m\u001b[1;33m,\u001b[0m \u001b[0mright\u001b[0m\u001b[1;33m)\u001b[0m\u001b[1;33m\u001b[0m\u001b[1;33m\u001b[0m\u001b[0m\n\u001b[0;32m    538\u001b[0m         \u001b[1;32mreturn\u001b[0m \u001b[0mself\u001b[0m\u001b[1;33m.\u001b[0m\u001b[0m_maybe_evaluate_binop\u001b[0m\u001b[1;33m(\u001b[0m\u001b[0mop\u001b[0m\u001b[1;33m,\u001b[0m \u001b[0mop_class\u001b[0m\u001b[1;33m,\u001b[0m \u001b[0mleft\u001b[0m\u001b[1;33m,\u001b[0m \u001b[0mright\u001b[0m\u001b[1;33m)\u001b[0m\u001b[1;33m\u001b[0m\u001b[1;33m\u001b[0m\u001b[0m\n",
      "\u001b[1;32m~\\anaconda3\\lib\\site-packages\\pandas\\core\\computation\\expr.py\u001b[0m in \u001b[0;36m_maybe_transform_eq_ne\u001b[1;34m(self, node, left, right)\u001b[0m\n\u001b[0;32m    456\u001b[0m             \u001b[0mleft\u001b[0m \u001b[1;33m=\u001b[0m \u001b[0mself\u001b[0m\u001b[1;33m.\u001b[0m\u001b[0mvisit\u001b[0m\u001b[1;33m(\u001b[0m\u001b[0mnode\u001b[0m\u001b[1;33m.\u001b[0m\u001b[0mleft\u001b[0m\u001b[1;33m,\u001b[0m \u001b[0mside\u001b[0m\u001b[1;33m=\u001b[0m\u001b[1;34m\"left\"\u001b[0m\u001b[1;33m)\u001b[0m\u001b[1;33m\u001b[0m\u001b[1;33m\u001b[0m\u001b[0m\n\u001b[0;32m    457\u001b[0m         \u001b[1;32mif\u001b[0m \u001b[0mright\u001b[0m \u001b[1;32mis\u001b[0m \u001b[1;32mNone\u001b[0m\u001b[1;33m:\u001b[0m\u001b[1;33m\u001b[0m\u001b[1;33m\u001b[0m\u001b[0m\n\u001b[1;32m--> 458\u001b[1;33m             \u001b[0mright\u001b[0m \u001b[1;33m=\u001b[0m \u001b[0mself\u001b[0m\u001b[1;33m.\u001b[0m\u001b[0mvisit\u001b[0m\u001b[1;33m(\u001b[0m\u001b[0mnode\u001b[0m\u001b[1;33m.\u001b[0m\u001b[0mright\u001b[0m\u001b[1;33m,\u001b[0m \u001b[0mside\u001b[0m\u001b[1;33m=\u001b[0m\u001b[1;34m\"right\"\u001b[0m\u001b[1;33m)\u001b[0m\u001b[1;33m\u001b[0m\u001b[1;33m\u001b[0m\u001b[0m\n\u001b[0m\u001b[0;32m    459\u001b[0m         \u001b[0mop\u001b[0m\u001b[1;33m,\u001b[0m \u001b[0mop_class\u001b[0m\u001b[1;33m,\u001b[0m \u001b[0mleft\u001b[0m\u001b[1;33m,\u001b[0m \u001b[0mright\u001b[0m \u001b[1;33m=\u001b[0m \u001b[0mself\u001b[0m\u001b[1;33m.\u001b[0m\u001b[0m_rewrite_membership_op\u001b[0m\u001b[1;33m(\u001b[0m\u001b[0mnode\u001b[0m\u001b[1;33m,\u001b[0m \u001b[0mleft\u001b[0m\u001b[1;33m,\u001b[0m \u001b[0mright\u001b[0m\u001b[1;33m)\u001b[0m\u001b[1;33m\u001b[0m\u001b[1;33m\u001b[0m\u001b[0m\n\u001b[0;32m    460\u001b[0m         \u001b[1;32mreturn\u001b[0m \u001b[0mop\u001b[0m\u001b[1;33m,\u001b[0m \u001b[0mop_class\u001b[0m\u001b[1;33m,\u001b[0m \u001b[0mleft\u001b[0m\u001b[1;33m,\u001b[0m \u001b[0mright\u001b[0m\u001b[1;33m\u001b[0m\u001b[1;33m\u001b[0m\u001b[0m\n",
      "\u001b[1;32m~\\anaconda3\\lib\\site-packages\\pandas\\core\\computation\\expr.py\u001b[0m in \u001b[0;36mvisit\u001b[1;34m(self, node, **kwargs)\u001b[0m\n\u001b[0;32m    413\u001b[0m         \u001b[0mmethod\u001b[0m \u001b[1;33m=\u001b[0m \u001b[1;34m\"visit_\"\u001b[0m \u001b[1;33m+\u001b[0m \u001b[0mtype\u001b[0m\u001b[1;33m(\u001b[0m\u001b[0mnode\u001b[0m\u001b[1;33m)\u001b[0m\u001b[1;33m.\u001b[0m\u001b[0m__name__\u001b[0m\u001b[1;33m\u001b[0m\u001b[1;33m\u001b[0m\u001b[0m\n\u001b[0;32m    414\u001b[0m         \u001b[0mvisitor\u001b[0m \u001b[1;33m=\u001b[0m \u001b[0mgetattr\u001b[0m\u001b[1;33m(\u001b[0m\u001b[0mself\u001b[0m\u001b[1;33m,\u001b[0m \u001b[0mmethod\u001b[0m\u001b[1;33m)\u001b[0m\u001b[1;33m\u001b[0m\u001b[1;33m\u001b[0m\u001b[0m\n\u001b[1;32m--> 415\u001b[1;33m         \u001b[1;32mreturn\u001b[0m \u001b[0mvisitor\u001b[0m\u001b[1;33m(\u001b[0m\u001b[0mnode\u001b[0m\u001b[1;33m,\u001b[0m \u001b[1;33m**\u001b[0m\u001b[0mkwargs\u001b[0m\u001b[1;33m)\u001b[0m\u001b[1;33m\u001b[0m\u001b[1;33m\u001b[0m\u001b[0m\n\u001b[0m\u001b[0;32m    416\u001b[0m \u001b[1;33m\u001b[0m\u001b[0m\n\u001b[0;32m    417\u001b[0m     \u001b[1;32mdef\u001b[0m \u001b[0mvisit_Module\u001b[0m\u001b[1;33m(\u001b[0m\u001b[0mself\u001b[0m\u001b[1;33m,\u001b[0m \u001b[0mnode\u001b[0m\u001b[1;33m,\u001b[0m \u001b[1;33m**\u001b[0m\u001b[0mkwargs\u001b[0m\u001b[1;33m)\u001b[0m\u001b[1;33m:\u001b[0m\u001b[1;33m\u001b[0m\u001b[1;33m\u001b[0m\u001b[0m\n",
      "\u001b[1;32m~\\anaconda3\\lib\\site-packages\\pandas\\core\\computation\\expr.py\u001b[0m in \u001b[0;36mvisit_Subscript\u001b[1;34m(self, node, **kwargs)\u001b[0m\n\u001b[0;32m    577\u001b[0m         \u001b[0mvalue\u001b[0m \u001b[1;33m=\u001b[0m \u001b[0mself\u001b[0m\u001b[1;33m.\u001b[0m\u001b[0mvisit\u001b[0m\u001b[1;33m(\u001b[0m\u001b[0mnode\u001b[0m\u001b[1;33m.\u001b[0m\u001b[0mvalue\u001b[0m\u001b[1;33m)\u001b[0m\u001b[1;33m\u001b[0m\u001b[1;33m\u001b[0m\u001b[0m\n\u001b[0;32m    578\u001b[0m         \u001b[0mslobj\u001b[0m \u001b[1;33m=\u001b[0m \u001b[0mself\u001b[0m\u001b[1;33m.\u001b[0m\u001b[0mvisit\u001b[0m\u001b[1;33m(\u001b[0m\u001b[0mnode\u001b[0m\u001b[1;33m.\u001b[0m\u001b[0mslice\u001b[0m\u001b[1;33m)\u001b[0m\u001b[1;33m\u001b[0m\u001b[1;33m\u001b[0m\u001b[0m\n\u001b[1;32m--> 579\u001b[1;33m         result = pd_eval(\n\u001b[0m\u001b[0;32m    580\u001b[0m             \u001b[0mslobj\u001b[0m\u001b[1;33m,\u001b[0m \u001b[0mlocal_dict\u001b[0m\u001b[1;33m=\u001b[0m\u001b[0mself\u001b[0m\u001b[1;33m.\u001b[0m\u001b[0menv\u001b[0m\u001b[1;33m,\u001b[0m \u001b[0mengine\u001b[0m\u001b[1;33m=\u001b[0m\u001b[0mself\u001b[0m\u001b[1;33m.\u001b[0m\u001b[0mengine\u001b[0m\u001b[1;33m,\u001b[0m \u001b[0mparser\u001b[0m\u001b[1;33m=\u001b[0m\u001b[0mself\u001b[0m\u001b[1;33m.\u001b[0m\u001b[0mparser\u001b[0m\u001b[1;33m\u001b[0m\u001b[1;33m\u001b[0m\u001b[0m\n\u001b[0;32m    581\u001b[0m         )\n",
      "\u001b[1;32m~\\anaconda3\\lib\\site-packages\\pandas\\core\\computation\\eval.py\u001b[0m in \u001b[0;36meval\u001b[1;34m(expr, parser, engine, truediv, local_dict, global_dict, resolvers, level, target, inplace)\u001b[0m\n\u001b[0;32m    354\u001b[0m         \u001b[0meng\u001b[0m \u001b[1;33m=\u001b[0m \u001b[0mENGINES\u001b[0m\u001b[1;33m[\u001b[0m\u001b[0mengine\u001b[0m\u001b[1;33m]\u001b[0m\u001b[1;33m\u001b[0m\u001b[1;33m\u001b[0m\u001b[0m\n\u001b[0;32m    355\u001b[0m         \u001b[0meng_inst\u001b[0m \u001b[1;33m=\u001b[0m \u001b[0meng\u001b[0m\u001b[1;33m(\u001b[0m\u001b[0mparsed_expr\u001b[0m\u001b[1;33m)\u001b[0m\u001b[1;33m\u001b[0m\u001b[1;33m\u001b[0m\u001b[0m\n\u001b[1;32m--> 356\u001b[1;33m         \u001b[0mret\u001b[0m \u001b[1;33m=\u001b[0m \u001b[0meng_inst\u001b[0m\u001b[1;33m.\u001b[0m\u001b[0mevaluate\u001b[0m\u001b[1;33m(\u001b[0m\u001b[1;33m)\u001b[0m\u001b[1;33m\u001b[0m\u001b[1;33m\u001b[0m\u001b[0m\n\u001b[0m\u001b[0;32m    357\u001b[0m \u001b[1;33m\u001b[0m\u001b[0m\n\u001b[0;32m    358\u001b[0m         \u001b[1;32mif\u001b[0m \u001b[0mparsed_expr\u001b[0m\u001b[1;33m.\u001b[0m\u001b[0massigner\u001b[0m \u001b[1;32mis\u001b[0m \u001b[1;32mNone\u001b[0m\u001b[1;33m:\u001b[0m\u001b[1;33m\u001b[0m\u001b[1;33m\u001b[0m\u001b[0m\n",
      "\u001b[1;32m~\\anaconda3\\lib\\site-packages\\pandas\\core\\computation\\engines.py\u001b[0m in \u001b[0;36mevaluate\u001b[1;34m(self)\u001b[0m\n\u001b[0;32m     78\u001b[0m \u001b[1;33m\u001b[0m\u001b[0m\n\u001b[0;32m     79\u001b[0m         \u001b[1;31m# make sure no names in resolvers and locals/globals clash\u001b[0m\u001b[1;33m\u001b[0m\u001b[1;33m\u001b[0m\u001b[0m\n\u001b[1;32m---> 80\u001b[1;33m         \u001b[0mres\u001b[0m \u001b[1;33m=\u001b[0m \u001b[0mself\u001b[0m\u001b[1;33m.\u001b[0m\u001b[0m_evaluate\u001b[0m\u001b[1;33m(\u001b[0m\u001b[1;33m)\u001b[0m\u001b[1;33m\u001b[0m\u001b[1;33m\u001b[0m\u001b[0m\n\u001b[0m\u001b[0;32m     81\u001b[0m         return reconstruct_object(\n\u001b[0;32m     82\u001b[0m             \u001b[0mself\u001b[0m\u001b[1;33m.\u001b[0m\u001b[0mresult_type\u001b[0m\u001b[1;33m,\u001b[0m \u001b[0mres\u001b[0m\u001b[1;33m,\u001b[0m \u001b[0mself\u001b[0m\u001b[1;33m.\u001b[0m\u001b[0maligned_axes\u001b[0m\u001b[1;33m,\u001b[0m \u001b[0mself\u001b[0m\u001b[1;33m.\u001b[0m\u001b[0mexpr\u001b[0m\u001b[1;33m.\u001b[0m\u001b[0mterms\u001b[0m\u001b[1;33m.\u001b[0m\u001b[0mreturn_type\u001b[0m\u001b[1;33m\u001b[0m\u001b[1;33m\u001b[0m\u001b[0m\n",
      "\u001b[1;32m~\\anaconda3\\lib\\site-packages\\pandas\\core\\computation\\engines.py\u001b[0m in \u001b[0;36m_evaluate\u001b[1;34m(self)\u001b[0m\n\u001b[0;32m    119\u001b[0m         \u001b[0mscope\u001b[0m \u001b[1;33m=\u001b[0m \u001b[0menv\u001b[0m\u001b[1;33m.\u001b[0m\u001b[0mfull_scope\u001b[0m\u001b[1;33m\u001b[0m\u001b[1;33m\u001b[0m\u001b[0m\n\u001b[0;32m    120\u001b[0m         \u001b[0m_check_ne_builtin_clash\u001b[0m\u001b[1;33m(\u001b[0m\u001b[0mself\u001b[0m\u001b[1;33m.\u001b[0m\u001b[0mexpr\u001b[0m\u001b[1;33m)\u001b[0m\u001b[1;33m\u001b[0m\u001b[1;33m\u001b[0m\u001b[0m\n\u001b[1;32m--> 121\u001b[1;33m         \u001b[1;32mreturn\u001b[0m \u001b[0mne\u001b[0m\u001b[1;33m.\u001b[0m\u001b[0mevaluate\u001b[0m\u001b[1;33m(\u001b[0m\u001b[0ms\u001b[0m\u001b[1;33m,\u001b[0m \u001b[0mlocal_dict\u001b[0m\u001b[1;33m=\u001b[0m\u001b[0mscope\u001b[0m\u001b[1;33m)\u001b[0m\u001b[1;33m\u001b[0m\u001b[1;33m\u001b[0m\u001b[0m\n\u001b[0m\u001b[0;32m    122\u001b[0m \u001b[1;33m\u001b[0m\u001b[0m\n\u001b[0;32m    123\u001b[0m \u001b[1;33m\u001b[0m\u001b[0m\n",
      "\u001b[1;32m~\\anaconda3\\lib\\site-packages\\numexpr\\necompiler.py\u001b[0m in \u001b[0;36mevaluate\u001b[1;34m(ex, local_dict, global_dict, out, order, casting, **kwargs)\u001b[0m\n\u001b[0;32m    825\u001b[0m     \u001b[0m_numexpr_last\u001b[0m \u001b[1;33m=\u001b[0m \u001b[0mdict\u001b[0m\u001b[1;33m(\u001b[0m\u001b[0mex\u001b[0m\u001b[1;33m=\u001b[0m\u001b[0mcompiled_ex\u001b[0m\u001b[1;33m,\u001b[0m \u001b[0margnames\u001b[0m\u001b[1;33m=\u001b[0m\u001b[0mnames\u001b[0m\u001b[1;33m,\u001b[0m \u001b[0mkwargs\u001b[0m\u001b[1;33m=\u001b[0m\u001b[0mkwargs\u001b[0m\u001b[1;33m)\u001b[0m\u001b[1;33m\u001b[0m\u001b[1;33m\u001b[0m\u001b[0m\n\u001b[0;32m    826\u001b[0m     \u001b[1;32mwith\u001b[0m \u001b[0mevaluate_lock\u001b[0m\u001b[1;33m:\u001b[0m\u001b[1;33m\u001b[0m\u001b[1;33m\u001b[0m\u001b[0m\n\u001b[1;32m--> 827\u001b[1;33m         \u001b[1;32mreturn\u001b[0m \u001b[0mcompiled_ex\u001b[0m\u001b[1;33m(\u001b[0m\u001b[1;33m*\u001b[0m\u001b[0marguments\u001b[0m\u001b[1;33m,\u001b[0m \u001b[1;33m**\u001b[0m\u001b[0mkwargs\u001b[0m\u001b[1;33m)\u001b[0m\u001b[1;33m\u001b[0m\u001b[1;33m\u001b[0m\u001b[0m\n\u001b[0m\u001b[0;32m    828\u001b[0m \u001b[1;33m\u001b[0m\u001b[0m\n\u001b[0;32m    829\u001b[0m \u001b[1;33m\u001b[0m\u001b[0m\n",
      "\u001b[1;31mValueError\u001b[0m: data type must provide an itemsize"
     ]
    }
   ],
   "source": [
    "#Найдем аудиторию теста recommender_system_test\n",
    "participants_target_test = participants.query('ab_test == \"recommender_system_test\"')\n",
    "right_users = new_users.query('user_id in @participants_target_test[\"user_id\"]')\n",
    "\n",
    "#Проверим даты регистрации новых нужным нам пользователей\n",
    "display(right_users['first_date'].min())\n",
    "right_users['first_date'].max()"
   ]
  },
  {
   "cell_type": "markdown",
   "id": "a0741f89",
   "metadata": {},
   "source": [
    "Новые пользователи целевого теста прошли регистрацию в период, оговоренный в ТЗ, поэтому дополнительная фильтрация по дате не требуется."
   ]
  },
  {
   "cell_type": "code",
   "execution_count": null,
   "id": "1c16b4d3",
   "metadata": {},
   "outputs": [],
   "source": [
    "#Добавим в таблицу данные об участниках\n",
    "right_users = participants_target_test.merge(right_users, on='user_id', how='left')\n",
    "\n",
    "#проверим из каких регионов все участники теста\n",
    "right_users.groupby('region')['user_id'].count()"
   ]
  },
  {
   "cell_type": "code",
   "execution_count": null,
   "id": "82a103d6",
   "metadata": {},
   "outputs": [],
   "source": [
    "#Выберем участников теста из Европы, согласно ТЗ\n",
    "right_users = right_users.query('region == \"EU\"')"
   ]
  },
  {
   "cell_type": "code",
   "execution_count": null,
   "id": "6965a09f",
   "metadata": {
    "scrolled": true
   },
   "outputs": [],
   "source": [
    "#Найдем % новых пользовтелей из Европы, проверим соответствие ТЗ\n",
    "display(f'Всего участников теста {len(right_users)}'),\n",
    "a =(len(right_users)/len(new_users.query('first_date <=\"2020-12-21\" and region ==\"EU\" '))*100)\n",
    "f'Из которых участников из Европы {a}%'"
   ]
  },
  {
   "cell_type": "markdown",
   "id": "316a0f56",
   "metadata": {},
   "source": [
    "Объем теста превышает заявленное количество участников в ТЗ на 351 пользователя.\n",
    "Требование ТЗ в количестве учавствующих и в доле новых Европейцев в тесте - выполнено."
   ]
  },
  {
   "cell_type": "code",
   "execution_count": null,
   "id": "f35c54f4",
   "metadata": {},
   "outputs": [],
   "source": [
    "#За какой период мы располагаем данными:\n",
    "display(events['event_dt'].min())\n",
    "events['event_dt'].max()"
   ]
  },
  {
   "cell_type": "markdown",
   "id": "4799162e",
   "metadata": {},
   "source": [
    "Период данных так же не соответствует ТЗ, поскольку тест должен содержать данные по 2021-01-04 включительно."
   ]
  },
  {
   "cell_type": "code",
   "execution_count": null,
   "id": "91316220",
   "metadata": {},
   "outputs": [],
   "source": [
    "#Отфильтруем события, которые пользователи совершили до 14 дней от даты регистрации.\n",
    "events_users = events.merge(right_users, on='user_id', how='right')\n",
    "#Количество участников до фильтрации\n",
    "events_users['user_id'].nunique()"
   ]
  },
  {
   "cell_type": "code",
   "execution_count": null,
   "id": "56adc4ec",
   "metadata": {
    "scrolled": true
   },
   "outputs": [],
   "source": [
    "#Количество участников без событий\n",
    "users_without_events = events_users.groupby('user_id', as_index=False)['event_dt'].count().query('event_dt<1')['user_id']\n",
    "users_without_events.count()"
   ]
  },
  {
   "cell_type": "code",
   "execution_count": null,
   "id": "9de94cd0",
   "metadata": {},
   "outputs": [],
   "source": [
    "#Рассмотрим пользователей без событий внимательнее\n",
    "events_users.query('user_id in @users_without_events').groupby('first_date')['user_id'].count()"
   ]
  },
  {
   "cell_type": "code",
   "execution_count": null,
   "id": "2d7c3d91",
   "metadata": {
    "scrolled": false
   },
   "outputs": [],
   "source": [
    "events_users.query('user_id in @users_without_events').groupby('device')['user_id'].count().sort_values()"
   ]
  },
  {
   "cell_type": "code",
   "execution_count": null,
   "id": "9b6bb73f",
   "metadata": {
    "scrolled": true
   },
   "outputs": [],
   "source": [
    "events_users.query('user_id in @users_without_events').groupby('first_date')['user_id'].count().sort_values()"
   ]
  },
  {
   "cell_type": "code",
   "execution_count": null,
   "id": "9e0719f3",
   "metadata": {
    "scrolled": true
   },
   "outputs": [],
   "source": [
    "events_users.query('user_id in @users_without_events').groupby('group')['user_id'].count().sort_values()"
   ]
  },
  {
   "cell_type": "code",
   "execution_count": null,
   "id": "f2b02d1e",
   "metadata": {},
   "outputs": [],
   "source": [
    "events_users.query('user_id in @users_without_events').groupby('region')['user_id'].count().sort_values()"
   ]
  },
  {
   "cell_type": "markdown",
   "id": "d0a473ba",
   "metadata": {},
   "source": [
    "Данные пользователи из Европы <br />\n",
    "Учавствуют в тесте recommender_system_test (в группе А 1030 пользователей без событий, в группе Б - 1840) <br />\n",
    "Проходили регистрацию в период с 07 декабря 2020 по 21 декабря 2020. <br />\n",
    "Большая часть пользователей без событий использовали девайс на ОС андроид. <br />\n",
    "Большая часть пользователей без событий прошли регистрацию 13 декабря 2020 года. <br />\n"
   ]
  },
  {
   "cell_type": "code",
   "execution_count": null,
   "id": "a1227621",
   "metadata": {},
   "outputs": [],
   "source": [
    "#Количество событий до фильтрации\n",
    "events_users['event_date'].count()"
   ]
  },
  {
   "cell_type": "code",
   "execution_count": null,
   "id": "acd0b6ae",
   "metadata": {},
   "outputs": [],
   "source": [
    "#Рассчитаем лайфтайм каждого события\n",
    "events_users['lifetime'] = (events_users['event_date'] - events_users['first_date'])\n",
    "#Очистим датасет от лишних событий: согласно ТЗ мы рассматриваем изменения по окончанию 14 дней с момента регистрации\n",
    "events_users = events_users[events_users['lifetime'] <= \"14 days\"]\n",
    "#Количество событий после фильтрации\n",
    "events_users['event_date'].count()"
   ]
  },
  {
   "cell_type": "code",
   "execution_count": null,
   "id": "5d194e01",
   "metadata": {},
   "outputs": [],
   "source": [
    "events_users.info()"
   ]
  },
  {
   "cell_type": "code",
   "execution_count": null,
   "id": "38d03647",
   "metadata": {},
   "outputs": [],
   "source": [
    "#Количество участников без событий\n",
    "events_users.groupby('user_id', as_index=False)['event_dt'].count().query('event_dt<1').count()"
   ]
  },
  {
   "cell_type": "code",
   "execution_count": null,
   "id": "8c38ed12",
   "metadata": {
    "scrolled": false
   },
   "outputs": [],
   "source": [
    "#Отберем рекламные компании, что проводились в Европе в нужный период времени\n",
    "ads['EU'] = ads['regions'].str.contains('EU')\n",
    "right_ads = ads.query('EU == True and start_dt < \"2021-01-04\" and finish_dt > \"2020-12-07\"')\n",
    "right_ads.info()"
   ]
  },
  {
   "cell_type": "markdown",
   "id": "0c47a8ca",
   "metadata": {},
   "source": [
    "Необходимо оценить влияние промо на тестирование. Посмотрим, какое количество покупок могло быть спровоцировано промо:"
   ]
  },
  {
   "cell_type": "code",
   "execution_count": null,
   "id": "14aea063",
   "metadata": {},
   "outputs": [],
   "source": [
    "#среднее время совершения покупки\n",
    "f'Среднее время совершения покупки составляет {events_users[events_users[\"event_name\"] == \"purchase\"][\"lifetime\"].median()}'"
   ]
  },
  {
   "cell_type": "code",
   "execution_count": null,
   "id": "290eaf44",
   "metadata": {},
   "outputs": [],
   "source": [
    "#Сгруппируем данные по дате и группе, чтобы посмотреть как много покупок произошли в период промо\n",
    "purchase = events_users[events_users[\"lifetime\"] >= \"2 days\"][events_users[\"event_name\"] == \"purchase\"]\n",
    "purchase = purchase.pivot_table(index=['event_date', 'group'], values='user_id', aggfunc='count').reset_index()\n",
    "purchase.info()"
   ]
  },
  {
   "cell_type": "code",
   "execution_count": null,
   "id": "dbbe1425",
   "metadata": {},
   "outputs": [],
   "source": [
    "purchase.info()"
   ]
  },
  {
   "cell_type": "code",
   "execution_count": null,
   "id": "faf9e9b5",
   "metadata": {
    "scrolled": false
   },
   "outputs": [],
   "source": [
    "ax = px.bar(purchase, x = 'event_date', y = 'user_id', color = 'group', barmode='overlay',\n",
    "                  labels=dict(event_date=\"Дата\", user_id=\"Колчество событий\", group=\"Группа тестирования\"),\n",
    "                              title='График совершения покупок и проведеня промо')\n",
    "\n",
    "ax.add_vrect(x0=right_ads[\"start_dt\"][0], x1=right_ads[\"finish_dt\"][0], \n",
    "              annotation_text=\"Период проведения промо\", annotation_position=\"top right\",\n",
    "             annotation=dict(font_size=20, font_family=\"Times New Roman\"),\n",
    "              fillcolor=\"green\", opacity=0.25, line_width=0)\n",
    "\n",
    "ax.show()"
   ]
  },
  {
   "cell_type": "code",
   "execution_count": null,
   "id": "8615036c",
   "metadata": {},
   "outputs": [],
   "source": [
    "#какая доля покупок была совершена в период промо\n",
    "perchase_percent = round(len(events_users[events_users[\"lifetime\"] >= \"2 days\"]\\\n",
    "                             [events_users[\"event_name\"] == \"purchase\"][events_users[\"event_date\"]>=right_ads[\"start_dt\"][0]]\\\n",
    "                             [events_users[\"event_date\"]<=right_ads[\"finish_dt\"][0]])\\\n",
    "                         /len(events_users[events_users[\"lifetime\"] >= \"2 days\"]\\\n",
    "                              [events_users[\"event_name\"] == \"purchase\"])*100,2)\n",
    "f'{perchase_percent} % покупок было совершено в период промо участниками теста'"
   ]
  },
  {
   "cell_type": "markdown",
   "id": "45c10745",
   "metadata": {},
   "source": [
    "Четверть покупок было совершено в течение рекламы - много, поэтому есть риск искажения результатов"
   ]
  },
  {
   "cell_type": "code",
   "execution_count": null,
   "id": "a70cea1e",
   "metadata": {},
   "outputs": [],
   "source": [
    "#Количество покупок, совершенных в период промо, в разрезе групп\n",
    "count_purchase_per_promo = purchase[purchase[\"event_date\"]>=right_ads[\"start_dt\"][0]]\\\n",
    "[purchase[\"event_date\"]<=right_ads[\"finish_dt\"][0]].groupby('group')['user_id'].sum()"
   ]
  },
  {
   "cell_type": "code",
   "execution_count": null,
   "id": "601d0329",
   "metadata": {},
   "outputs": [],
   "source": [
    "f'{round(count_purchase_per_promo[0]/purchase.groupby(\"group\")[\"user_id\"].sum()[0]*100, 2)}% от всех своих покупок было совершено в период промо группой А'"
   ]
  },
  {
   "cell_type": "code",
   "execution_count": null,
   "id": "b6499f5f",
   "metadata": {},
   "outputs": [],
   "source": [
    "f'{round(count_purchase_per_promo[1]/purchase.groupby(\"group\")[\"user_id\"].sum()[1]*100, 2)}% от всех своих покупок было совершено в период промо группой B'"
   ]
  },
  {
   "cell_type": "markdown",
   "id": "4e253a02",
   "metadata": {},
   "source": [
    "**Промежуточный вывод**\n",
    "Максимального соответсвия ТЗ выполнить не представилось возможным из-за многочисленных нарушений проведения теста: \n",
    "\n",
    " - данные содержат пользователей другого теста\n",
    " - дата окончания событий 2020-12-30, место 2021-01-04\n",
    " - аудитория теста превысила количество на 351 пользователя. после фильтрации адитория составила 3481 уникального пользователя вместо 6000 (в данных оказалось много пользователей без событий)\n",
    " - в период тестирования были проведены промоакции, которые могут исказить результаты теста."
   ]
  },
  {
   "cell_type": "markdown",
   "id": "c8f50977",
   "metadata": {},
   "source": [
    "## Исследовательский анализ"
   ]
  },
  {
   "cell_type": "code",
   "execution_count": null,
   "id": "64f79c81",
   "metadata": {
    "scrolled": true
   },
   "outputs": [],
   "source": [
    "#За какой период мы располагаем данными:\n",
    "display(events_users['event_dt'].min())\n",
    "events_users['event_dt'].max()"
   ]
  },
  {
   "cell_type": "code",
   "execution_count": null,
   "id": "6831115c",
   "metadata": {
    "scrolled": true
   },
   "outputs": [],
   "source": [
    "#Построим гистограмму количества событий за все время теста\n",
    "plt.figure(figsize=(20, 5))\n",
    "events_users['event_dt'].hist(bins=30)\n",
    "plt.ylabel('Количество событий')\n",
    "plt.xlabel('Дата')\n",
    "plt.title('График событий за время теста')\n",
    "plt.show()"
   ]
  },
  {
   "cell_type": "code",
   "execution_count": null,
   "id": "fd42f533",
   "metadata": {},
   "outputs": [],
   "source": [
    "#Всего уникальных пользователей\n",
    "events_users['user_id'].nunique()"
   ]
  },
  {
   "cell_type": "code",
   "execution_count": null,
   "id": "d8a05390",
   "metadata": {
    "scrolled": true
   },
   "outputs": [],
   "source": [
    "#Количество каждого события\n",
    "events_users.groupby('event_name')['user_id'].count()"
   ]
  },
  {
   "cell_type": "code",
   "execution_count": null,
   "id": "193c5641",
   "metadata": {
    "scrolled": true
   },
   "outputs": [],
   "source": [
    "#Количество пользователей в группах\n",
    "events_users.groupby('group')['user_id'].nunique()"
   ]
  },
  {
   "cell_type": "code",
   "execution_count": null,
   "id": "b6c7a246",
   "metadata": {},
   "outputs": [],
   "source": [
    "f'В среднем на пользователя приходится {events_users.groupby(\"user_id\").agg({\"event_name\":\"count\"}).median()[0].astype(int)} событий'"
   ]
  },
  {
   "cell_type": "code",
   "execution_count": null,
   "id": "811f2673",
   "metadata": {},
   "outputs": [],
   "source": [
    "#Посчитаем долю пользователей, которые хоть раз совершали событие\n",
    "users_more_one_event = events_users.groupby(['group','user_id'], as_index=False).agg({'event_name':'count'})\\\n",
    ".query('event_name >= 1')\n",
    "f'{(round(users_more_one_event[\"user_id\"].count()/(events_users[\"user_id\"].nunique()), 2)*100)} % пользователей хоть раз совершали событие'"
   ]
  },
  {
   "cell_type": "markdown",
   "id": "52fdb7c5",
   "metadata": {},
   "source": [
    "После фильтрафии лайфтайма у нас \"отпали\" пользователи без событий, поэтому сейчас мы имеем 100% пользователей, которые совершали хотя бы одно событие."
   ]
  },
  {
   "cell_type": "code",
   "execution_count": null,
   "id": "12e72865",
   "metadata": {},
   "outputs": [],
   "source": [
    "#Сгруппируем данные по группе теста и количеству совершенных событий одним пользователем\n",
    "users_more_one_event = users_more_one_event.groupby(['group','event_name'], as_index=False)['user_id'].count()\n",
    "users_more_one_event = users_more_one_event.rename(columns={'event_name':'count_events', 'user_id':'count_users'})"
   ]
  },
  {
   "cell_type": "code",
   "execution_count": null,
   "id": "9c6d946b",
   "metadata": {},
   "outputs": [],
   "source": [
    "#Создадим график по сгруппированным данным\n",
    "plt.figure(figsize=(15,5))\n",
    "ax = sns.barplot(hue=\"group\",\n",
    "                 data=users_more_one_event,\n",
    "                 x='count_events',\n",
    "                 y= 'count_users',\n",
    "                 palette=['lightblue', 'blue'])\n",
    "ax.set_title('Количество совершеных событий одним пользователем ')\n",
    "ax.set(xlabel='Количество совершенных событий одним пользователем', ylabel='Количество таких наборов')\n",
    "\n",
    "plt.show()"
   ]
  },
  {
   "cell_type": "markdown",
   "id": "189d30f9",
   "metadata": {},
   "source": [
    "Чаще всего пользователи совершают 4-6 событий, как в группе А, так и в группе В."
   ]
  },
  {
   "cell_type": "code",
   "execution_count": null,
   "id": "e3acc560",
   "metadata": {
    "scrolled": false
   },
   "outputs": [],
   "source": [
    "#Посмотрим распределение количества событий у пользователей в день\n",
    "fig = px.bar(events_users.groupby(['event_date', 'group'], as_index=False)['event_name'].count(),\\\n",
    "                   x='event_date', y='event_name', barmode ='overlay', color='group')\n",
    "\n",
    "fig.update_layout(\n",
    "    title= 'График количества совершенных событий в день группами теста',\n",
    "    xaxis_title='Время проведения теста',\n",
    "    yaxis_title='Количество событий',\n",
    "    )\n",
    "\n",
    "fig.show()"
   ]
  },
  {
   "cell_type": "markdown",
   "id": "99dbc5a8",
   "metadata": {},
   "source": [
    "Количество совершенных событий пользователями в группе В гораздо меньше группы А, но и аудитория контрольной группы сильно превышает экспериментальую. При этом график группы В более равномерный на протяжении всего теста, без больших шоков.\n",
    "В группе А - наоборот: наблюдается резкое увеличение количества событий 14 декабря и резкое уменьшение 22 декабря."
   ]
  },
  {
   "cell_type": "code",
   "execution_count": null,
   "id": "d31457df",
   "metadata": {},
   "outputs": [],
   "source": [
    "#Построим таблицу для анализа воронки\n",
    "funnel = events_users.pivot_table(index='event_name', columns='group', values='user_id', aggfunc='nunique')\n",
    "funnel = funnel.reindex(['login', 'product_page', 'product_cart', 'purchase'])\n",
    "funnel "
   ]
  },
  {
   "cell_type": "code",
   "execution_count": null,
   "id": "3b6ef91d",
   "metadata": {
    "scrolled": true
   },
   "outputs": [],
   "source": [
    "#По воронке событий посчитаем, какая доля пользователей проходит на следующий шаг воронки\n",
    "group = ['A', 'B']\n",
    "for i in group:\n",
    "    funnel['ratio' f'{i}'] = round((funnel[i] / funnel[i].shift()).fillna(1), 2)\n",
    "    funnel['conv'  f'{i}'] = round(funnel[i] / events_users[events_users['group']==i]['user_id'].nunique(), 2)\n",
    "funnel"
   ]
  },
  {
   "cell_type": "code",
   "execution_count": null,
   "id": "e878c85c",
   "metadata": {
    "scrolled": false
   },
   "outputs": [],
   "source": [
    "#Построим воронку по количеству событий\n",
    "plt.figure(figsize=(15,8))\n",
    "fig = px.funnel(funnel, y=funnel.index, x=[\"A\", \"B\"],\n",
    "                template=\"simple_white\",\n",
    "                title='Воронка событий (количество событий)',)\n",
    "fig.update_traces(textinfo = \"value+percent initial+percent previous\")\n",
    "fig.show()"
   ]
  },
  {
   "cell_type": "markdown",
   "id": "28d1ed0d",
   "metadata": {},
   "source": [
    "Провал конверсий на событии product_cart объясняется тем, что это необязательный этап при оформлении заказа.\n",
    "Если обратить внимание на конверсию к исходному числу пользователей, то можно отметить разницу между группами: конверсия группы А выше на каждом событии."
   ]
  },
  {
   "cell_type": "markdown",
   "id": "8a406fd7",
   "metadata": {},
   "source": [
    "**Промежуточный вывод**\n",
    "С учетом нарушений проведения тестирования, подведем промежуточный итог исследовательского анализа:\n",
    "- объем аудиторий групп А и В сильно отличается\n",
    "- с группе А наблюдается резкий скачек событий с 14 декабря по 22 декабря\n",
    "- динамика событий группы В более плавная и равномерная\n",
    "- конверсия группы В на каждом этапе ниже конверсии группы А"
   ]
  },
  {
   "cell_type": "markdown",
   "id": "a690c30e",
   "metadata": {},
   "source": [
    "## Статистический анализ результатов A/B тестирования"
   ]
  },
  {
   "cell_type": "markdown",
   "id": "b598c9ee",
   "metadata": {},
   "source": [
    "Цель статистического анализа результатов тестирования - проверить разницу в конверсии от начального этапа воронки.\n",
    "У нас три события, значит мы должны провести три сравнительных теста аудитории групп А и В:\n",
    "-  в событии product_cart\n",
    "-  в событии product_page\n",
    "-  в событии purchase"
   ]
  },
  {
   "cell_type": "code",
   "execution_count": null,
   "id": "dab0ec12",
   "metadata": {},
   "outputs": [],
   "source": [
    "#Рассчитаем мощность теста\n",
    "f'вероятность ни разу не ошибиться: {((1-0.05)**3)}'"
   ]
  },
  {
   "cell_type": "code",
   "execution_count": null,
   "id": "b088d46b",
   "metadata": {},
   "outputs": [],
   "source": [
    "f'вероятность ошибиться хоть раз за два сравнения: {1-((1-0.05)**3)}'"
   ]
  },
  {
   "cell_type": "markdown",
   "id": "5c7249ae",
   "metadata": {},
   "source": [
    "Вероятность ошибиться достачно высокая, для минимизации ошибки второго рода применим поправку Бонферрони для множественного сравнения:"
   ]
  },
  {
   "cell_type": "code",
   "execution_count": null,
   "id": "497cc80d",
   "metadata": {},
   "outputs": [],
   "source": [
    "alpha = 0.05 #Уровень значимости\n",
    "bonferroni_alpha = alpha/3 #Поправка Бонферрони"
   ]
  },
  {
   "cell_type": "code",
   "execution_count": null,
   "id": "1fbf1715",
   "metadata": {
    "scrolled": true
   },
   "outputs": [],
   "source": [
    "#Поскольку количество польвателей в событии login - это объем всей аудитории тестовой группы,\n",
    "#то сравнение 100% одной группы со 100% другой группы не имеет значения\n",
    "test_funnel = funnel.query('event_name != \"login\"').reset_index()\n",
    "test_funnel"
   ]
  },
  {
   "cell_type": "code",
   "execution_count": null,
   "id": "2a40cad6",
   "metadata": {},
   "outputs": [],
   "source": [
    "#Объем аудиторий тестовых групп выведем в отдельную таблицу\n",
    "total_users = funnel.query('event_name == \"login\"')[[\"A\",\"B\"]].reset_index()\n",
    "total_users"
   ]
  },
  {
   "cell_type": "code",
   "execution_count": null,
   "id": "951d8aa8",
   "metadata": {},
   "outputs": [],
   "source": [
    "#Напишем формулу для эффективности кода\n",
    "def z_test(group_1, group_2, alpha):\n",
    "    for i in test_funnel.index:\n",
    "        \n",
    "        p1 = test_funnel[group_1][i] / total_users[group_1]\n",
    "        p2 = test_funnel[group_2][i] / total_users[group_2]\n",
    "\n",
    "        p_combined = ((test_funnel[group_1][i] + test_funnel[group_2][i]) / \n",
    "                      (total_users[group_1] + total_users[group_2]))\n",
    "        dif = p1-p2\n",
    "        z_value = dif/ mth.sqrt(p_combined * (1-p_combined)*\n",
    "                            (1/(total_users[group_1]) +\n",
    "                             1/(total_users[group_2])))\n",
    "        distr = st.norm(0,1)\n",
    "        p_value = (1 - distr.cdf(abs(z_value)))*2\n",
    "        \n",
    "        print('{} p-значение: {}'.format(test_funnel['event_name'][i], p_value))\n",
    "        if (p_value < alpha):\n",
    "            print(\"Отвергаем нулевую гипотезу: между группами есть значимая разница\")\n",
    "        else:\n",
    "            print(\"Не получилось отвергнуть нулевую гипотезу, нет оснований считать группы разными\")"
   ]
  },
  {
   "cell_type": "markdown",
   "id": "05c0c64b",
   "metadata": {},
   "source": [
    "1. Проверим, находят ли статистические критерии разницу между конверсиями события product_cart в группах А и В. \n",
    "**Нулевая гипотеза:** Конверсия события product_cart группы А  **равна** конверсие события product_cart группы B.\n",
    "**Альтернативная гипотеза:** Конверсия события product_cart группы А  **не равна** конверсие события product_cart группы B.\n",
    "\n",
    "2. Проверим, находят ли статистические критерии разницу между конверсиями события product_page в группах А и В. \n",
    "**Нулевая гипотеза:** Конверсия события product_page группы А  **равна** конверсие события product_page группы B.\n",
    "**Альтернативная гипотеза:** Конверсия события product_page группы А  **не равна** конверсие события product_page группы B.\n",
    "\n",
    "3. Проверим, находят ли статистические критерии разницу между конверсиями события purchase в группах А и В. \n",
    "**Нулевая гипотеза:** Конверсия события purchase группы А  **равна** конверсие события purchase группы B.\n",
    "**Альтернативная гипотеза:** Конверсия события purchase группы А  **не равна** конверсие события purchase группы B.\n",
    "\n",
    "\n",
    "Уровень значимости 0,05."
   ]
  },
  {
   "cell_type": "code",
   "execution_count": null,
   "id": "ab09f087",
   "metadata": {
    "scrolled": true
   },
   "outputs": [],
   "source": [
    "#Проведем сравнительный тест пропорций\n",
    "z_test(\"A\", \"B\", alpha)"
   ]
  },
  {
   "cell_type": "markdown",
   "id": "77f46d31",
   "metadata": {},
   "source": [
    "Отсутствие отличий в группах подтвердилось только в событии product_cart, но поскольку это событие является не обязательным для оформления покупки, то данное равенство не очень показательно.\n",
    "В остальных событиях - разница значима. С условием, что конверсия группы А превышает конверсию группы В в этих событиях, условие ТЗ о повышении показателей на 10% - не выполняется ни на одном из событий."
   ]
  },
  {
   "cell_type": "markdown",
   "id": "cfb0c6a9",
   "metadata": {},
   "source": [
    "## Результат исследования\n",
    "\n",
    "В рамках анализа в представленных данных была проведена предобработка. Далее была попытка выделить аудиторию теста по пунктам требованияй ТЗ. Собрать аудиторию максимально отвечающую требованиям не представилось возможным, поскольку сам тест был проведен со множеством нарушений:\n",
    " - наличие другого тестирования\n",
    " - наличие промо в даты тестирования\n",
    " - данные не невыдерживают сроки тестирования\n",
    " - не набран объем аудитории\n",
    "В связи с наличием другого теста, была проведена проверка равномерности \"примесей\" участников экспериментальной группы другого теста в аудитории целевого теста.\n",
    "Так же были определены доли продаж, совершенных в период промоакции.\n",
    "\n",
    "На сформированной аудитории теста был проведен исследовательский анализ, построена воронка событий, расчитаны конверсии событий. Все показатели говорят об отсутсвии успеха в экспериментальнйо группе В целевого теста.\n",
    "\n",
    "Результаты статистического теста сравнения конверсий группы А и группы В так же подверждают вывод об отсутствии положительного эффекта от применения новой рекомендательной системы."
   ]
  }
 ],
 "metadata": {
  "ExecuteTimeLog": [
   {
    "duration": 1508,
    "start_time": "2023-07-05T11:57:34.095Z"
   },
   {
    "duration": 1915,
    "start_time": "2023-07-05T11:57:35.614Z"
   },
   {
    "duration": 4,
    "start_time": "2023-07-05T11:57:37.531Z"
   },
   {
    "duration": 29,
    "start_time": "2023-07-05T11:57:37.537Z"
   },
   {
    "duration": 425,
    "start_time": "2023-07-05T11:57:37.568Z"
   },
   {
    "duration": 73,
    "start_time": "2023-07-05T11:57:37.995Z"
   },
   {
    "duration": 15,
    "start_time": "2023-07-05T11:57:38.070Z"
   },
   {
    "duration": 159,
    "start_time": "2023-07-05T11:57:38.087Z"
   },
   {
    "duration": 210,
    "start_time": "2023-07-05T11:57:38.249Z"
   },
   {
    "duration": 28,
    "start_time": "2023-07-05T11:57:38.462Z"
   },
   {
    "duration": 79,
    "start_time": "2023-07-05T11:57:38.492Z"
   },
   {
    "duration": 13,
    "start_time": "2023-07-05T11:57:38.573Z"
   },
   {
    "duration": 38,
    "start_time": "2023-07-05T11:57:38.588Z"
   },
   {
    "duration": 10,
    "start_time": "2023-07-05T11:57:38.627Z"
   },
   {
    "duration": 14,
    "start_time": "2023-07-05T11:57:38.639Z"
   },
   {
    "duration": 85,
    "start_time": "2023-07-05T11:57:38.655Z"
   },
   {
    "duration": 8,
    "start_time": "2023-07-05T11:57:38.742Z"
   },
   {
    "duration": 23,
    "start_time": "2023-07-05T11:57:38.751Z"
   },
   {
    "duration": 19,
    "start_time": "2023-07-05T11:57:38.776Z"
   },
   {
    "duration": 149,
    "start_time": "2023-07-05T11:57:38.797Z"
   },
   {
    "duration": 21,
    "start_time": "2023-07-05T11:57:38.948Z"
   },
   {
    "duration": 4,
    "start_time": "2023-07-05T11:57:38.971Z"
   },
   {
    "duration": 20,
    "start_time": "2023-07-05T11:57:38.977Z"
   },
   {
    "duration": 44,
    "start_time": "2023-07-05T11:57:38.999Z"
   },
   {
    "duration": 15,
    "start_time": "2023-07-05T11:57:39.045Z"
   },
   {
    "duration": 42,
    "start_time": "2023-07-05T11:57:39.062Z"
   },
   {
    "duration": 21,
    "start_time": "2023-07-05T11:57:39.106Z"
   },
   {
    "duration": 351,
    "start_time": "2023-07-05T11:57:39.131Z"
   },
   {
    "duration": 9,
    "start_time": "2023-07-05T11:57:39.484Z"
   },
   {
    "duration": 31,
    "start_time": "2023-07-05T11:57:39.495Z"
   },
   {
    "duration": 12,
    "start_time": "2023-07-05T11:57:39.528Z"
   },
   {
    "duration": 16,
    "start_time": "2023-07-05T11:57:39.542Z"
   },
   {
    "duration": 24,
    "start_time": "2023-07-05T11:57:39.559Z"
   },
   {
    "duration": 996,
    "start_time": "2023-07-05T11:57:39.585Z"
   },
   {
    "duration": 303,
    "start_time": "2023-07-05T11:57:40.583Z"
   },
   {
    "duration": 0,
    "start_time": "2023-07-05T11:57:40.888Z"
   },
   {
    "duration": 0,
    "start_time": "2023-07-05T11:57:40.890Z"
   },
   {
    "duration": 0,
    "start_time": "2023-07-05T11:57:40.892Z"
   },
   {
    "duration": 0,
    "start_time": "2023-07-05T11:57:40.893Z"
   },
   {
    "duration": 0,
    "start_time": "2023-07-05T11:57:40.895Z"
   },
   {
    "duration": 0,
    "start_time": "2023-07-05T11:57:40.896Z"
   },
   {
    "duration": 0,
    "start_time": "2023-07-05T11:57:40.920Z"
   },
   {
    "duration": 62587,
    "start_time": "2023-07-05T11:57:58.707Z"
   },
   {
    "duration": 1471,
    "start_time": "2023-07-05T12:00:31.276Z"
   },
   {
    "duration": 1209,
    "start_time": "2023-07-05T12:00:32.750Z"
   },
   {
    "duration": 3,
    "start_time": "2023-07-05T12:00:33.961Z"
   },
   {
    "duration": 43,
    "start_time": "2023-07-05T12:00:33.967Z"
   },
   {
    "duration": 383,
    "start_time": "2023-07-05T12:00:34.012Z"
   },
   {
    "duration": 70,
    "start_time": "2023-07-05T12:00:34.397Z"
   },
   {
    "duration": 15,
    "start_time": "2023-07-05T12:00:34.469Z"
   },
   {
    "duration": 135,
    "start_time": "2023-07-05T12:00:34.486Z"
   },
   {
    "duration": 208,
    "start_time": "2023-07-05T12:00:34.623Z"
   },
   {
    "duration": 28,
    "start_time": "2023-07-05T12:00:34.834Z"
   },
   {
    "duration": 63,
    "start_time": "2023-07-05T12:00:34.864Z"
   },
   {
    "duration": 12,
    "start_time": "2023-07-05T12:00:34.929Z"
   },
   {
    "duration": 20,
    "start_time": "2023-07-05T12:00:34.943Z"
   },
   {
    "duration": 19,
    "start_time": "2023-07-05T12:00:34.964Z"
   },
   {
    "duration": 20,
    "start_time": "2023-07-05T12:00:34.985Z"
   },
   {
    "duration": 70,
    "start_time": "2023-07-05T12:00:35.006Z"
   },
   {
    "duration": 9,
    "start_time": "2023-07-05T12:00:35.078Z"
   },
   {
    "duration": 49,
    "start_time": "2023-07-05T12:00:35.088Z"
   },
   {
    "duration": 29,
    "start_time": "2023-07-05T12:00:35.139Z"
   },
   {
    "duration": 129,
    "start_time": "2023-07-05T12:00:35.170Z"
   },
   {
    "duration": 29,
    "start_time": "2023-07-05T12:00:35.301Z"
   },
   {
    "duration": 5,
    "start_time": "2023-07-05T12:00:35.332Z"
   },
   {
    "duration": 13,
    "start_time": "2023-07-05T12:00:35.339Z"
   },
   {
    "duration": 20,
    "start_time": "2023-07-05T12:00:35.354Z"
   },
   {
    "duration": 31,
    "start_time": "2023-07-05T12:00:35.376Z"
   },
   {
    "duration": 36,
    "start_time": "2023-07-05T12:00:35.412Z"
   },
   {
    "duration": 30,
    "start_time": "2023-07-05T12:00:35.450Z"
   },
   {
    "duration": 346,
    "start_time": "2023-07-05T12:00:35.484Z"
   },
   {
    "duration": 10,
    "start_time": "2023-07-05T12:00:35.831Z"
   },
   {
    "duration": 10,
    "start_time": "2023-07-05T12:00:35.842Z"
   },
   {
    "duration": 21,
    "start_time": "2023-07-05T12:00:35.854Z"
   },
   {
    "duration": 18,
    "start_time": "2023-07-05T12:00:35.877Z"
   },
   {
    "duration": 49,
    "start_time": "2023-07-05T12:00:35.897Z"
   },
   {
    "duration": 798,
    "start_time": "2023-07-05T12:00:35.948Z"
   },
   {
    "duration": 173,
    "start_time": "2023-07-05T12:00:36.748Z"
   },
   {
    "duration": 26,
    "start_time": "2023-07-05T12:00:36.928Z"
   },
   {
    "duration": 27,
    "start_time": "2023-07-05T12:00:36.956Z"
   },
   {
    "duration": 101,
    "start_time": "2023-07-05T12:00:36.985Z"
   },
   {
    "duration": 72,
    "start_time": "2023-07-05T12:00:37.088Z"
   },
   {
    "duration": 17,
    "start_time": "2023-07-05T12:00:37.162Z"
   },
   {
    "duration": 17,
    "start_time": "2023-07-05T12:00:37.181Z"
   },
   {
    "duration": 18,
    "start_time": "2023-07-05T12:00:37.215Z"
   },
   {
    "duration": 1371,
    "start_time": "2023-07-05T12:20:48.398Z"
   },
   {
    "duration": 1065,
    "start_time": "2023-07-05T12:20:49.772Z"
   },
   {
    "duration": 3,
    "start_time": "2023-07-05T12:20:50.839Z"
   },
   {
    "duration": 37,
    "start_time": "2023-07-05T12:20:50.844Z"
   },
   {
    "duration": 376,
    "start_time": "2023-07-05T12:20:50.883Z"
   },
   {
    "duration": 66,
    "start_time": "2023-07-05T12:20:51.261Z"
   },
   {
    "duration": 15,
    "start_time": "2023-07-05T12:20:51.329Z"
   },
   {
    "duration": 122,
    "start_time": "2023-07-05T12:20:51.346Z"
   },
   {
    "duration": 211,
    "start_time": "2023-07-05T12:20:51.470Z"
   },
   {
    "duration": 40,
    "start_time": "2023-07-05T12:20:51.684Z"
   },
   {
    "duration": 38,
    "start_time": "2023-07-05T12:20:51.726Z"
   },
   {
    "duration": 13,
    "start_time": "2023-07-05T12:20:51.765Z"
   },
   {
    "duration": 38,
    "start_time": "2023-07-05T12:20:51.780Z"
   },
   {
    "duration": 7,
    "start_time": "2023-07-05T12:20:51.820Z"
   },
   {
    "duration": 25,
    "start_time": "2023-07-05T12:20:51.830Z"
   },
   {
    "duration": 63,
    "start_time": "2023-07-05T12:20:51.857Z"
   },
   {
    "duration": 11,
    "start_time": "2023-07-05T12:20:51.922Z"
   },
   {
    "duration": 22,
    "start_time": "2023-07-05T12:20:51.934Z"
   },
   {
    "duration": 11,
    "start_time": "2023-07-05T12:20:51.958Z"
   },
   {
    "duration": 155,
    "start_time": "2023-07-05T12:20:51.971Z"
   },
   {
    "duration": 20,
    "start_time": "2023-07-05T12:20:52.128Z"
   },
   {
    "duration": 4,
    "start_time": "2023-07-05T12:20:52.150Z"
   },
   {
    "duration": 18,
    "start_time": "2023-07-05T12:20:52.156Z"
   },
   {
    "duration": 37,
    "start_time": "2023-07-05T12:20:52.176Z"
   },
   {
    "duration": 37,
    "start_time": "2023-07-05T12:20:52.215Z"
   },
   {
    "duration": 22,
    "start_time": "2023-07-05T12:20:52.254Z"
   },
   {
    "duration": 9,
    "start_time": "2023-07-05T12:20:52.278Z"
   },
   {
    "duration": 327,
    "start_time": "2023-07-05T12:20:52.292Z"
   },
   {
    "duration": 10,
    "start_time": "2023-07-05T12:20:52.621Z"
   },
   {
    "duration": 9,
    "start_time": "2023-07-05T12:20:52.633Z"
   },
   {
    "duration": 21,
    "start_time": "2023-07-05T12:20:52.644Z"
   },
   {
    "duration": 15,
    "start_time": "2023-07-05T12:20:52.666Z"
   },
   {
    "duration": 51,
    "start_time": "2023-07-05T12:20:52.683Z"
   },
   {
    "duration": 752,
    "start_time": "2023-07-05T12:20:52.736Z"
   },
   {
    "duration": 135,
    "start_time": "2023-07-05T12:20:53.490Z"
   },
   {
    "duration": 35,
    "start_time": "2023-07-05T12:20:53.626Z"
   },
   {
    "duration": 86,
    "start_time": "2023-07-05T12:20:53.663Z"
   },
   {
    "duration": 101,
    "start_time": "2023-07-05T12:20:53.751Z"
   },
   {
    "duration": 100,
    "start_time": "2023-07-05T12:20:53.855Z"
   },
   {
    "duration": 17,
    "start_time": "2023-07-05T12:20:53.957Z"
   },
   {
    "duration": 21,
    "start_time": "2023-07-05T12:20:53.977Z"
   },
   {
    "duration": 12,
    "start_time": "2023-07-05T12:20:54.013Z"
   },
   {
    "duration": 1367,
    "start_time": "2023-07-05T12:34:59.963Z"
   },
   {
    "duration": 1406,
    "start_time": "2023-07-05T12:35:01.334Z"
   },
   {
    "duration": 7,
    "start_time": "2023-07-05T12:35:02.751Z"
   },
   {
    "duration": 78,
    "start_time": "2023-07-05T12:35:02.761Z"
   },
   {
    "duration": 511,
    "start_time": "2023-07-05T12:35:02.849Z"
   },
   {
    "duration": 94,
    "start_time": "2023-07-05T12:35:03.362Z"
   },
   {
    "duration": 198,
    "start_time": "2023-07-05T12:35:03.461Z"
   },
   {
    "duration": 335,
    "start_time": "2023-07-05T12:35:03.661Z"
   },
   {
    "duration": 227,
    "start_time": "2023-07-05T12:35:03.998Z"
   },
   {
    "duration": 41,
    "start_time": "2023-07-05T12:35:04.238Z"
   },
   {
    "duration": 63,
    "start_time": "2023-07-05T12:35:04.281Z"
   },
   {
    "duration": 17,
    "start_time": "2023-07-05T12:35:04.347Z"
   },
   {
    "duration": 31,
    "start_time": "2023-07-05T12:35:04.366Z"
   },
   {
    "duration": 23,
    "start_time": "2023-07-05T12:35:04.399Z"
   },
   {
    "duration": 27,
    "start_time": "2023-07-05T12:35:04.424Z"
   },
   {
    "duration": 81,
    "start_time": "2023-07-05T12:35:04.453Z"
   },
   {
    "duration": 9,
    "start_time": "2023-07-05T12:35:04.540Z"
   },
   {
    "duration": 23,
    "start_time": "2023-07-05T12:35:04.551Z"
   },
   {
    "duration": 19,
    "start_time": "2023-07-05T12:35:04.576Z"
   },
   {
    "duration": 159,
    "start_time": "2023-07-05T12:35:04.597Z"
   },
   {
    "duration": 28,
    "start_time": "2023-07-05T12:35:04.759Z"
   },
   {
    "duration": 37,
    "start_time": "2023-07-05T12:35:04.789Z"
   },
   {
    "duration": 24,
    "start_time": "2023-07-05T12:35:04.828Z"
   },
   {
    "duration": 38,
    "start_time": "2023-07-05T12:35:04.860Z"
   },
   {
    "duration": 26,
    "start_time": "2023-07-05T12:35:04.900Z"
   },
   {
    "duration": 38,
    "start_time": "2023-07-05T12:35:04.934Z"
   },
   {
    "duration": 8,
    "start_time": "2023-07-05T12:35:04.974Z"
   },
   {
    "duration": 410,
    "start_time": "2023-07-05T12:35:04.987Z"
   },
   {
    "duration": 27,
    "start_time": "2023-07-05T12:35:05.400Z"
   },
   {
    "duration": 13,
    "start_time": "2023-07-05T12:35:05.431Z"
   },
   {
    "duration": 48,
    "start_time": "2023-07-05T12:35:05.446Z"
   },
   {
    "duration": 23,
    "start_time": "2023-07-05T12:35:05.496Z"
   },
   {
    "duration": 46,
    "start_time": "2023-07-05T12:35:05.522Z"
   },
   {
    "duration": 894,
    "start_time": "2023-07-05T12:35:05.571Z"
   },
   {
    "duration": 170,
    "start_time": "2023-07-05T12:35:06.468Z"
   },
   {
    "duration": 81,
    "start_time": "2023-07-05T12:35:06.640Z"
   },
   {
    "duration": 36,
    "start_time": "2023-07-05T12:35:06.723Z"
   },
   {
    "duration": 109,
    "start_time": "2023-07-05T12:35:06.761Z"
   },
   {
    "duration": 77,
    "start_time": "2023-07-05T12:35:06.872Z"
   },
   {
    "duration": 14,
    "start_time": "2023-07-05T12:35:06.951Z"
   },
   {
    "duration": 26,
    "start_time": "2023-07-05T12:35:06.967Z"
   },
   {
    "duration": 45,
    "start_time": "2023-07-05T12:35:06.995Z"
   },
   {
    "duration": 1385,
    "start_time": "2023-07-10T11:27:26.872Z"
   },
   {
    "duration": 1044,
    "start_time": "2023-07-10T11:27:28.258Z"
   },
   {
    "duration": 4,
    "start_time": "2023-07-10T11:27:29.303Z"
   },
   {
    "duration": 28,
    "start_time": "2023-07-10T11:27:29.309Z"
   },
   {
    "duration": 340,
    "start_time": "2023-07-10T11:27:29.340Z"
   },
   {
    "duration": 64,
    "start_time": "2023-07-10T11:27:29.681Z"
   },
   {
    "duration": 38,
    "start_time": "2023-07-10T11:27:29.747Z"
   },
   {
    "duration": 45,
    "start_time": "2023-07-10T11:27:29.786Z"
   },
   {
    "duration": 11,
    "start_time": "2023-07-10T11:27:29.833Z"
   },
   {
    "duration": 178,
    "start_time": "2023-07-10T11:27:29.846Z"
   },
   {
    "duration": 184,
    "start_time": "2023-07-10T11:27:30.026Z"
   },
   {
    "duration": 26,
    "start_time": "2023-07-10T11:27:30.212Z"
   },
   {
    "duration": 29,
    "start_time": "2023-07-10T11:27:30.240Z"
   },
   {
    "duration": 37,
    "start_time": "2023-07-10T11:27:30.273Z"
   },
   {
    "duration": 32,
    "start_time": "2023-07-10T11:27:30.312Z"
   },
   {
    "duration": 1368,
    "start_time": "2023-07-10T12:51:10.714Z"
   },
   {
    "duration": 979,
    "start_time": "2023-07-10T12:51:12.084Z"
   },
   {
    "duration": 4,
    "start_time": "2023-07-10T12:51:13.065Z"
   },
   {
    "duration": 29,
    "start_time": "2023-07-10T12:51:13.071Z"
   },
   {
    "duration": 360,
    "start_time": "2023-07-10T12:51:13.101Z"
   },
   {
    "duration": 63,
    "start_time": "2023-07-10T12:51:13.462Z"
   },
   {
    "duration": 19,
    "start_time": "2023-07-10T12:51:13.527Z"
   },
   {
    "duration": 59,
    "start_time": "2023-07-10T12:51:13.547Z"
   },
   {
    "duration": 11,
    "start_time": "2023-07-10T12:51:13.608Z"
   },
   {
    "duration": 185,
    "start_time": "2023-07-10T12:51:13.623Z"
   },
   {
    "duration": 231,
    "start_time": "2023-07-10T12:51:13.810Z"
   },
   {
    "duration": 39,
    "start_time": "2023-07-10T12:51:14.043Z"
   },
   {
    "duration": 12,
    "start_time": "2023-07-10T12:51:14.085Z"
   },
   {
    "duration": 26,
    "start_time": "2023-07-10T12:51:14.099Z"
   },
   {
    "duration": 12,
    "start_time": "2023-07-10T12:51:14.126Z"
   },
   {
    "duration": 54,
    "start_time": "2023-07-10T12:51:14.140Z"
   },
   {
    "duration": 51,
    "start_time": "2023-07-10T12:51:14.196Z"
   },
   {
    "duration": 13,
    "start_time": "2023-07-10T12:51:14.249Z"
   },
   {
    "duration": 8,
    "start_time": "2023-07-10T12:51:14.264Z"
   },
   {
    "duration": 151,
    "start_time": "2023-07-10T12:51:14.274Z"
   },
   {
    "duration": 12,
    "start_time": "2023-07-10T12:51:14.427Z"
   },
   {
    "duration": 15,
    "start_time": "2023-07-10T12:51:14.441Z"
   },
   {
    "duration": 19,
    "start_time": "2023-07-10T12:51:14.458Z"
   },
   {
    "duration": 14,
    "start_time": "2023-07-10T12:51:14.479Z"
   },
   {
    "duration": 14,
    "start_time": "2023-07-10T12:51:14.495Z"
   },
   {
    "duration": 14,
    "start_time": "2023-07-10T12:51:14.510Z"
   },
   {
    "duration": 5,
    "start_time": "2023-07-10T12:51:14.526Z"
   },
   {
    "duration": 37,
    "start_time": "2023-07-10T12:51:14.534Z"
   },
   {
    "duration": 12,
    "start_time": "2023-07-10T12:51:14.572Z"
   },
   {
    "duration": 9,
    "start_time": "2023-07-10T12:51:14.585Z"
   },
   {
    "duration": 8,
    "start_time": "2023-07-10T12:51:14.596Z"
   },
   {
    "duration": 17,
    "start_time": "2023-07-10T12:51:14.606Z"
   },
   {
    "duration": 383,
    "start_time": "2023-07-10T12:51:14.624Z"
   },
   {
    "duration": 26,
    "start_time": "2023-07-10T12:51:15.009Z"
   },
   {
    "duration": 885,
    "start_time": "2023-07-10T12:51:15.036Z"
   },
   {
    "duration": 0,
    "start_time": "2023-07-10T12:51:15.922Z"
   },
   {
    "duration": 0,
    "start_time": "2023-07-10T12:51:15.923Z"
   },
   {
    "duration": 0,
    "start_time": "2023-07-10T12:51:15.924Z"
   },
   {
    "duration": 0,
    "start_time": "2023-07-10T12:51:15.925Z"
   },
   {
    "duration": 0,
    "start_time": "2023-07-10T12:51:15.926Z"
   },
   {
    "duration": 0,
    "start_time": "2023-07-10T12:51:15.927Z"
   },
   {
    "duration": 0,
    "start_time": "2023-07-10T12:51:15.928Z"
   },
   {
    "duration": 0,
    "start_time": "2023-07-10T12:51:15.929Z"
   },
   {
    "duration": 0,
    "start_time": "2023-07-10T12:51:15.930Z"
   },
   {
    "duration": 0,
    "start_time": "2023-07-10T12:51:15.931Z"
   },
   {
    "duration": 0,
    "start_time": "2023-07-10T12:51:15.932Z"
   },
   {
    "duration": 0,
    "start_time": "2023-07-10T12:51:15.933Z"
   },
   {
    "duration": 0,
    "start_time": "2023-07-10T12:51:15.934Z"
   },
   {
    "duration": 0,
    "start_time": "2023-07-10T12:51:15.935Z"
   },
   {
    "duration": 0,
    "start_time": "2023-07-10T12:51:15.936Z"
   },
   {
    "duration": 0,
    "start_time": "2023-07-10T12:51:15.937Z"
   },
   {
    "duration": 0,
    "start_time": "2023-07-10T12:51:15.938Z"
   },
   {
    "duration": 0,
    "start_time": "2023-07-10T12:51:15.939Z"
   },
   {
    "duration": 0,
    "start_time": "2023-07-10T12:51:15.941Z"
   },
   {
    "duration": 0,
    "start_time": "2023-07-10T12:51:15.941Z"
   },
   {
    "duration": 0,
    "start_time": "2023-07-10T12:51:15.942Z"
   },
   {
    "duration": 0,
    "start_time": "2023-07-10T12:51:15.943Z"
   },
   {
    "duration": 8,
    "start_time": "2023-07-10T12:51:53.912Z"
   },
   {
    "duration": 16,
    "start_time": "2023-07-10T12:52:18.298Z"
   },
   {
    "duration": 17,
    "start_time": "2023-07-10T12:52:21.953Z"
   },
   {
    "duration": 514,
    "start_time": "2023-07-10T12:53:32.608Z"
   },
   {
    "duration": 558,
    "start_time": "2023-07-10T12:53:43.857Z"
   },
   {
    "duration": 3,
    "start_time": "2023-07-10T12:53:55.203Z"
   },
   {
    "duration": 8,
    "start_time": "2023-07-10T12:53:58.199Z"
   },
   {
    "duration": 10,
    "start_time": "2023-07-10T12:54:00.613Z"
   },
   {
    "duration": 12,
    "start_time": "2023-07-10T12:54:04.837Z"
   },
   {
    "duration": 4,
    "start_time": "2023-07-10T12:54:07.315Z"
   },
   {
    "duration": 427,
    "start_time": "2023-07-10T12:54:47.904Z"
   },
   {
    "duration": 4,
    "start_time": "2023-07-10T12:55:31.542Z"
   },
   {
    "duration": 475,
    "start_time": "2023-07-10T12:55:35.693Z"
   },
   {
    "duration": 7,
    "start_time": "2023-07-10T12:56:05.012Z"
   },
   {
    "duration": 6,
    "start_time": "2023-07-10T12:56:14.186Z"
   },
   {
    "duration": 20,
    "start_time": "2023-07-10T12:56:19.828Z"
   },
   {
    "duration": 5,
    "start_time": "2023-07-10T12:56:24.661Z"
   },
   {
    "duration": 5,
    "start_time": "2023-07-10T12:56:28.317Z"
   },
   {
    "duration": 4,
    "start_time": "2023-07-10T12:56:37.954Z"
   },
   {
    "duration": 4,
    "start_time": "2023-07-10T12:56:39.926Z"
   },
   {
    "duration": 4,
    "start_time": "2023-07-10T12:56:43.925Z"
   },
   {
    "duration": 5,
    "start_time": "2023-07-10T12:56:48.401Z"
   },
   {
    "duration": 388,
    "start_time": "2023-07-10T12:56:57.201Z"
   },
   {
    "duration": 521,
    "start_time": "2023-07-10T12:57:01.403Z"
   },
   {
    "duration": 9,
    "start_time": "2023-07-10T12:57:33.750Z"
   },
   {
    "duration": 487,
    "start_time": "2023-07-10T12:58:44.332Z"
   },
   {
    "duration": 7,
    "start_time": "2023-07-10T12:58:56.615Z"
   },
   {
    "duration": 4,
    "start_time": "2023-07-10T12:59:15.035Z"
   },
   {
    "duration": 4,
    "start_time": "2023-07-10T12:59:19.327Z"
   },
   {
    "duration": 4,
    "start_time": "2023-07-10T12:59:28.309Z"
   },
   {
    "duration": 671,
    "start_time": "2023-07-10T12:59:36.712Z"
   },
   {
    "duration": 4,
    "start_time": "2023-07-10T13:00:01.865Z"
   },
   {
    "duration": 613,
    "start_time": "2023-07-10T13:00:03.890Z"
   },
   {
    "duration": 12,
    "start_time": "2023-07-10T13:00:23.660Z"
   },
   {
    "duration": 10,
    "start_time": "2023-07-10T13:00:28.088Z"
   },
   {
    "duration": 608,
    "start_time": "2023-07-10T13:00:49.369Z"
   },
   {
    "duration": 568,
    "start_time": "2023-07-10T13:00:54.520Z"
   },
   {
    "duration": 462,
    "start_time": "2023-07-10T13:00:59.092Z"
   },
   {
    "duration": 579,
    "start_time": "2023-07-10T13:01:01.944Z"
   },
   {
    "duration": 1508,
    "start_time": "2023-07-10T13:02:27.520Z"
   },
   {
    "duration": 1229,
    "start_time": "2023-07-10T13:02:29.030Z"
   },
   {
    "duration": 4,
    "start_time": "2023-07-10T13:02:30.261Z"
   },
   {
    "duration": 73,
    "start_time": "2023-07-10T13:02:30.268Z"
   },
   {
    "duration": 497,
    "start_time": "2023-07-10T13:02:30.343Z"
   },
   {
    "duration": 81,
    "start_time": "2023-07-10T13:02:30.842Z"
   },
   {
    "duration": 19,
    "start_time": "2023-07-10T13:02:30.924Z"
   },
   {
    "duration": 98,
    "start_time": "2023-07-10T13:02:30.945Z"
   },
   {
    "duration": 36,
    "start_time": "2023-07-10T13:02:31.045Z"
   },
   {
    "duration": 163,
    "start_time": "2023-07-10T13:02:31.084Z"
   },
   {
    "duration": 172,
    "start_time": "2023-07-10T13:02:31.249Z"
   },
   {
    "duration": 22,
    "start_time": "2023-07-10T13:02:31.423Z"
   },
   {
    "duration": 39,
    "start_time": "2023-07-10T13:02:31.446Z"
   },
   {
    "duration": 60,
    "start_time": "2023-07-10T13:02:31.487Z"
   },
   {
    "duration": 41,
    "start_time": "2023-07-10T13:02:31.549Z"
   },
   {
    "duration": 63,
    "start_time": "2023-07-10T13:02:31.592Z"
   },
   {
    "duration": 80,
    "start_time": "2023-07-10T13:02:31.656Z"
   },
   {
    "duration": 53,
    "start_time": "2023-07-10T13:02:31.738Z"
   },
   {
    "duration": 12,
    "start_time": "2023-07-10T13:02:31.793Z"
   },
   {
    "duration": 150,
    "start_time": "2023-07-10T13:02:31.807Z"
   },
   {
    "duration": 26,
    "start_time": "2023-07-10T13:02:31.959Z"
   },
   {
    "duration": 32,
    "start_time": "2023-07-10T13:02:31.987Z"
   },
   {
    "duration": 33,
    "start_time": "2023-07-10T13:02:32.021Z"
   },
   {
    "duration": 54,
    "start_time": "2023-07-10T13:02:32.056Z"
   },
   {
    "duration": 36,
    "start_time": "2023-07-10T13:02:32.112Z"
   },
   {
    "duration": 46,
    "start_time": "2023-07-10T13:02:32.149Z"
   },
   {
    "duration": 56,
    "start_time": "2023-07-10T13:02:32.196Z"
   },
   {
    "duration": 49,
    "start_time": "2023-07-10T13:02:32.256Z"
   },
   {
    "duration": 38,
    "start_time": "2023-07-10T13:02:32.307Z"
   },
   {
    "duration": 39,
    "start_time": "2023-07-10T13:02:32.347Z"
   },
   {
    "duration": 44,
    "start_time": "2023-07-10T13:02:32.388Z"
   },
   {
    "duration": 37,
    "start_time": "2023-07-10T13:02:32.435Z"
   },
   {
    "duration": 632,
    "start_time": "2023-07-10T13:02:32.477Z"
   },
   {
    "duration": 21,
    "start_time": "2023-07-10T13:02:33.111Z"
   },
   {
    "duration": 1032,
    "start_time": "2023-07-10T13:02:33.133Z"
   },
   {
    "duration": 0,
    "start_time": "2023-07-10T13:02:34.167Z"
   },
   {
    "duration": 0,
    "start_time": "2023-07-10T13:02:34.169Z"
   },
   {
    "duration": 0,
    "start_time": "2023-07-10T13:02:34.171Z"
   },
   {
    "duration": 0,
    "start_time": "2023-07-10T13:02:34.172Z"
   },
   {
    "duration": 0,
    "start_time": "2023-07-10T13:02:34.175Z"
   },
   {
    "duration": 0,
    "start_time": "2023-07-10T13:02:34.178Z"
   },
   {
    "duration": 0,
    "start_time": "2023-07-10T13:02:34.180Z"
   },
   {
    "duration": 0,
    "start_time": "2023-07-10T13:02:34.182Z"
   },
   {
    "duration": 0,
    "start_time": "2023-07-10T13:02:34.183Z"
   },
   {
    "duration": 0,
    "start_time": "2023-07-10T13:02:34.184Z"
   },
   {
    "duration": 0,
    "start_time": "2023-07-10T13:02:34.186Z"
   },
   {
    "duration": 0,
    "start_time": "2023-07-10T13:02:34.187Z"
   },
   {
    "duration": 0,
    "start_time": "2023-07-10T13:02:34.188Z"
   },
   {
    "duration": 0,
    "start_time": "2023-07-10T13:02:34.189Z"
   },
   {
    "duration": 1,
    "start_time": "2023-07-10T13:02:34.190Z"
   },
   {
    "duration": 0,
    "start_time": "2023-07-10T13:02:34.192Z"
   },
   {
    "duration": 0,
    "start_time": "2023-07-10T13:02:34.193Z"
   },
   {
    "duration": 0,
    "start_time": "2023-07-10T13:02:34.195Z"
   },
   {
    "duration": 0,
    "start_time": "2023-07-10T13:02:34.197Z"
   },
   {
    "duration": 0,
    "start_time": "2023-07-10T13:02:34.198Z"
   },
   {
    "duration": 0,
    "start_time": "2023-07-10T13:02:34.200Z"
   },
   {
    "duration": 0,
    "start_time": "2023-07-10T13:02:34.202Z"
   },
   {
    "duration": 574,
    "start_time": "2023-07-10T13:03:19.922Z"
   },
   {
    "duration": 7,
    "start_time": "2023-07-10T13:04:32.133Z"
   },
   {
    "duration": 207,
    "start_time": "2023-07-10T13:04:32.639Z"
   },
   {
    "duration": 7,
    "start_time": "2023-07-10T13:04:33.359Z"
   },
   {
    "duration": 8,
    "start_time": "2023-07-10T13:04:33.693Z"
   },
   {
    "duration": 10,
    "start_time": "2023-07-10T13:04:33.835Z"
   },
   {
    "duration": 15,
    "start_time": "2023-07-10T13:04:33.982Z"
   },
   {
    "duration": 23,
    "start_time": "2023-07-10T13:04:34.124Z"
   },
   {
    "duration": 7,
    "start_time": "2023-07-10T13:04:34.711Z"
   },
   {
    "duration": 395,
    "start_time": "2023-07-10T13:04:34.791Z"
   },
   {
    "duration": 18,
    "start_time": "2023-07-10T13:04:35.208Z"
   },
   {
    "duration": 20,
    "start_time": "2023-07-10T13:04:35.459Z"
   },
   {
    "duration": 24,
    "start_time": "2023-07-10T13:04:35.543Z"
   },
   {
    "duration": 810,
    "start_time": "2023-07-10T13:04:35.885Z"
   },
   {
    "duration": 4,
    "start_time": "2023-07-10T13:04:37.846Z"
   },
   {
    "duration": 3,
    "start_time": "2023-07-10T13:04:38.041Z"
   },
   {
    "duration": 3,
    "start_time": "2023-07-10T13:04:39.391Z"
   },
   {
    "duration": 13,
    "start_time": "2023-07-10T13:04:39.988Z"
   },
   {
    "duration": 10,
    "start_time": "2023-07-10T13:04:40.186Z"
   },
   {
    "duration": 5,
    "start_time": "2023-07-10T13:04:41.332Z"
   },
   {
    "duration": 14,
    "start_time": "2023-07-10T13:04:41.909Z"
   },
   {
    "duration": 1415,
    "start_time": "2023-07-10T13:05:24.383Z"
   },
   {
    "duration": 1335,
    "start_time": "2023-07-10T13:05:25.800Z"
   },
   {
    "duration": 4,
    "start_time": "2023-07-10T13:05:27.137Z"
   },
   {
    "duration": 28,
    "start_time": "2023-07-10T13:05:27.142Z"
   },
   {
    "duration": 367,
    "start_time": "2023-07-10T13:05:27.173Z"
   },
   {
    "duration": 71,
    "start_time": "2023-07-10T13:05:27.542Z"
   },
   {
    "duration": 20,
    "start_time": "2023-07-10T13:05:27.615Z"
   },
   {
    "duration": 82,
    "start_time": "2023-07-10T13:05:27.637Z"
   },
   {
    "duration": 16,
    "start_time": "2023-07-10T13:05:27.722Z"
   },
   {
    "duration": 190,
    "start_time": "2023-07-10T13:05:27.740Z"
   },
   {
    "duration": 206,
    "start_time": "2023-07-10T13:05:27.932Z"
   },
   {
    "duration": 39,
    "start_time": "2023-07-10T13:05:28.140Z"
   },
   {
    "duration": 11,
    "start_time": "2023-07-10T13:05:28.181Z"
   },
   {
    "duration": 23,
    "start_time": "2023-07-10T13:05:28.196Z"
   },
   {
    "duration": 13,
    "start_time": "2023-07-10T13:05:28.221Z"
   },
   {
    "duration": 6,
    "start_time": "2023-07-10T13:05:28.269Z"
   },
   {
    "duration": 44,
    "start_time": "2023-07-10T13:05:28.277Z"
   },
   {
    "duration": 17,
    "start_time": "2023-07-10T13:05:28.323Z"
   },
   {
    "duration": 28,
    "start_time": "2023-07-10T13:05:28.343Z"
   },
   {
    "duration": 159,
    "start_time": "2023-07-10T13:05:28.372Z"
   },
   {
    "duration": 37,
    "start_time": "2023-07-10T13:05:28.533Z"
   },
   {
    "duration": 18,
    "start_time": "2023-07-10T13:05:28.573Z"
   },
   {
    "duration": 25,
    "start_time": "2023-07-10T13:05:28.593Z"
   },
   {
    "duration": 15,
    "start_time": "2023-07-10T13:05:28.620Z"
   },
   {
    "duration": 37,
    "start_time": "2023-07-10T13:05:28.637Z"
   },
   {
    "duration": 13,
    "start_time": "2023-07-10T13:05:28.677Z"
   },
   {
    "duration": 8,
    "start_time": "2023-07-10T13:05:28.692Z"
   },
   {
    "duration": 16,
    "start_time": "2023-07-10T13:05:28.702Z"
   },
   {
    "duration": 49,
    "start_time": "2023-07-10T13:05:28.720Z"
   },
   {
    "duration": 10,
    "start_time": "2023-07-10T13:05:28.771Z"
   },
   {
    "duration": 11,
    "start_time": "2023-07-10T13:05:28.783Z"
   },
   {
    "duration": 18,
    "start_time": "2023-07-10T13:05:28.796Z"
   },
   {
    "duration": 635,
    "start_time": "2023-07-10T13:05:28.815Z"
   },
   {
    "duration": 25,
    "start_time": "2023-07-10T13:05:29.452Z"
   },
   {
    "duration": 964,
    "start_time": "2023-07-10T13:05:29.479Z"
   },
   {
    "duration": 0,
    "start_time": "2023-07-10T13:05:30.445Z"
   },
   {
    "duration": 0,
    "start_time": "2023-07-10T13:05:30.447Z"
   },
   {
    "duration": 0,
    "start_time": "2023-07-10T13:05:30.448Z"
   },
   {
    "duration": 0,
    "start_time": "2023-07-10T13:05:30.449Z"
   },
   {
    "duration": 0,
    "start_time": "2023-07-10T13:05:30.451Z"
   },
   {
    "duration": 0,
    "start_time": "2023-07-10T13:05:30.452Z"
   },
   {
    "duration": 0,
    "start_time": "2023-07-10T13:05:30.454Z"
   },
   {
    "duration": 0,
    "start_time": "2023-07-10T13:05:30.455Z"
   },
   {
    "duration": 0,
    "start_time": "2023-07-10T13:05:30.457Z"
   },
   {
    "duration": 0,
    "start_time": "2023-07-10T13:05:30.458Z"
   },
   {
    "duration": 0,
    "start_time": "2023-07-10T13:05:30.459Z"
   },
   {
    "duration": 0,
    "start_time": "2023-07-10T13:05:30.461Z"
   },
   {
    "duration": 0,
    "start_time": "2023-07-10T13:05:30.463Z"
   },
   {
    "duration": 0,
    "start_time": "2023-07-10T13:05:30.464Z"
   },
   {
    "duration": 1,
    "start_time": "2023-07-10T13:05:30.465Z"
   },
   {
    "duration": 0,
    "start_time": "2023-07-10T13:05:30.467Z"
   },
   {
    "duration": 0,
    "start_time": "2023-07-10T13:05:30.469Z"
   },
   {
    "duration": 0,
    "start_time": "2023-07-10T13:05:30.470Z"
   },
   {
    "duration": 0,
    "start_time": "2023-07-10T13:05:30.472Z"
   },
   {
    "duration": 0,
    "start_time": "2023-07-10T13:05:30.475Z"
   },
   {
    "duration": 0,
    "start_time": "2023-07-10T13:05:30.476Z"
   },
   {
    "duration": 0,
    "start_time": "2023-07-10T13:05:30.478Z"
   },
   {
    "duration": 0,
    "start_time": "2023-07-10T13:05:30.479Z"
   },
   {
    "duration": 67217,
    "start_time": "2023-07-10T13:06:32.820Z"
   },
   {
    "duration": 1592,
    "start_time": "2023-07-10T13:08:31.330Z"
   },
   {
    "duration": 1215,
    "start_time": "2023-07-10T13:08:32.924Z"
   },
   {
    "duration": 4,
    "start_time": "2023-07-10T13:08:34.141Z"
   },
   {
    "duration": 32,
    "start_time": "2023-07-10T13:08:34.148Z"
   },
   {
    "duration": 357,
    "start_time": "2023-07-10T13:08:34.182Z"
   },
   {
    "duration": 75,
    "start_time": "2023-07-10T13:08:34.541Z"
   },
   {
    "duration": 19,
    "start_time": "2023-07-10T13:08:34.617Z"
   },
   {
    "duration": 55,
    "start_time": "2023-07-10T13:08:34.638Z"
   },
   {
    "duration": 11,
    "start_time": "2023-07-10T13:08:34.695Z"
   },
   {
    "duration": 143,
    "start_time": "2023-07-10T13:08:34.708Z"
   },
   {
    "duration": 176,
    "start_time": "2023-07-10T13:08:34.852Z"
   },
   {
    "duration": 51,
    "start_time": "2023-07-10T13:08:35.030Z"
   },
   {
    "duration": 11,
    "start_time": "2023-07-10T13:08:35.083Z"
   },
   {
    "duration": 19,
    "start_time": "2023-07-10T13:08:35.096Z"
   },
   {
    "duration": 7,
    "start_time": "2023-07-10T13:08:35.116Z"
   },
   {
    "duration": 13,
    "start_time": "2023-07-10T13:08:35.125Z"
   },
   {
    "duration": 49,
    "start_time": "2023-07-10T13:08:35.139Z"
   },
   {
    "duration": 11,
    "start_time": "2023-07-10T13:08:35.190Z"
   },
   {
    "duration": 7,
    "start_time": "2023-07-10T13:08:35.203Z"
   },
   {
    "duration": 150,
    "start_time": "2023-07-10T13:08:35.211Z"
   },
   {
    "duration": 18,
    "start_time": "2023-07-10T13:08:35.363Z"
   },
   {
    "duration": 12,
    "start_time": "2023-07-10T13:08:35.382Z"
   },
   {
    "duration": 13,
    "start_time": "2023-07-10T13:08:35.395Z"
   },
   {
    "duration": 13,
    "start_time": "2023-07-10T13:08:35.409Z"
   },
   {
    "duration": 48,
    "start_time": "2023-07-10T13:08:35.424Z"
   },
   {
    "duration": 10,
    "start_time": "2023-07-10T13:08:35.475Z"
   },
   {
    "duration": 16,
    "start_time": "2023-07-10T13:08:35.487Z"
   },
   {
    "duration": 24,
    "start_time": "2023-07-10T13:08:35.506Z"
   },
   {
    "duration": 14,
    "start_time": "2023-07-10T13:08:35.531Z"
   },
   {
    "duration": 13,
    "start_time": "2023-07-10T13:08:35.546Z"
   },
   {
    "duration": 8,
    "start_time": "2023-07-10T13:08:35.567Z"
   },
   {
    "duration": 19,
    "start_time": "2023-07-10T13:08:35.576Z"
   },
   {
    "duration": 572,
    "start_time": "2023-07-10T13:08:35.596Z"
   },
   {
    "duration": 18,
    "start_time": "2023-07-10T13:08:36.170Z"
   },
   {
    "duration": 851,
    "start_time": "2023-07-10T13:08:36.190Z"
   },
   {
    "duration": 0,
    "start_time": "2023-07-10T13:08:37.042Z"
   },
   {
    "duration": 0,
    "start_time": "2023-07-10T13:08:37.044Z"
   },
   {
    "duration": 0,
    "start_time": "2023-07-10T13:08:37.046Z"
   },
   {
    "duration": 0,
    "start_time": "2023-07-10T13:08:37.047Z"
   },
   {
    "duration": 0,
    "start_time": "2023-07-10T13:08:37.048Z"
   },
   {
    "duration": 0,
    "start_time": "2023-07-10T13:08:37.049Z"
   },
   {
    "duration": 0,
    "start_time": "2023-07-10T13:08:37.050Z"
   },
   {
    "duration": 0,
    "start_time": "2023-07-10T13:08:37.051Z"
   },
   {
    "duration": 0,
    "start_time": "2023-07-10T13:08:37.053Z"
   },
   {
    "duration": 0,
    "start_time": "2023-07-10T13:08:37.054Z"
   },
   {
    "duration": 0,
    "start_time": "2023-07-10T13:08:37.055Z"
   },
   {
    "duration": 0,
    "start_time": "2023-07-10T13:08:37.057Z"
   },
   {
    "duration": 0,
    "start_time": "2023-07-10T13:08:37.058Z"
   },
   {
    "duration": 0,
    "start_time": "2023-07-10T13:08:37.059Z"
   },
   {
    "duration": 0,
    "start_time": "2023-07-10T13:08:37.060Z"
   },
   {
    "duration": 0,
    "start_time": "2023-07-10T13:08:37.061Z"
   },
   {
    "duration": 0,
    "start_time": "2023-07-10T13:08:37.063Z"
   },
   {
    "duration": 0,
    "start_time": "2023-07-10T13:08:37.065Z"
   },
   {
    "duration": 0,
    "start_time": "2023-07-10T13:08:37.066Z"
   },
   {
    "duration": 0,
    "start_time": "2023-07-10T13:08:37.067Z"
   },
   {
    "duration": 0,
    "start_time": "2023-07-10T13:08:37.069Z"
   },
   {
    "duration": 1,
    "start_time": "2023-07-10T13:08:37.069Z"
   },
   {
    "duration": 610,
    "start_time": "2023-07-10T13:08:54.415Z"
   },
   {
    "duration": 12,
    "start_time": "2023-07-10T13:10:05.190Z"
   },
   {
    "duration": 9,
    "start_time": "2023-07-10T13:10:16.054Z"
   },
   {
    "duration": 18,
    "start_time": "2023-07-10T13:10:34.390Z"
   },
   {
    "duration": 15,
    "start_time": "2023-07-10T13:10:52.917Z"
   },
   {
    "duration": 13,
    "start_time": "2023-07-10T13:10:55.951Z"
   },
   {
    "duration": 16,
    "start_time": "2023-07-10T13:11:00.119Z"
   },
   {
    "duration": 8,
    "start_time": "2023-07-10T13:11:06.102Z"
   },
   {
    "duration": 13,
    "start_time": "2023-07-10T13:11:23.611Z"
   },
   {
    "duration": 19,
    "start_time": "2023-07-10T13:12:08.350Z"
   },
   {
    "duration": 14,
    "start_time": "2023-07-10T13:12:24.285Z"
   },
   {
    "duration": 199,
    "start_time": "2023-07-10T13:12:46.701Z"
   },
   {
    "duration": 1703,
    "start_time": "2023-07-10T13:13:02.088Z"
   },
   {
    "duration": 268,
    "start_time": "2023-07-10T13:13:04.317Z"
   },
   {
    "duration": 772,
    "start_time": "2023-07-10T13:13:11.328Z"
   },
   {
    "duration": 510,
    "start_time": "2023-07-10T13:13:30.126Z"
   },
   {
    "duration": 310,
    "start_time": "2023-07-10T13:13:34.486Z"
   },
   {
    "duration": 353,
    "start_time": "2023-07-10T13:13:48.960Z"
   },
   {
    "duration": 13,
    "start_time": "2023-07-10T13:13:59.222Z"
   },
   {
    "duration": 13,
    "start_time": "2023-07-10T13:14:16.990Z"
   },
   {
    "duration": 328,
    "start_time": "2023-07-10T13:14:19.846Z"
   },
   {
    "duration": 292,
    "start_time": "2023-07-10T13:14:54.897Z"
   },
   {
    "duration": 402,
    "start_time": "2023-07-10T13:15:07.121Z"
   },
   {
    "duration": 9,
    "start_time": "2023-07-10T13:15:46.520Z"
   },
   {
    "duration": 335,
    "start_time": "2023-07-10T13:16:03.951Z"
   },
   {
    "duration": 16,
    "start_time": "2023-07-10T13:16:24.593Z"
   },
   {
    "duration": 406,
    "start_time": "2023-07-10T13:17:48.015Z"
   },
   {
    "duration": 369,
    "start_time": "2023-07-10T13:17:51.312Z"
   },
   {
    "duration": 435,
    "start_time": "2023-07-10T13:17:59.689Z"
   },
   {
    "duration": 650,
    "start_time": "2023-07-10T13:18:09.834Z"
   },
   {
    "duration": 641,
    "start_time": "2023-07-10T13:18:15.711Z"
   },
   {
    "duration": 8,
    "start_time": "2023-07-10T13:19:13.163Z"
   },
   {
    "duration": 4,
    "start_time": "2023-07-10T13:19:28.301Z"
   },
   {
    "duration": 728,
    "start_time": "2023-07-10T13:19:29.803Z"
   },
   {
    "duration": 654,
    "start_time": "2023-07-10T13:19:38.193Z"
   },
   {
    "duration": 392,
    "start_time": "2023-07-10T13:19:47.908Z"
   },
   {
    "duration": 799,
    "start_time": "2023-07-10T13:19:53.738Z"
   },
   {
    "duration": 619,
    "start_time": "2023-07-10T13:20:00.594Z"
   },
   {
    "duration": 589,
    "start_time": "2023-07-10T13:20:09.394Z"
   },
   {
    "duration": 5,
    "start_time": "2023-07-10T13:20:19.934Z"
   },
   {
    "duration": 606,
    "start_time": "2023-07-10T13:20:20.990Z"
   },
   {
    "duration": 610,
    "start_time": "2023-07-10T13:20:32.814Z"
   },
   {
    "duration": 647,
    "start_time": "2023-07-10T13:20:38.492Z"
   },
   {
    "duration": 953,
    "start_time": "2023-07-10T13:20:52.582Z"
   },
   {
    "duration": 792,
    "start_time": "2023-07-10T13:21:02.443Z"
   },
   {
    "duration": 750,
    "start_time": "2023-07-10T13:21:32.144Z"
   },
   {
    "duration": 731,
    "start_time": "2023-07-10T13:21:41.230Z"
   },
   {
    "duration": 744,
    "start_time": "2023-07-10T13:21:47.586Z"
   },
   {
    "duration": 809,
    "start_time": "2023-07-10T13:22:01.298Z"
   },
   {
    "duration": 9,
    "start_time": "2023-07-10T13:22:28.408Z"
   },
   {
    "duration": 497,
    "start_time": "2023-07-10T13:22:39.545Z"
   },
   {
    "duration": 112,
    "start_time": "2023-07-10T13:22:54.482Z"
   },
   {
    "duration": 4,
    "start_time": "2023-07-10T13:22:59.320Z"
   },
   {
    "duration": 10,
    "start_time": "2023-07-10T13:23:00.323Z"
   },
   {
    "duration": 1022,
    "start_time": "2023-07-10T13:23:02.490Z"
   },
   {
    "duration": 549,
    "start_time": "2023-07-10T13:23:06.690Z"
   },
   {
    "duration": 716,
    "start_time": "2023-07-10T13:23:23.829Z"
   },
   {
    "duration": 611,
    "start_time": "2023-07-10T13:23:31.002Z"
   },
   {
    "duration": 5,
    "start_time": "2023-07-10T13:23:38.937Z"
   },
   {
    "duration": 9,
    "start_time": "2023-07-10T13:23:42.197Z"
   },
   {
    "duration": 6,
    "start_time": "2023-07-10T13:23:45.245Z"
   },
   {
    "duration": 10,
    "start_time": "2023-07-10T13:23:49.662Z"
   },
   {
    "duration": 5,
    "start_time": "2023-07-10T13:23:53.013Z"
   },
   {
    "duration": 9,
    "start_time": "2023-07-10T13:23:56.853Z"
   },
   {
    "duration": 5,
    "start_time": "2023-07-10T13:23:58.894Z"
   },
   {
    "duration": 5,
    "start_time": "2023-07-10T13:24:33.852Z"
   },
   {
    "duration": 729,
    "start_time": "2023-07-10T13:24:40.145Z"
   },
   {
    "duration": 805,
    "start_time": "2023-07-10T13:25:19.426Z"
   },
   {
    "duration": 1565,
    "start_time": "2023-07-10T13:28:01.838Z"
   },
   {
    "duration": 1402,
    "start_time": "2023-07-10T13:28:03.406Z"
   },
   {
    "duration": 4,
    "start_time": "2023-07-10T13:28:04.810Z"
   },
   {
    "duration": 26,
    "start_time": "2023-07-10T13:28:04.816Z"
   },
   {
    "duration": 359,
    "start_time": "2023-07-10T13:28:04.844Z"
   },
   {
    "duration": 86,
    "start_time": "2023-07-10T13:28:05.205Z"
   },
   {
    "duration": 30,
    "start_time": "2023-07-10T13:28:05.293Z"
   },
   {
    "duration": 67,
    "start_time": "2023-07-10T13:28:05.325Z"
   },
   {
    "duration": 12,
    "start_time": "2023-07-10T13:28:05.394Z"
   },
   {
    "duration": 146,
    "start_time": "2023-07-10T13:28:05.409Z"
   },
   {
    "duration": 167,
    "start_time": "2023-07-10T13:28:05.557Z"
   },
   {
    "duration": 22,
    "start_time": "2023-07-10T13:28:05.726Z"
   },
   {
    "duration": 29,
    "start_time": "2023-07-10T13:28:05.750Z"
   },
   {
    "duration": 19,
    "start_time": "2023-07-10T13:28:05.780Z"
   },
   {
    "duration": 9,
    "start_time": "2023-07-10T13:28:05.801Z"
   },
   {
    "duration": 11,
    "start_time": "2023-07-10T13:28:05.812Z"
   },
   {
    "duration": 62,
    "start_time": "2023-07-10T13:28:05.825Z"
   },
   {
    "duration": 16,
    "start_time": "2023-07-10T13:28:05.892Z"
   },
   {
    "duration": 9,
    "start_time": "2023-07-10T13:28:05.910Z"
   },
   {
    "duration": 141,
    "start_time": "2023-07-10T13:28:05.921Z"
   },
   {
    "duration": 19,
    "start_time": "2023-07-10T13:28:06.070Z"
   },
   {
    "duration": 20,
    "start_time": "2023-07-10T13:28:06.090Z"
   },
   {
    "duration": 10,
    "start_time": "2023-07-10T13:28:06.112Z"
   },
   {
    "duration": 11,
    "start_time": "2023-07-10T13:28:06.123Z"
   },
   {
    "duration": 38,
    "start_time": "2023-07-10T13:28:06.136Z"
   },
   {
    "duration": 16,
    "start_time": "2023-07-10T13:28:06.177Z"
   },
   {
    "duration": 9,
    "start_time": "2023-07-10T13:28:06.195Z"
   },
   {
    "duration": 9,
    "start_time": "2023-07-10T13:28:06.208Z"
   },
   {
    "duration": 11,
    "start_time": "2023-07-10T13:28:06.219Z"
   },
   {
    "duration": 8,
    "start_time": "2023-07-10T13:28:06.232Z"
   },
   {
    "duration": 30,
    "start_time": "2023-07-10T13:28:06.242Z"
   },
   {
    "duration": 26,
    "start_time": "2023-07-10T13:28:06.279Z"
   },
   {
    "duration": 508,
    "start_time": "2023-07-10T13:28:06.307Z"
   },
   {
    "duration": 20,
    "start_time": "2023-07-10T13:28:06.816Z"
   },
   {
    "duration": 939,
    "start_time": "2023-07-10T13:28:06.837Z"
   },
   {
    "duration": 0,
    "start_time": "2023-07-10T13:28:07.777Z"
   },
   {
    "duration": 0,
    "start_time": "2023-07-10T13:28:07.779Z"
   },
   {
    "duration": 0,
    "start_time": "2023-07-10T13:28:07.780Z"
   },
   {
    "duration": 0,
    "start_time": "2023-07-10T13:28:07.781Z"
   },
   {
    "duration": 0,
    "start_time": "2023-07-10T13:28:07.782Z"
   },
   {
    "duration": 0,
    "start_time": "2023-07-10T13:28:07.786Z"
   },
   {
    "duration": 0,
    "start_time": "2023-07-10T13:28:07.787Z"
   },
   {
    "duration": 0,
    "start_time": "2023-07-10T13:28:07.788Z"
   },
   {
    "duration": 0,
    "start_time": "2023-07-10T13:28:07.790Z"
   },
   {
    "duration": 0,
    "start_time": "2023-07-10T13:28:07.791Z"
   },
   {
    "duration": 0,
    "start_time": "2023-07-10T13:28:07.793Z"
   },
   {
    "duration": 0,
    "start_time": "2023-07-10T13:28:07.795Z"
   },
   {
    "duration": 0,
    "start_time": "2023-07-10T13:28:07.796Z"
   },
   {
    "duration": 0,
    "start_time": "2023-07-10T13:28:07.796Z"
   },
   {
    "duration": 0,
    "start_time": "2023-07-10T13:28:07.797Z"
   },
   {
    "duration": 0,
    "start_time": "2023-07-10T13:28:07.798Z"
   },
   {
    "duration": 0,
    "start_time": "2023-07-10T13:28:07.799Z"
   },
   {
    "duration": 0,
    "start_time": "2023-07-10T13:28:07.800Z"
   },
   {
    "duration": 0,
    "start_time": "2023-07-10T13:28:07.802Z"
   },
   {
    "duration": 0,
    "start_time": "2023-07-10T13:28:07.803Z"
   },
   {
    "duration": 0,
    "start_time": "2023-07-10T13:28:07.804Z"
   },
   {
    "duration": 0,
    "start_time": "2023-07-10T13:28:07.805Z"
   },
   {
    "duration": 7,
    "start_time": "2023-07-10T13:28:42.657Z"
   },
   {
    "duration": 400,
    "start_time": "2023-07-10T13:28:42.666Z"
   },
   {
    "duration": 11,
    "start_time": "2023-07-10T13:28:43.068Z"
   },
   {
    "duration": 13,
    "start_time": "2023-07-10T13:28:43.084Z"
   },
   {
    "duration": 13,
    "start_time": "2023-07-10T13:28:43.100Z"
   },
   {
    "duration": 12,
    "start_time": "2023-07-10T13:28:43.115Z"
   },
   {
    "duration": 43,
    "start_time": "2023-07-10T13:28:43.129Z"
   },
   {
    "duration": 12,
    "start_time": "2023-07-10T13:28:43.174Z"
   },
   {
    "duration": 497,
    "start_time": "2023-07-10T13:28:43.187Z"
   },
   {
    "duration": 705,
    "start_time": "2023-07-10T13:28:43.685Z"
   },
   {
    "duration": 20,
    "start_time": "2023-07-10T13:28:44.392Z"
   },
   {
    "duration": 80,
    "start_time": "2023-07-10T13:28:44.414Z"
   },
   {
    "duration": 118,
    "start_time": "2023-07-10T13:28:44.496Z"
   },
   {
    "duration": 4,
    "start_time": "2023-07-10T13:28:44.616Z"
   },
   {
    "duration": 49,
    "start_time": "2023-07-10T13:28:44.621Z"
   },
   {
    "duration": 3,
    "start_time": "2023-07-10T13:28:44.675Z"
   },
   {
    "duration": 17,
    "start_time": "2023-07-10T13:28:44.679Z"
   },
   {
    "duration": 14,
    "start_time": "2023-07-10T13:28:44.698Z"
   },
   {
    "duration": 9,
    "start_time": "2023-07-10T13:28:44.714Z"
   },
   {
    "duration": 27,
    "start_time": "2023-07-10T13:28:44.725Z"
   },
   {
    "duration": 12,
    "start_time": "2023-07-10T13:29:24.990Z"
   },
   {
    "duration": 4,
    "start_time": "2023-07-10T13:29:55.247Z"
   },
   {
    "duration": 63,
    "start_time": "2023-07-10T13:29:59.705Z"
   },
   {
    "duration": 11,
    "start_time": "2023-07-10T13:30:11.401Z"
   },
   {
    "duration": 5,
    "start_time": "2023-07-10T13:30:13.117Z"
   },
   {
    "duration": 11,
    "start_time": "2023-07-10T13:30:25.297Z"
   },
   {
    "duration": 3,
    "start_time": "2023-07-10T13:30:28.319Z"
   },
   {
    "duration": 5,
    "start_time": "2023-07-10T13:30:33.506Z"
   },
   {
    "duration": 147,
    "start_time": "2023-07-10T13:38:21.703Z"
   },
   {
    "duration": 8,
    "start_time": "2023-07-10T13:39:09.554Z"
   },
   {
    "duration": 23,
    "start_time": "2023-07-10T13:39:12.589Z"
   },
   {
    "duration": 6,
    "start_time": "2023-07-10T13:39:25.204Z"
   },
   {
    "duration": 14,
    "start_time": "2023-07-10T13:39:26.910Z"
   },
   {
    "duration": 1993,
    "start_time": "2023-07-11T06:26:09.833Z"
   },
   {
    "duration": 1859,
    "start_time": "2023-07-11T06:26:11.829Z"
   },
   {
    "duration": 4,
    "start_time": "2023-07-11T06:26:13.690Z"
   },
   {
    "duration": 59,
    "start_time": "2023-07-11T06:26:13.697Z"
   },
   {
    "duration": 515,
    "start_time": "2023-07-11T06:26:13.758Z"
   },
   {
    "duration": 102,
    "start_time": "2023-07-11T06:26:14.275Z"
   },
   {
    "duration": 42,
    "start_time": "2023-07-11T06:26:14.379Z"
   },
   {
    "duration": 105,
    "start_time": "2023-07-11T06:26:14.422Z"
   },
   {
    "duration": 23,
    "start_time": "2023-07-11T06:26:14.529Z"
   },
   {
    "duration": 158,
    "start_time": "2023-07-11T06:26:14.555Z"
   },
   {
    "duration": 237,
    "start_time": "2023-07-11T06:26:14.718Z"
   },
   {
    "duration": 44,
    "start_time": "2023-07-11T06:26:14.956Z"
   },
   {
    "duration": 99,
    "start_time": "2023-07-11T06:26:15.008Z"
   },
   {
    "duration": 74,
    "start_time": "2023-07-11T06:26:15.109Z"
   },
   {
    "duration": 54,
    "start_time": "2023-07-11T06:26:15.184Z"
   },
   {
    "duration": 35,
    "start_time": "2023-07-11T06:26:15.240Z"
   },
   {
    "duration": 55,
    "start_time": "2023-07-11T06:26:15.276Z"
   },
   {
    "duration": 17,
    "start_time": "2023-07-11T06:26:15.337Z"
   },
   {
    "duration": 12,
    "start_time": "2023-07-11T06:26:15.356Z"
   },
   {
    "duration": 210,
    "start_time": "2023-07-11T06:26:15.369Z"
   },
   {
    "duration": 38,
    "start_time": "2023-07-11T06:26:15.581Z"
   },
   {
    "duration": 22,
    "start_time": "2023-07-11T06:26:15.621Z"
   },
   {
    "duration": 26,
    "start_time": "2023-07-11T06:26:15.645Z"
   },
   {
    "duration": 51,
    "start_time": "2023-07-11T06:26:15.674Z"
   },
   {
    "duration": 36,
    "start_time": "2023-07-11T06:26:15.729Z"
   },
   {
    "duration": 32,
    "start_time": "2023-07-11T06:26:15.768Z"
   },
   {
    "duration": 47,
    "start_time": "2023-07-11T06:26:15.802Z"
   },
   {
    "duration": 69,
    "start_time": "2023-07-11T06:26:15.854Z"
   },
   {
    "duration": 61,
    "start_time": "2023-07-11T06:26:15.925Z"
   },
   {
    "duration": 76,
    "start_time": "2023-07-11T06:26:15.988Z"
   },
   {
    "duration": 52,
    "start_time": "2023-07-11T06:26:16.067Z"
   },
   {
    "duration": 46,
    "start_time": "2023-07-11T06:26:16.127Z"
   },
   {
    "duration": 64,
    "start_time": "2023-07-11T06:26:16.176Z"
   },
   {
    "duration": 36,
    "start_time": "2023-07-11T06:26:16.242Z"
   },
   {
    "duration": 23,
    "start_time": "2023-07-11T06:26:16.280Z"
   },
   {
    "duration": 520,
    "start_time": "2023-07-11T06:26:16.306Z"
   },
   {
    "duration": 25,
    "start_time": "2023-07-11T06:26:16.831Z"
   },
   {
    "duration": 19,
    "start_time": "2023-07-11T06:26:16.858Z"
   },
   {
    "duration": 22,
    "start_time": "2023-07-11T06:26:16.879Z"
   },
   {
    "duration": 52,
    "start_time": "2023-07-11T06:26:16.903Z"
   },
   {
    "duration": 18,
    "start_time": "2023-07-11T06:26:16.957Z"
   },
   {
    "duration": 397,
    "start_time": "2023-07-11T06:26:16.977Z"
   },
   {
    "duration": 11,
    "start_time": "2023-07-11T06:26:17.376Z"
   },
   {
    "duration": 46,
    "start_time": "2023-07-11T06:26:17.389Z"
   },
   {
    "duration": 24,
    "start_time": "2023-07-11T06:26:17.441Z"
   },
   {
    "duration": 26,
    "start_time": "2023-07-11T06:26:17.467Z"
   },
   {
    "duration": 63,
    "start_time": "2023-07-11T06:26:17.495Z"
   },
   {
    "duration": 30,
    "start_time": "2023-07-11T06:26:17.560Z"
   },
   {
    "duration": 459,
    "start_time": "2023-07-11T06:26:17.593Z"
   },
   {
    "duration": 144,
    "start_time": "2023-07-11T06:26:18.054Z"
   },
   {
    "duration": 0,
    "start_time": "2023-07-11T06:26:18.200Z"
   },
   {
    "duration": 0,
    "start_time": "2023-07-11T06:26:18.202Z"
   },
   {
    "duration": 0,
    "start_time": "2023-07-11T06:26:18.216Z"
   },
   {
    "duration": 0,
    "start_time": "2023-07-11T06:26:18.218Z"
   },
   {
    "duration": 0,
    "start_time": "2023-07-11T06:26:18.219Z"
   },
   {
    "duration": 0,
    "start_time": "2023-07-11T06:26:18.221Z"
   },
   {
    "duration": 0,
    "start_time": "2023-07-11T06:26:18.222Z"
   },
   {
    "duration": 0,
    "start_time": "2023-07-11T06:26:18.224Z"
   },
   {
    "duration": 0,
    "start_time": "2023-07-11T06:26:18.225Z"
   },
   {
    "duration": 0,
    "start_time": "2023-07-11T06:26:18.227Z"
   },
   {
    "duration": 25,
    "start_time": "2023-07-11T06:27:10.733Z"
   },
   {
    "duration": 20,
    "start_time": "2023-07-11T06:27:16.130Z"
   },
   {
    "duration": 11,
    "start_time": "2023-07-11T06:34:52.722Z"
   },
   {
    "duration": 20,
    "start_time": "2023-07-11T06:35:00.836Z"
   },
   {
    "duration": 21,
    "start_time": "2023-07-11T06:40:57.938Z"
   },
   {
    "duration": 14,
    "start_time": "2023-07-11T06:41:18.992Z"
   },
   {
    "duration": 1457,
    "start_time": "2023-07-11T06:42:58.104Z"
   },
   {
    "duration": 1306,
    "start_time": "2023-07-11T06:42:59.563Z"
   },
   {
    "duration": 4,
    "start_time": "2023-07-11T06:43:00.871Z"
   },
   {
    "duration": 74,
    "start_time": "2023-07-11T06:43:00.877Z"
   },
   {
    "duration": 561,
    "start_time": "2023-07-11T06:43:00.953Z"
   },
   {
    "duration": 86,
    "start_time": "2023-07-11T06:43:01.523Z"
   },
   {
    "duration": 29,
    "start_time": "2023-07-11T06:43:01.613Z"
   },
   {
    "duration": 90,
    "start_time": "2023-07-11T06:43:01.644Z"
   },
   {
    "duration": 25,
    "start_time": "2023-07-11T06:43:01.737Z"
   },
   {
    "duration": 168,
    "start_time": "2023-07-11T06:43:01.767Z"
   },
   {
    "duration": 291,
    "start_time": "2023-07-11T06:43:01.937Z"
   },
   {
    "duration": 33,
    "start_time": "2023-07-11T06:43:02.231Z"
   },
   {
    "duration": 15,
    "start_time": "2023-07-11T06:43:02.267Z"
   },
   {
    "duration": 67,
    "start_time": "2023-07-11T06:43:02.284Z"
   },
   {
    "duration": 17,
    "start_time": "2023-07-11T06:43:02.354Z"
   },
   {
    "duration": 25,
    "start_time": "2023-07-11T06:43:02.373Z"
   },
   {
    "duration": 26,
    "start_time": "2023-07-11T06:43:02.400Z"
   },
   {
    "duration": 92,
    "start_time": "2023-07-11T06:43:02.429Z"
   },
   {
    "duration": 16,
    "start_time": "2023-07-11T06:43:02.526Z"
   },
   {
    "duration": 18,
    "start_time": "2023-07-11T06:43:02.544Z"
   },
   {
    "duration": 198,
    "start_time": "2023-07-11T06:43:02.564Z"
   },
   {
    "duration": 24,
    "start_time": "2023-07-11T06:43:02.763Z"
   },
   {
    "duration": 35,
    "start_time": "2023-07-11T06:43:02.789Z"
   },
   {
    "duration": 93,
    "start_time": "2023-07-11T06:43:02.827Z"
   },
   {
    "duration": 46,
    "start_time": "2023-07-11T06:43:02.922Z"
   },
   {
    "duration": 81,
    "start_time": "2023-07-11T06:43:02.969Z"
   },
   {
    "duration": 110,
    "start_time": "2023-07-11T06:43:03.052Z"
   },
   {
    "duration": 78,
    "start_time": "2023-07-11T06:43:03.167Z"
   },
   {
    "duration": 57,
    "start_time": "2023-07-11T06:43:03.247Z"
   },
   {
    "duration": 48,
    "start_time": "2023-07-11T06:43:03.306Z"
   },
   {
    "duration": 33,
    "start_time": "2023-07-11T06:43:03.356Z"
   },
   {
    "duration": 30,
    "start_time": "2023-07-11T06:43:03.391Z"
   },
   {
    "duration": 64,
    "start_time": "2023-07-11T06:43:03.424Z"
   },
   {
    "duration": 64,
    "start_time": "2023-07-11T06:43:03.489Z"
   },
   {
    "duration": 70,
    "start_time": "2023-07-11T06:43:03.555Z"
   },
   {
    "duration": 32,
    "start_time": "2023-07-11T06:43:03.628Z"
   },
   {
    "duration": 117,
    "start_time": "2023-07-11T06:43:03.662Z"
   },
   {
    "duration": 71,
    "start_time": "2023-07-11T06:43:03.781Z"
   },
   {
    "duration": 504,
    "start_time": "2023-07-11T06:43:03.855Z"
   },
   {
    "duration": 19,
    "start_time": "2023-07-11T06:43:04.362Z"
   },
   {
    "duration": 32,
    "start_time": "2023-07-11T06:43:04.383Z"
   },
   {
    "duration": 40,
    "start_time": "2023-07-11T06:43:04.418Z"
   },
   {
    "duration": 27,
    "start_time": "2023-07-11T06:43:04.461Z"
   },
   {
    "duration": 85,
    "start_time": "2023-07-11T06:43:04.490Z"
   },
   {
    "duration": 393,
    "start_time": "2023-07-11T06:43:04.577Z"
   },
   {
    "duration": 16,
    "start_time": "2023-07-11T06:43:04.972Z"
   },
   {
    "duration": 58,
    "start_time": "2023-07-11T06:43:04.991Z"
   },
   {
    "duration": 79,
    "start_time": "2023-07-11T06:43:05.052Z"
   },
   {
    "duration": 85,
    "start_time": "2023-07-11T06:43:05.133Z"
   },
   {
    "duration": 53,
    "start_time": "2023-07-11T06:43:05.220Z"
   },
   {
    "duration": 25,
    "start_time": "2023-07-11T06:43:05.275Z"
   },
   {
    "duration": 455,
    "start_time": "2023-07-11T06:43:05.302Z"
   },
   {
    "duration": 155,
    "start_time": "2023-07-11T06:43:05.761Z"
   },
   {
    "duration": 0,
    "start_time": "2023-07-11T06:43:05.919Z"
   },
   {
    "duration": 0,
    "start_time": "2023-07-11T06:43:05.920Z"
   },
   {
    "duration": 0,
    "start_time": "2023-07-11T06:43:05.921Z"
   },
   {
    "duration": 0,
    "start_time": "2023-07-11T06:43:05.922Z"
   },
   {
    "duration": 0,
    "start_time": "2023-07-11T06:43:05.922Z"
   },
   {
    "duration": 0,
    "start_time": "2023-07-11T06:43:05.923Z"
   },
   {
    "duration": 0,
    "start_time": "2023-07-11T06:43:05.924Z"
   },
   {
    "duration": 0,
    "start_time": "2023-07-11T06:43:05.924Z"
   },
   {
    "duration": 0,
    "start_time": "2023-07-11T06:43:05.925Z"
   },
   {
    "duration": 1,
    "start_time": "2023-07-11T06:43:05.928Z"
   },
   {
    "duration": 19,
    "start_time": "2023-07-11T06:43:40.654Z"
   },
   {
    "duration": 16,
    "start_time": "2023-07-11T06:46:05.151Z"
   },
   {
    "duration": 1436,
    "start_time": "2023-07-11T06:46:17.026Z"
   },
   {
    "duration": 1722,
    "start_time": "2023-07-11T06:46:18.464Z"
   },
   {
    "duration": 4,
    "start_time": "2023-07-11T06:46:20.188Z"
   },
   {
    "duration": 72,
    "start_time": "2023-07-11T06:46:20.195Z"
   },
   {
    "duration": 470,
    "start_time": "2023-07-11T06:46:20.269Z"
   },
   {
    "duration": 93,
    "start_time": "2023-07-11T06:46:20.740Z"
   },
   {
    "duration": 25,
    "start_time": "2023-07-11T06:46:20.835Z"
   },
   {
    "duration": 114,
    "start_time": "2023-07-11T06:46:20.862Z"
   },
   {
    "duration": 16,
    "start_time": "2023-07-11T06:46:20.978Z"
   },
   {
    "duration": 131,
    "start_time": "2023-07-11T06:46:21.009Z"
   },
   {
    "duration": 205,
    "start_time": "2023-07-11T06:46:21.142Z"
   },
   {
    "duration": 32,
    "start_time": "2023-07-11T06:46:21.349Z"
   },
   {
    "duration": 34,
    "start_time": "2023-07-11T06:46:21.383Z"
   },
   {
    "duration": 48,
    "start_time": "2023-07-11T06:46:21.418Z"
   },
   {
    "duration": 32,
    "start_time": "2023-07-11T06:46:21.468Z"
   },
   {
    "duration": 45,
    "start_time": "2023-07-11T06:46:21.502Z"
   },
   {
    "duration": 26,
    "start_time": "2023-07-11T06:46:21.549Z"
   },
   {
    "duration": 53,
    "start_time": "2023-07-11T06:46:21.577Z"
   },
   {
    "duration": 17,
    "start_time": "2023-07-11T06:46:21.632Z"
   },
   {
    "duration": 19,
    "start_time": "2023-07-11T06:46:21.651Z"
   },
   {
    "duration": 183,
    "start_time": "2023-07-11T06:46:21.672Z"
   },
   {
    "duration": 22,
    "start_time": "2023-07-11T06:46:21.858Z"
   },
   {
    "duration": 41,
    "start_time": "2023-07-11T06:46:21.882Z"
   },
   {
    "duration": 34,
    "start_time": "2023-07-11T06:46:21.925Z"
   },
   {
    "duration": 29,
    "start_time": "2023-07-11T06:46:21.961Z"
   },
   {
    "duration": 33,
    "start_time": "2023-07-11T06:46:21.991Z"
   },
   {
    "duration": 35,
    "start_time": "2023-07-11T06:46:22.026Z"
   },
   {
    "duration": 54,
    "start_time": "2023-07-11T06:46:22.065Z"
   },
   {
    "duration": 115,
    "start_time": "2023-07-11T06:46:22.122Z"
   },
   {
    "duration": 34,
    "start_time": "2023-07-11T06:46:22.239Z"
   },
   {
    "duration": 43,
    "start_time": "2023-07-11T06:46:22.275Z"
   },
   {
    "duration": 18,
    "start_time": "2023-07-11T06:46:22.320Z"
   },
   {
    "duration": 23,
    "start_time": "2023-07-11T06:46:22.340Z"
   },
   {
    "duration": 43,
    "start_time": "2023-07-11T06:46:22.364Z"
   },
   {
    "duration": 12,
    "start_time": "2023-07-11T06:46:22.419Z"
   },
   {
    "duration": 136,
    "start_time": "2023-07-11T06:46:22.433Z"
   },
   {
    "duration": 0,
    "start_time": "2023-07-11T06:46:22.570Z"
   },
   {
    "duration": 0,
    "start_time": "2023-07-11T06:46:22.572Z"
   },
   {
    "duration": 0,
    "start_time": "2023-07-11T06:46:22.573Z"
   },
   {
    "duration": 0,
    "start_time": "2023-07-11T06:46:22.574Z"
   },
   {
    "duration": 0,
    "start_time": "2023-07-11T06:46:22.575Z"
   },
   {
    "duration": 0,
    "start_time": "2023-07-11T06:46:22.577Z"
   },
   {
    "duration": 0,
    "start_time": "2023-07-11T06:46:22.578Z"
   },
   {
    "duration": 0,
    "start_time": "2023-07-11T06:46:22.579Z"
   },
   {
    "duration": 0,
    "start_time": "2023-07-11T06:46:22.582Z"
   },
   {
    "duration": 0,
    "start_time": "2023-07-11T06:46:22.583Z"
   },
   {
    "duration": 0,
    "start_time": "2023-07-11T06:46:22.584Z"
   },
   {
    "duration": 0,
    "start_time": "2023-07-11T06:46:22.585Z"
   },
   {
    "duration": 0,
    "start_time": "2023-07-11T06:46:22.587Z"
   },
   {
    "duration": 0,
    "start_time": "2023-07-11T06:46:22.587Z"
   },
   {
    "duration": 0,
    "start_time": "2023-07-11T06:46:22.588Z"
   },
   {
    "duration": 0,
    "start_time": "2023-07-11T06:46:22.618Z"
   },
   {
    "duration": 0,
    "start_time": "2023-07-11T06:46:22.619Z"
   },
   {
    "duration": 0,
    "start_time": "2023-07-11T06:46:22.620Z"
   },
   {
    "duration": 0,
    "start_time": "2023-07-11T06:46:22.621Z"
   },
   {
    "duration": 0,
    "start_time": "2023-07-11T06:46:22.623Z"
   },
   {
    "duration": 0,
    "start_time": "2023-07-11T06:46:22.624Z"
   },
   {
    "duration": 0,
    "start_time": "2023-07-11T06:46:22.626Z"
   },
   {
    "duration": 0,
    "start_time": "2023-07-11T06:46:22.627Z"
   },
   {
    "duration": 0,
    "start_time": "2023-07-11T06:46:22.629Z"
   },
   {
    "duration": 0,
    "start_time": "2023-07-11T06:46:22.630Z"
   },
   {
    "duration": 0,
    "start_time": "2023-07-11T06:46:22.631Z"
   },
   {
    "duration": 484,
    "start_time": "2023-07-11T06:46:58.148Z"
   },
   {
    "duration": 28,
    "start_time": "2023-07-11T06:46:58.697Z"
   },
   {
    "duration": 652,
    "start_time": "2023-07-11T06:47:04.892Z"
   },
   {
    "duration": 652,
    "start_time": "2023-07-11T06:47:10.666Z"
   },
   {
    "duration": 679,
    "start_time": "2023-07-11T06:47:20.145Z"
   },
   {
    "duration": 37,
    "start_time": "2023-07-11T06:48:16.054Z"
   },
   {
    "duration": 797,
    "start_time": "2023-07-11T06:49:29.158Z"
   },
   {
    "duration": 22,
    "start_time": "2023-07-11T06:49:50.105Z"
   },
   {
    "duration": 1471,
    "start_time": "2023-07-11T06:50:03.243Z"
   },
   {
    "duration": 1829,
    "start_time": "2023-07-11T06:50:04.718Z"
   },
   {
    "duration": 3,
    "start_time": "2023-07-11T06:50:06.550Z"
   },
   {
    "duration": 76,
    "start_time": "2023-07-11T06:50:06.557Z"
   },
   {
    "duration": 504,
    "start_time": "2023-07-11T06:50:06.635Z"
   },
   {
    "duration": 96,
    "start_time": "2023-07-11T06:50:07.141Z"
   },
   {
    "duration": 44,
    "start_time": "2023-07-11T06:50:07.240Z"
   },
   {
    "duration": 118,
    "start_time": "2023-07-11T06:50:07.287Z"
   },
   {
    "duration": 27,
    "start_time": "2023-07-11T06:50:07.414Z"
   },
   {
    "duration": 185,
    "start_time": "2023-07-11T06:50:07.445Z"
   },
   {
    "duration": 212,
    "start_time": "2023-07-11T06:50:07.632Z"
   },
   {
    "duration": 29,
    "start_time": "2023-07-11T06:50:07.845Z"
   },
   {
    "duration": 40,
    "start_time": "2023-07-11T06:50:07.876Z"
   },
   {
    "duration": 27,
    "start_time": "2023-07-11T06:50:07.918Z"
   },
   {
    "duration": 15,
    "start_time": "2023-07-11T06:50:07.947Z"
   },
   {
    "duration": 29,
    "start_time": "2023-07-11T06:50:07.964Z"
   },
   {
    "duration": 64,
    "start_time": "2023-07-11T06:50:07.995Z"
   },
   {
    "duration": 56,
    "start_time": "2023-07-11T06:50:08.062Z"
   },
   {
    "duration": 24,
    "start_time": "2023-07-11T06:50:08.119Z"
   },
   {
    "duration": 18,
    "start_time": "2023-07-11T06:50:08.145Z"
   },
   {
    "duration": 195,
    "start_time": "2023-07-11T06:50:08.165Z"
   },
   {
    "duration": 24,
    "start_time": "2023-07-11T06:50:08.363Z"
   },
   {
    "duration": 38,
    "start_time": "2023-07-11T06:50:08.389Z"
   },
   {
    "duration": 17,
    "start_time": "2023-07-11T06:50:08.429Z"
   },
   {
    "duration": 14,
    "start_time": "2023-07-11T06:50:08.449Z"
   },
   {
    "duration": 54,
    "start_time": "2023-07-11T06:50:08.465Z"
   },
   {
    "duration": 15,
    "start_time": "2023-07-11T06:50:08.523Z"
   },
   {
    "duration": 6,
    "start_time": "2023-07-11T06:50:08.542Z"
   },
   {
    "duration": 16,
    "start_time": "2023-07-11T06:50:08.550Z"
   },
   {
    "duration": 48,
    "start_time": "2023-07-11T06:50:08.568Z"
   },
   {
    "duration": 23,
    "start_time": "2023-07-11T06:50:08.618Z"
   },
   {
    "duration": 26,
    "start_time": "2023-07-11T06:50:08.643Z"
   },
   {
    "duration": 21,
    "start_time": "2023-07-11T06:50:08.671Z"
   },
   {
    "duration": 34,
    "start_time": "2023-07-11T06:50:08.709Z"
   },
   {
    "duration": 701,
    "start_time": "2023-07-11T06:50:08.745Z"
   },
   {
    "duration": 30,
    "start_time": "2023-07-11T06:50:09.448Z"
   },
   {
    "duration": 8,
    "start_time": "2023-07-11T06:50:09.481Z"
   },
   {
    "duration": 17,
    "start_time": "2023-07-11T06:50:09.510Z"
   },
   {
    "duration": 17,
    "start_time": "2023-07-11T06:50:09.529Z"
   },
   {
    "duration": 24,
    "start_time": "2023-07-11T06:50:09.549Z"
   },
   {
    "duration": 372,
    "start_time": "2023-07-11T06:50:09.576Z"
   },
   {
    "duration": 11,
    "start_time": "2023-07-11T06:50:09.950Z"
   },
   {
    "duration": 21,
    "start_time": "2023-07-11T06:50:09.963Z"
   },
   {
    "duration": 40,
    "start_time": "2023-07-11T06:50:09.987Z"
   },
   {
    "duration": 20,
    "start_time": "2023-07-11T06:50:10.030Z"
   },
   {
    "duration": 30,
    "start_time": "2023-07-11T06:50:10.052Z"
   },
   {
    "duration": 41,
    "start_time": "2023-07-11T06:50:10.085Z"
   },
   {
    "duration": 444,
    "start_time": "2023-07-11T06:50:10.129Z"
   },
   {
    "duration": 127,
    "start_time": "2023-07-11T06:50:10.575Z"
   },
   {
    "duration": 0,
    "start_time": "2023-07-11T06:50:10.704Z"
   },
   {
    "duration": 0,
    "start_time": "2023-07-11T06:50:10.708Z"
   },
   {
    "duration": 0,
    "start_time": "2023-07-11T06:50:10.709Z"
   },
   {
    "duration": 0,
    "start_time": "2023-07-11T06:50:10.715Z"
   },
   {
    "duration": 0,
    "start_time": "2023-07-11T06:50:10.716Z"
   },
   {
    "duration": 0,
    "start_time": "2023-07-11T06:50:10.721Z"
   },
   {
    "duration": 0,
    "start_time": "2023-07-11T06:50:10.722Z"
   },
   {
    "duration": 0,
    "start_time": "2023-07-11T06:50:10.723Z"
   },
   {
    "duration": 0,
    "start_time": "2023-07-11T06:50:10.724Z"
   },
   {
    "duration": 0,
    "start_time": "2023-07-11T06:50:10.726Z"
   },
   {
    "duration": 650,
    "start_time": "2023-07-11T06:50:20.047Z"
   },
   {
    "duration": 780,
    "start_time": "2023-07-11T06:50:27.947Z"
   },
   {
    "duration": 710,
    "start_time": "2023-07-11T06:50:35.016Z"
   },
   {
    "duration": 415,
    "start_time": "2023-07-11T06:53:18.094Z"
   },
   {
    "duration": 14,
    "start_time": "2023-07-11T06:54:00.758Z"
   },
   {
    "duration": 13,
    "start_time": "2023-07-11T06:54:19.082Z"
   },
   {
    "duration": 37,
    "start_time": "2023-07-11T06:54:31.994Z"
   },
   {
    "duration": 223,
    "start_time": "2023-07-11T06:54:51.727Z"
   },
   {
    "duration": 20,
    "start_time": "2023-07-11T06:54:56.918Z"
   },
   {
    "duration": 18,
    "start_time": "2023-07-11T06:55:20.288Z"
   },
   {
    "duration": 384,
    "start_time": "2023-07-11T06:56:05.080Z"
   },
   {
    "duration": 12,
    "start_time": "2023-07-11T06:56:45.337Z"
   },
   {
    "duration": 419,
    "start_time": "2023-07-11T06:57:07.948Z"
   },
   {
    "duration": 405,
    "start_time": "2023-07-11T06:57:22.956Z"
   },
   {
    "duration": 493,
    "start_time": "2023-07-11T06:57:49.771Z"
   },
   {
    "duration": 406,
    "start_time": "2023-07-11T06:58:31.076Z"
   },
   {
    "duration": 79,
    "start_time": "2023-07-11T06:58:56.619Z"
   },
   {
    "duration": 532,
    "start_time": "2023-07-11T06:59:03.420Z"
   },
   {
    "duration": 19,
    "start_time": "2023-07-11T06:59:42.708Z"
   },
   {
    "duration": 435,
    "start_time": "2023-07-11T06:59:53.531Z"
   },
   {
    "duration": 419,
    "start_time": "2023-07-11T07:00:13.822Z"
   },
   {
    "duration": 14,
    "start_time": "2023-07-11T07:00:45.150Z"
   },
   {
    "duration": 346,
    "start_time": "2023-07-11T07:02:31.719Z"
   },
   {
    "duration": 304,
    "start_time": "2023-07-11T07:02:54.332Z"
   },
   {
    "duration": 335,
    "start_time": "2023-07-11T07:03:12.329Z"
   },
   {
    "duration": 922,
    "start_time": "2023-07-11T07:03:34.324Z"
   },
   {
    "duration": 357,
    "start_time": "2023-07-11T07:03:43.524Z"
   },
   {
    "duration": 418,
    "start_time": "2023-07-11T07:04:06.259Z"
   },
   {
    "duration": 20,
    "start_time": "2023-07-11T07:05:05.126Z"
   },
   {
    "duration": 544,
    "start_time": "2023-07-11T07:05:08.850Z"
   },
   {
    "duration": 400,
    "start_time": "2023-07-11T07:05:23.501Z"
   },
   {
    "duration": 408,
    "start_time": "2023-07-11T07:05:46.779Z"
   },
   {
    "duration": 440,
    "start_time": "2023-07-11T07:06:50.957Z"
   },
   {
    "duration": 460,
    "start_time": "2023-07-11T07:06:57.146Z"
   },
   {
    "duration": 424,
    "start_time": "2023-07-11T07:07:27.942Z"
   },
   {
    "duration": 440,
    "start_time": "2023-07-11T07:07:36.340Z"
   },
   {
    "duration": 13,
    "start_time": "2023-07-11T07:07:55.260Z"
   },
   {
    "duration": 408,
    "start_time": "2023-07-11T07:08:49.583Z"
   },
   {
    "duration": 25,
    "start_time": "2023-07-11T07:08:57.844Z"
   },
   {
    "duration": 373,
    "start_time": "2023-07-11T07:09:04.467Z"
   },
   {
    "duration": 348,
    "start_time": "2023-07-11T07:10:03.206Z"
   },
   {
    "duration": 469,
    "start_time": "2023-07-11T07:10:21.722Z"
   },
   {
    "duration": 531,
    "start_time": "2023-07-11T07:10:45.752Z"
   },
   {
    "duration": 1120,
    "start_time": "2023-07-11T07:11:15.028Z"
   },
   {
    "duration": 478,
    "start_time": "2023-07-11T07:11:31.971Z"
   },
   {
    "duration": 502,
    "start_time": "2023-07-11T07:12:35.528Z"
   },
   {
    "duration": 837,
    "start_time": "2023-07-11T07:12:59.381Z"
   },
   {
    "duration": 439,
    "start_time": "2023-07-11T07:14:09.627Z"
   },
   {
    "duration": 457,
    "start_time": "2023-07-11T07:17:09.720Z"
   },
   {
    "duration": 383,
    "start_time": "2023-07-11T07:17:36.529Z"
   },
   {
    "duration": 76,
    "start_time": "2023-07-11T07:21:05.454Z"
   },
   {
    "duration": 1572,
    "start_time": "2023-07-11T07:21:55.212Z"
   },
   {
    "duration": 1500,
    "start_time": "2023-07-11T07:21:56.787Z"
   },
   {
    "duration": 5,
    "start_time": "2023-07-11T07:21:58.289Z"
   },
   {
    "duration": 66,
    "start_time": "2023-07-11T07:21:58.296Z"
   },
   {
    "duration": 499,
    "start_time": "2023-07-11T07:21:58.364Z"
   },
   {
    "duration": 98,
    "start_time": "2023-07-11T07:21:58.865Z"
   },
   {
    "duration": 26,
    "start_time": "2023-07-11T07:21:58.966Z"
   },
   {
    "duration": 87,
    "start_time": "2023-07-11T07:21:59.010Z"
   },
   {
    "duration": 24,
    "start_time": "2023-07-11T07:21:59.099Z"
   },
   {
    "duration": 170,
    "start_time": "2023-07-11T07:21:59.127Z"
   },
   {
    "duration": 273,
    "start_time": "2023-07-11T07:21:59.299Z"
   },
   {
    "duration": 69,
    "start_time": "2023-07-11T07:21:59.574Z"
   },
   {
    "duration": 22,
    "start_time": "2023-07-11T07:21:59.645Z"
   },
   {
    "duration": 28,
    "start_time": "2023-07-11T07:21:59.670Z"
   },
   {
    "duration": 31,
    "start_time": "2023-07-11T07:21:59.710Z"
   },
   {
    "duration": 25,
    "start_time": "2023-07-11T07:21:59.743Z"
   },
   {
    "duration": 27,
    "start_time": "2023-07-11T07:21:59.770Z"
   },
   {
    "duration": 60,
    "start_time": "2023-07-11T07:21:59.800Z"
   },
   {
    "duration": 17,
    "start_time": "2023-07-11T07:21:59.862Z"
   },
   {
    "duration": 35,
    "start_time": "2023-07-11T07:21:59.881Z"
   },
   {
    "duration": 218,
    "start_time": "2023-07-11T07:21:59.920Z"
   },
   {
    "duration": 26,
    "start_time": "2023-07-11T07:22:00.140Z"
   },
   {
    "duration": 44,
    "start_time": "2023-07-11T07:22:00.168Z"
   },
   {
    "duration": 68,
    "start_time": "2023-07-11T07:22:00.215Z"
   },
   {
    "duration": 62,
    "start_time": "2023-07-11T07:22:00.285Z"
   },
   {
    "duration": 60,
    "start_time": "2023-07-11T07:22:00.350Z"
   },
   {
    "duration": 65,
    "start_time": "2023-07-11T07:22:00.416Z"
   },
   {
    "duration": 125,
    "start_time": "2023-07-11T07:22:00.485Z"
   },
   {
    "duration": 76,
    "start_time": "2023-07-11T07:22:00.613Z"
   },
   {
    "duration": 72,
    "start_time": "2023-07-11T07:22:00.691Z"
   },
   {
    "duration": 71,
    "start_time": "2023-07-11T07:22:00.766Z"
   },
   {
    "duration": 71,
    "start_time": "2023-07-11T07:22:00.839Z"
   },
   {
    "duration": 137,
    "start_time": "2023-07-11T07:22:00.917Z"
   },
   {
    "duration": 68,
    "start_time": "2023-07-11T07:22:01.057Z"
   },
   {
    "duration": 13,
    "start_time": "2023-07-11T07:22:01.127Z"
   },
   {
    "duration": 488,
    "start_time": "2023-07-11T07:22:01.142Z"
   },
   {
    "duration": 113,
    "start_time": "2023-07-11T07:22:01.633Z"
   },
   {
    "duration": 0,
    "start_time": "2023-07-11T07:22:01.749Z"
   },
   {
    "duration": 0,
    "start_time": "2023-07-11T07:22:01.750Z"
   },
   {
    "duration": 0,
    "start_time": "2023-07-11T07:22:01.752Z"
   },
   {
    "duration": 0,
    "start_time": "2023-07-11T07:22:01.753Z"
   },
   {
    "duration": 0,
    "start_time": "2023-07-11T07:22:01.755Z"
   },
   {
    "duration": 0,
    "start_time": "2023-07-11T07:22:01.757Z"
   },
   {
    "duration": 0,
    "start_time": "2023-07-11T07:22:01.758Z"
   },
   {
    "duration": 0,
    "start_time": "2023-07-11T07:22:01.760Z"
   },
   {
    "duration": 0,
    "start_time": "2023-07-11T07:22:01.762Z"
   },
   {
    "duration": 0,
    "start_time": "2023-07-11T07:22:01.763Z"
   },
   {
    "duration": 0,
    "start_time": "2023-07-11T07:22:01.765Z"
   },
   {
    "duration": 0,
    "start_time": "2023-07-11T07:22:01.767Z"
   },
   {
    "duration": 0,
    "start_time": "2023-07-11T07:22:01.768Z"
   },
   {
    "duration": 0,
    "start_time": "2023-07-11T07:22:01.771Z"
   },
   {
    "duration": 0,
    "start_time": "2023-07-11T07:22:01.772Z"
   },
   {
    "duration": 0,
    "start_time": "2023-07-11T07:22:01.773Z"
   },
   {
    "duration": 0,
    "start_time": "2023-07-11T07:22:01.775Z"
   },
   {
    "duration": 0,
    "start_time": "2023-07-11T07:22:01.777Z"
   },
   {
    "duration": 0,
    "start_time": "2023-07-11T07:22:01.778Z"
   },
   {
    "duration": 0,
    "start_time": "2023-07-11T07:22:01.780Z"
   },
   {
    "duration": 0,
    "start_time": "2023-07-11T07:22:01.782Z"
   },
   {
    "duration": 0,
    "start_time": "2023-07-11T07:22:01.783Z"
   },
   {
    "duration": 0,
    "start_time": "2023-07-11T07:22:01.784Z"
   },
   {
    "duration": 0,
    "start_time": "2023-07-11T07:22:01.785Z"
   },
   {
    "duration": 506,
    "start_time": "2023-07-11T07:22:15.008Z"
   },
   {
    "duration": 492,
    "start_time": "2023-07-11T07:22:40.781Z"
   },
   {
    "duration": 117,
    "start_time": "2023-07-11T07:23:27.683Z"
   },
   {
    "duration": 437,
    "start_time": "2023-07-11T07:23:31.625Z"
   },
   {
    "duration": 272,
    "start_time": "2023-07-11T07:25:17.130Z"
   },
   {
    "duration": 311,
    "start_time": "2023-07-11T07:25:23.421Z"
   },
   {
    "duration": 252,
    "start_time": "2023-07-11T07:25:39.822Z"
   },
   {
    "duration": 262,
    "start_time": "2023-07-11T07:26:40.198Z"
   },
   {
    "duration": 180,
    "start_time": "2023-07-11T07:26:57.102Z"
   },
   {
    "duration": 302,
    "start_time": "2023-07-11T07:26:59.826Z"
   },
   {
    "duration": 270,
    "start_time": "2023-07-11T07:28:53.502Z"
   },
   {
    "duration": 260,
    "start_time": "2023-07-11T07:29:44.769Z"
   },
   {
    "duration": 277,
    "start_time": "2023-07-11T07:29:51.790Z"
   },
   {
    "duration": 256,
    "start_time": "2023-07-11T07:30:11.323Z"
   },
   {
    "duration": 273,
    "start_time": "2023-07-11T07:30:21.405Z"
   },
   {
    "duration": 438,
    "start_time": "2023-07-11T07:30:38.160Z"
   },
   {
    "duration": 272,
    "start_time": "2023-07-11T07:32:03.533Z"
   },
   {
    "duration": 296,
    "start_time": "2023-07-11T07:32:09.251Z"
   },
   {
    "duration": 276,
    "start_time": "2023-07-11T07:33:06.723Z"
   },
   {
    "duration": 436,
    "start_time": "2023-07-11T07:33:18.236Z"
   },
   {
    "duration": 447,
    "start_time": "2023-07-11T07:34:11.556Z"
   },
   {
    "duration": 66,
    "start_time": "2023-07-11T07:37:29.723Z"
   },
   {
    "duration": 122,
    "start_time": "2023-07-11T07:37:44.534Z"
   },
   {
    "duration": 83,
    "start_time": "2023-07-11T07:37:57.220Z"
   },
   {
    "duration": 76,
    "start_time": "2023-07-11T07:38:03.483Z"
   },
   {
    "duration": 413,
    "start_time": "2023-07-11T07:38:32.384Z"
   },
   {
    "duration": 402,
    "start_time": "2023-07-11T07:39:21.565Z"
   },
   {
    "duration": 81,
    "start_time": "2023-07-11T07:39:46.593Z"
   },
   {
    "duration": 79,
    "start_time": "2023-07-11T07:43:09.021Z"
   },
   {
    "duration": 7,
    "start_time": "2023-07-11T07:43:41.017Z"
   },
   {
    "duration": 93,
    "start_time": "2023-07-11T07:43:43.853Z"
   },
   {
    "duration": 87,
    "start_time": "2023-07-11T07:44:08.308Z"
   },
   {
    "duration": 71,
    "start_time": "2023-07-11T07:44:17.863Z"
   },
   {
    "duration": 71,
    "start_time": "2023-07-11T07:44:45.684Z"
   },
   {
    "duration": 69,
    "start_time": "2023-07-11T07:44:49.188Z"
   },
   {
    "duration": 70,
    "start_time": "2023-07-11T07:44:58.482Z"
   },
   {
    "duration": 64,
    "start_time": "2023-07-11T07:45:02.083Z"
   },
   {
    "duration": 68,
    "start_time": "2023-07-11T07:45:10.082Z"
   },
   {
    "duration": 219,
    "start_time": "2023-07-11T07:48:10.998Z"
   },
   {
    "duration": 1805,
    "start_time": "2023-07-11T07:48:39.641Z"
   },
   {
    "duration": 1535,
    "start_time": "2023-07-11T07:48:41.448Z"
   },
   {
    "duration": 4,
    "start_time": "2023-07-11T07:48:42.988Z"
   },
   {
    "duration": 56,
    "start_time": "2023-07-11T07:48:42.993Z"
   },
   {
    "duration": 482,
    "start_time": "2023-07-11T07:48:43.051Z"
   },
   {
    "duration": 93,
    "start_time": "2023-07-11T07:48:43.536Z"
   },
   {
    "duration": 25,
    "start_time": "2023-07-11T07:48:43.631Z"
   },
   {
    "duration": 94,
    "start_time": "2023-07-11T07:48:43.657Z"
   },
   {
    "duration": 18,
    "start_time": "2023-07-11T07:48:43.754Z"
   },
   {
    "duration": 138,
    "start_time": "2023-07-11T07:48:43.773Z"
   },
   {
    "duration": 221,
    "start_time": "2023-07-11T07:48:43.914Z"
   },
   {
    "duration": 29,
    "start_time": "2023-07-11T07:48:44.136Z"
   },
   {
    "duration": 42,
    "start_time": "2023-07-11T07:48:44.167Z"
   },
   {
    "duration": 35,
    "start_time": "2023-07-11T07:48:44.211Z"
   },
   {
    "duration": 17,
    "start_time": "2023-07-11T07:48:44.248Z"
   },
   {
    "duration": 49,
    "start_time": "2023-07-11T07:48:44.267Z"
   },
   {
    "duration": 37,
    "start_time": "2023-07-11T07:48:44.317Z"
   },
   {
    "duration": 70,
    "start_time": "2023-07-11T07:48:44.356Z"
   },
   {
    "duration": 38,
    "start_time": "2023-07-11T07:48:44.428Z"
   },
   {
    "duration": 34,
    "start_time": "2023-07-11T07:48:44.468Z"
   },
   {
    "duration": 169,
    "start_time": "2023-07-11T07:48:44.504Z"
   },
   {
    "duration": 22,
    "start_time": "2023-07-11T07:48:44.675Z"
   },
   {
    "duration": 44,
    "start_time": "2023-07-11T07:48:44.699Z"
   },
   {
    "duration": 104,
    "start_time": "2023-07-11T07:48:44.746Z"
   },
   {
    "duration": 42,
    "start_time": "2023-07-11T07:48:44.852Z"
   },
   {
    "duration": 37,
    "start_time": "2023-07-11T07:48:44.896Z"
   },
   {
    "duration": 35,
    "start_time": "2023-07-11T07:48:44.938Z"
   },
   {
    "duration": 26,
    "start_time": "2023-07-11T07:48:44.976Z"
   },
   {
    "duration": 78,
    "start_time": "2023-07-11T07:48:45.004Z"
   },
   {
    "duration": 94,
    "start_time": "2023-07-11T07:48:45.083Z"
   },
   {
    "duration": 79,
    "start_time": "2023-07-11T07:48:45.179Z"
   },
   {
    "duration": 19,
    "start_time": "2023-07-11T07:48:45.260Z"
   },
   {
    "duration": 44,
    "start_time": "2023-07-11T07:48:45.281Z"
   },
   {
    "duration": 47,
    "start_time": "2023-07-11T07:48:45.327Z"
   },
   {
    "duration": 12,
    "start_time": "2023-07-11T07:48:45.376Z"
   },
   {
    "duration": 479,
    "start_time": "2023-07-11T07:48:45.390Z"
   },
   {
    "duration": 51,
    "start_time": "2023-07-11T07:48:45.871Z"
   },
   {
    "duration": 23,
    "start_time": "2023-07-11T07:48:45.925Z"
   },
   {
    "duration": 81,
    "start_time": "2023-07-11T07:48:45.950Z"
   },
   {
    "duration": 35,
    "start_time": "2023-07-11T07:48:46.034Z"
   },
   {
    "duration": 33,
    "start_time": "2023-07-11T07:48:46.071Z"
   },
   {
    "duration": 476,
    "start_time": "2023-07-11T07:48:46.106Z"
   },
   {
    "duration": 14,
    "start_time": "2023-07-11T07:48:46.584Z"
   },
   {
    "duration": 33,
    "start_time": "2023-07-11T07:48:46.609Z"
   },
   {
    "duration": 46,
    "start_time": "2023-07-11T07:48:46.644Z"
   },
   {
    "duration": 84,
    "start_time": "2023-07-11T07:48:46.691Z"
   },
   {
    "duration": 106,
    "start_time": "2023-07-11T07:48:46.777Z"
   },
   {
    "duration": 41,
    "start_time": "2023-07-11T07:48:46.885Z"
   },
   {
    "duration": 175,
    "start_time": "2023-07-11T07:48:46.929Z"
   },
   {
    "duration": 0,
    "start_time": "2023-07-11T07:48:47.109Z"
   },
   {
    "duration": 0,
    "start_time": "2023-07-11T07:48:47.110Z"
   },
   {
    "duration": 0,
    "start_time": "2023-07-11T07:48:47.112Z"
   },
   {
    "duration": 0,
    "start_time": "2023-07-11T07:48:47.113Z"
   },
   {
    "duration": 0,
    "start_time": "2023-07-11T07:48:47.114Z"
   },
   {
    "duration": 0,
    "start_time": "2023-07-11T07:48:47.115Z"
   },
   {
    "duration": 0,
    "start_time": "2023-07-11T07:48:47.116Z"
   },
   {
    "duration": 0,
    "start_time": "2023-07-11T07:48:47.117Z"
   },
   {
    "duration": 0,
    "start_time": "2023-07-11T07:48:47.118Z"
   },
   {
    "duration": 0,
    "start_time": "2023-07-11T07:48:47.119Z"
   },
   {
    "duration": 0,
    "start_time": "2023-07-11T07:48:47.121Z"
   },
   {
    "duration": 67,
    "start_time": "2023-07-11T07:49:17.193Z"
   },
   {
    "duration": 68,
    "start_time": "2023-07-11T07:49:29.147Z"
   },
   {
    "duration": 65,
    "start_time": "2023-07-11T07:49:39.125Z"
   },
   {
    "duration": 69,
    "start_time": "2023-07-11T07:49:43.088Z"
   },
   {
    "duration": 16,
    "start_time": "2023-07-11T08:07:34.195Z"
   },
   {
    "duration": 17,
    "start_time": "2023-07-11T08:08:05.181Z"
   },
   {
    "duration": 4,
    "start_time": "2023-07-11T08:08:19.214Z"
   },
   {
    "duration": 1463,
    "start_time": "2023-07-11T08:08:26.006Z"
   },
   {
    "duration": 1504,
    "start_time": "2023-07-11T08:08:27.471Z"
   },
   {
    "duration": 4,
    "start_time": "2023-07-11T08:08:28.978Z"
   },
   {
    "duration": 55,
    "start_time": "2023-07-11T08:08:28.984Z"
   },
   {
    "duration": 562,
    "start_time": "2023-07-11T08:08:29.040Z"
   },
   {
    "duration": 93,
    "start_time": "2023-07-11T08:08:29.604Z"
   },
   {
    "duration": 34,
    "start_time": "2023-07-11T08:08:29.699Z"
   },
   {
    "duration": 89,
    "start_time": "2023-07-11T08:08:29.735Z"
   },
   {
    "duration": 17,
    "start_time": "2023-07-11T08:08:29.826Z"
   },
   {
    "duration": 132,
    "start_time": "2023-07-11T08:08:29.846Z"
   },
   {
    "duration": 209,
    "start_time": "2023-07-11T08:08:29.980Z"
   },
   {
    "duration": 85,
    "start_time": "2023-07-11T08:08:30.191Z"
   },
   {
    "duration": 56,
    "start_time": "2023-07-11T08:08:30.278Z"
   },
   {
    "duration": 123,
    "start_time": "2023-07-11T08:08:30.336Z"
   },
   {
    "duration": 296,
    "start_time": "2023-07-11T08:08:30.462Z"
   },
   {
    "duration": 142,
    "start_time": "2023-07-11T08:08:30.760Z"
   },
   {
    "duration": 260,
    "start_time": "2023-07-11T08:08:30.904Z"
   },
   {
    "duration": 157,
    "start_time": "2023-07-11T08:08:31.166Z"
   },
   {
    "duration": 60,
    "start_time": "2023-07-11T08:08:31.325Z"
   },
   {
    "duration": 70,
    "start_time": "2023-07-11T08:08:31.387Z"
   },
   {
    "duration": 241,
    "start_time": "2023-07-11T08:08:31.458Z"
   },
   {
    "duration": 27,
    "start_time": "2023-07-11T08:08:31.701Z"
   },
   {
    "duration": 37,
    "start_time": "2023-07-11T08:08:31.730Z"
   },
   {
    "duration": 35,
    "start_time": "2023-07-11T08:08:31.769Z"
   },
   {
    "duration": 41,
    "start_time": "2023-07-11T08:08:31.806Z"
   },
   {
    "duration": 27,
    "start_time": "2023-07-11T08:08:31.850Z"
   },
   {
    "duration": 37,
    "start_time": "2023-07-11T08:08:31.879Z"
   },
   {
    "duration": 19,
    "start_time": "2023-07-11T08:08:31.922Z"
   },
   {
    "duration": 49,
    "start_time": "2023-07-11T08:08:31.944Z"
   },
   {
    "duration": 70,
    "start_time": "2023-07-11T08:08:31.995Z"
   },
   {
    "duration": 32,
    "start_time": "2023-07-11T08:08:32.067Z"
   },
   {
    "duration": 30,
    "start_time": "2023-07-11T08:08:32.102Z"
   },
   {
    "duration": 43,
    "start_time": "2023-07-11T08:08:32.134Z"
   },
   {
    "duration": 51,
    "start_time": "2023-07-11T08:08:32.179Z"
   },
   {
    "duration": 13,
    "start_time": "2023-07-11T08:08:32.233Z"
   },
   {
    "duration": 456,
    "start_time": "2023-07-11T08:08:32.248Z"
   },
   {
    "duration": 20,
    "start_time": "2023-07-11T08:08:32.706Z"
   },
   {
    "duration": 18,
    "start_time": "2023-07-11T08:08:32.728Z"
   },
   {
    "duration": 63,
    "start_time": "2023-07-11T08:08:32.748Z"
   },
   {
    "duration": 33,
    "start_time": "2023-07-11T08:08:32.813Z"
   },
   {
    "duration": 13,
    "start_time": "2023-07-11T08:08:32.849Z"
   },
   {
    "duration": 472,
    "start_time": "2023-07-11T08:08:32.865Z"
   },
   {
    "duration": 12,
    "start_time": "2023-07-11T08:08:33.339Z"
   },
   {
    "duration": 20,
    "start_time": "2023-07-11T08:08:33.353Z"
   },
   {
    "duration": 18,
    "start_time": "2023-07-11T08:08:33.376Z"
   },
   {
    "duration": 17,
    "start_time": "2023-07-11T08:08:33.410Z"
   },
   {
    "duration": 56,
    "start_time": "2023-07-11T08:08:33.429Z"
   },
   {
    "duration": 10,
    "start_time": "2023-07-11T08:08:33.487Z"
   },
   {
    "duration": 451,
    "start_time": "2023-07-11T08:08:33.499Z"
   },
   {
    "duration": 199,
    "start_time": "2023-07-11T08:08:33.952Z"
   },
   {
    "duration": 0,
    "start_time": "2023-07-11T08:08:34.153Z"
   },
   {
    "duration": 0,
    "start_time": "2023-07-11T08:08:34.154Z"
   },
   {
    "duration": 0,
    "start_time": "2023-07-11T08:08:34.156Z"
   },
   {
    "duration": 0,
    "start_time": "2023-07-11T08:08:34.157Z"
   },
   {
    "duration": 0,
    "start_time": "2023-07-11T08:08:34.158Z"
   },
   {
    "duration": 0,
    "start_time": "2023-07-11T08:08:34.159Z"
   },
   {
    "duration": 0,
    "start_time": "2023-07-11T08:08:34.160Z"
   },
   {
    "duration": 0,
    "start_time": "2023-07-11T08:08:34.162Z"
   },
   {
    "duration": 0,
    "start_time": "2023-07-11T08:08:34.162Z"
   },
   {
    "duration": 0,
    "start_time": "2023-07-11T08:08:34.164Z"
   },
   {
    "duration": 72,
    "start_time": "2023-07-11T08:09:08.280Z"
   },
   {
    "duration": 1502,
    "start_time": "2023-07-11T08:09:27.696Z"
   },
   {
    "duration": 2060,
    "start_time": "2023-07-11T08:09:29.201Z"
   },
   {
    "duration": 3,
    "start_time": "2023-07-11T08:09:31.263Z"
   },
   {
    "duration": 127,
    "start_time": "2023-07-11T08:09:31.268Z"
   },
   {
    "duration": 504,
    "start_time": "2023-07-11T08:09:31.397Z"
   },
   {
    "duration": 91,
    "start_time": "2023-07-11T08:09:31.903Z"
   },
   {
    "duration": 41,
    "start_time": "2023-07-11T08:09:31.996Z"
   },
   {
    "duration": 90,
    "start_time": "2023-07-11T08:09:32.040Z"
   },
   {
    "duration": 19,
    "start_time": "2023-07-11T08:09:32.133Z"
   },
   {
    "duration": 146,
    "start_time": "2023-07-11T08:09:32.156Z"
   },
   {
    "duration": 218,
    "start_time": "2023-07-11T08:09:32.305Z"
   },
   {
    "duration": 61,
    "start_time": "2023-07-11T08:09:32.525Z"
   },
   {
    "duration": 42,
    "start_time": "2023-07-11T08:09:32.588Z"
   },
   {
    "duration": 70,
    "start_time": "2023-07-11T08:09:32.632Z"
   },
   {
    "duration": 97,
    "start_time": "2023-07-11T08:09:32.704Z"
   },
   {
    "duration": 43,
    "start_time": "2023-07-11T08:09:32.803Z"
   },
   {
    "duration": 55,
    "start_time": "2023-07-11T08:09:32.848Z"
   },
   {
    "duration": 55,
    "start_time": "2023-07-11T08:09:32.905Z"
   },
   {
    "duration": 15,
    "start_time": "2023-07-11T08:09:32.963Z"
   },
   {
    "duration": 35,
    "start_time": "2023-07-11T08:09:32.980Z"
   },
   {
    "duration": 183,
    "start_time": "2023-07-11T08:09:33.018Z"
   },
   {
    "duration": 37,
    "start_time": "2023-07-11T08:09:33.208Z"
   },
   {
    "duration": 104,
    "start_time": "2023-07-11T08:09:33.248Z"
   },
   {
    "duration": 22,
    "start_time": "2023-07-11T08:09:33.355Z"
   },
   {
    "duration": 22,
    "start_time": "2023-07-11T08:09:33.379Z"
   },
   {
    "duration": 40,
    "start_time": "2023-07-11T08:09:33.403Z"
   },
   {
    "duration": 19,
    "start_time": "2023-07-11T08:09:33.446Z"
   },
   {
    "duration": 46,
    "start_time": "2023-07-11T08:09:33.469Z"
   },
   {
    "duration": 30,
    "start_time": "2023-07-11T08:09:33.517Z"
   },
   {
    "duration": 29,
    "start_time": "2023-07-11T08:09:33.549Z"
   },
   {
    "duration": 24,
    "start_time": "2023-07-11T08:09:33.580Z"
   },
   {
    "duration": 39,
    "start_time": "2023-07-11T08:09:33.606Z"
   },
   {
    "duration": 44,
    "start_time": "2023-07-11T08:09:33.647Z"
   },
   {
    "duration": 55,
    "start_time": "2023-07-11T08:09:33.693Z"
   },
   {
    "duration": 22,
    "start_time": "2023-07-11T08:09:33.750Z"
   },
   {
    "duration": 627,
    "start_time": "2023-07-11T08:09:33.774Z"
   },
   {
    "duration": 20,
    "start_time": "2023-07-11T08:09:34.403Z"
   },
   {
    "duration": 31,
    "start_time": "2023-07-11T08:09:34.426Z"
   },
   {
    "duration": 61,
    "start_time": "2023-07-11T08:09:34.459Z"
   },
   {
    "duration": 36,
    "start_time": "2023-07-11T08:09:34.522Z"
   },
   {
    "duration": 26,
    "start_time": "2023-07-11T08:09:34.560Z"
   },
   {
    "duration": 461,
    "start_time": "2023-07-11T08:09:34.588Z"
   },
   {
    "duration": 12,
    "start_time": "2023-07-11T08:09:35.051Z"
   },
   {
    "duration": 27,
    "start_time": "2023-07-11T08:09:35.065Z"
   },
   {
    "duration": 35,
    "start_time": "2023-07-11T08:09:35.094Z"
   },
   {
    "duration": 37,
    "start_time": "2023-07-11T08:09:35.131Z"
   },
   {
    "duration": 47,
    "start_time": "2023-07-11T08:09:35.170Z"
   },
   {
    "duration": 56,
    "start_time": "2023-07-11T08:09:35.219Z"
   },
   {
    "duration": 415,
    "start_time": "2023-07-11T08:09:35.277Z"
   },
   {
    "duration": 81,
    "start_time": "2023-07-11T08:09:35.694Z"
   },
   {
    "duration": 49,
    "start_time": "2023-07-11T08:09:35.778Z"
   },
   {
    "duration": 83,
    "start_time": "2023-07-11T08:09:35.829Z"
   },
   {
    "duration": 342,
    "start_time": "2023-07-11T08:09:35.915Z"
   },
   {
    "duration": 4,
    "start_time": "2023-07-11T08:09:36.260Z"
   },
   {
    "duration": 44,
    "start_time": "2023-07-11T08:09:36.266Z"
   },
   {
    "duration": 40,
    "start_time": "2023-07-11T08:09:36.312Z"
   },
   {
    "duration": 71,
    "start_time": "2023-07-11T08:09:36.354Z"
   },
   {
    "duration": 26,
    "start_time": "2023-07-11T08:09:36.427Z"
   },
   {
    "duration": 25,
    "start_time": "2023-07-11T08:09:36.455Z"
   },
   {
    "duration": 51,
    "start_time": "2023-07-11T08:09:36.483Z"
   },
   {
    "duration": 35,
    "start_time": "2023-07-11T08:16:08.104Z"
   },
   {
    "duration": 31,
    "start_time": "2023-07-11T08:28:30.442Z"
   },
   {
    "duration": 30,
    "start_time": "2023-07-11T08:29:02.063Z"
   },
   {
    "duration": 31,
    "start_time": "2023-07-11T08:29:02.689Z"
   },
   {
    "duration": 81,
    "start_time": "2023-07-11T08:29:07.945Z"
   },
   {
    "duration": 1467,
    "start_time": "2023-07-11T08:32:58.906Z"
   },
   {
    "duration": 1689,
    "start_time": "2023-07-11T08:33:00.375Z"
   },
   {
    "duration": 4,
    "start_time": "2023-07-11T08:33:02.066Z"
   },
   {
    "duration": 146,
    "start_time": "2023-07-11T08:33:02.072Z"
   },
   {
    "duration": 477,
    "start_time": "2023-07-11T08:33:02.221Z"
   },
   {
    "duration": 92,
    "start_time": "2023-07-11T08:33:02.700Z"
   },
   {
    "duration": 33,
    "start_time": "2023-07-11T08:33:02.794Z"
   },
   {
    "duration": 134,
    "start_time": "2023-07-11T08:33:02.829Z"
   },
   {
    "duration": 52,
    "start_time": "2023-07-11T08:33:02.965Z"
   },
   {
    "duration": 174,
    "start_time": "2023-07-11T08:33:03.021Z"
   },
   {
    "duration": 196,
    "start_time": "2023-07-11T08:33:03.197Z"
   },
   {
    "duration": 39,
    "start_time": "2023-07-11T08:33:03.395Z"
   },
   {
    "duration": 20,
    "start_time": "2023-07-11T08:33:03.437Z"
   },
   {
    "duration": 35,
    "start_time": "2023-07-11T08:33:03.460Z"
   },
   {
    "duration": 25,
    "start_time": "2023-07-11T08:33:03.497Z"
   },
   {
    "duration": 29,
    "start_time": "2023-07-11T08:33:03.525Z"
   },
   {
    "duration": 35,
    "start_time": "2023-07-11T08:33:03.556Z"
   },
   {
    "duration": 61,
    "start_time": "2023-07-11T08:33:03.593Z"
   },
   {
    "duration": 16,
    "start_time": "2023-07-11T08:33:03.656Z"
   },
   {
    "duration": 37,
    "start_time": "2023-07-11T08:33:03.674Z"
   },
   {
    "duration": 173,
    "start_time": "2023-07-11T08:33:03.713Z"
   },
   {
    "duration": 40,
    "start_time": "2023-07-11T08:33:03.888Z"
   },
   {
    "duration": 37,
    "start_time": "2023-07-11T08:33:03.929Z"
   },
   {
    "duration": 105,
    "start_time": "2023-07-11T08:33:03.969Z"
   },
   {
    "duration": 68,
    "start_time": "2023-07-11T08:33:04.076Z"
   },
   {
    "duration": 43,
    "start_time": "2023-07-11T08:33:04.146Z"
   },
   {
    "duration": 50,
    "start_time": "2023-07-11T08:33:04.190Z"
   },
   {
    "duration": 74,
    "start_time": "2023-07-11T08:33:04.244Z"
   },
   {
    "duration": 45,
    "start_time": "2023-07-11T08:33:04.320Z"
   },
   {
    "duration": 60,
    "start_time": "2023-07-11T08:33:04.367Z"
   },
   {
    "duration": 30,
    "start_time": "2023-07-11T08:33:04.429Z"
   },
   {
    "duration": 48,
    "start_time": "2023-07-11T08:33:04.461Z"
   },
   {
    "duration": 32,
    "start_time": "2023-07-11T08:33:04.511Z"
   },
   {
    "duration": 45,
    "start_time": "2023-07-11T08:33:04.545Z"
   },
   {
    "duration": 12,
    "start_time": "2023-07-11T08:33:04.592Z"
   },
   {
    "duration": 448,
    "start_time": "2023-07-11T08:33:04.606Z"
   },
   {
    "duration": 21,
    "start_time": "2023-07-11T08:33:05.056Z"
   },
   {
    "duration": 62,
    "start_time": "2023-07-11T08:33:05.079Z"
   },
   {
    "duration": 51,
    "start_time": "2023-07-11T08:33:05.143Z"
   },
   {
    "duration": 52,
    "start_time": "2023-07-11T08:33:05.197Z"
   },
   {
    "duration": 29,
    "start_time": "2023-07-11T08:33:05.252Z"
   },
   {
    "duration": 482,
    "start_time": "2023-07-11T08:33:05.282Z"
   },
   {
    "duration": 14,
    "start_time": "2023-07-11T08:33:05.766Z"
   },
   {
    "duration": 38,
    "start_time": "2023-07-11T08:33:05.783Z"
   },
   {
    "duration": 29,
    "start_time": "2023-07-11T08:33:05.823Z"
   },
   {
    "duration": 49,
    "start_time": "2023-07-11T08:33:05.855Z"
   },
   {
    "duration": 57,
    "start_time": "2023-07-11T08:33:05.906Z"
   },
   {
    "duration": 15,
    "start_time": "2023-07-11T08:33:05.966Z"
   },
   {
    "duration": 432,
    "start_time": "2023-07-11T08:33:05.983Z"
   },
   {
    "duration": 67,
    "start_time": "2023-07-11T08:33:06.418Z"
   },
   {
    "duration": 61,
    "start_time": "2023-07-11T08:33:06.487Z"
   },
   {
    "duration": 62,
    "start_time": "2023-07-11T08:33:06.550Z"
   },
   {
    "duration": 95,
    "start_time": "2023-07-11T08:33:06.615Z"
   },
   {
    "duration": 4,
    "start_time": "2023-07-11T08:33:06.713Z"
   },
   {
    "duration": 22,
    "start_time": "2023-07-11T08:33:06.719Z"
   },
   {
    "duration": 26,
    "start_time": "2023-07-11T08:33:06.743Z"
   },
   {
    "duration": 34,
    "start_time": "2023-07-11T08:33:06.771Z"
   },
   {
    "duration": 41,
    "start_time": "2023-07-11T08:33:06.807Z"
   },
   {
    "duration": 16,
    "start_time": "2023-07-11T08:33:06.850Z"
   },
   {
    "duration": 33,
    "start_time": "2023-07-11T08:33:06.868Z"
   },
   {
    "duration": 1350,
    "start_time": "2023-07-12T05:03:37.145Z"
   },
   {
    "duration": 1152,
    "start_time": "2023-07-12T05:03:38.497Z"
   },
   {
    "duration": 4,
    "start_time": "2023-07-12T05:03:39.651Z"
   },
   {
    "duration": 67,
    "start_time": "2023-07-12T05:03:39.657Z"
   },
   {
    "duration": 345,
    "start_time": "2023-07-12T05:03:39.725Z"
   },
   {
    "duration": 76,
    "start_time": "2023-07-12T05:03:40.072Z"
   },
   {
    "duration": 23,
    "start_time": "2023-07-12T05:03:40.150Z"
   },
   {
    "duration": 82,
    "start_time": "2023-07-12T05:03:40.175Z"
   },
   {
    "duration": 27,
    "start_time": "2023-07-12T05:03:40.259Z"
   },
   {
    "duration": 171,
    "start_time": "2023-07-12T05:03:40.288Z"
   },
   {
    "duration": 178,
    "start_time": "2023-07-12T05:03:40.460Z"
   },
   {
    "duration": 25,
    "start_time": "2023-07-12T05:03:40.639Z"
   },
   {
    "duration": 34,
    "start_time": "2023-07-12T05:03:40.665Z"
   },
   {
    "duration": 51,
    "start_time": "2023-07-12T05:03:40.700Z"
   },
   {
    "duration": 11,
    "start_time": "2023-07-12T05:03:40.753Z"
   },
   {
    "duration": 35,
    "start_time": "2023-07-12T05:03:40.765Z"
   },
   {
    "duration": 28,
    "start_time": "2023-07-12T05:03:40.802Z"
   },
   {
    "duration": 49,
    "start_time": "2023-07-12T05:03:40.831Z"
   },
   {
    "duration": 19,
    "start_time": "2023-07-12T05:03:40.881Z"
   },
   {
    "duration": 17,
    "start_time": "2023-07-12T05:03:40.901Z"
   },
   {
    "duration": 112,
    "start_time": "2023-07-12T05:03:40.919Z"
   },
   {
    "duration": 18,
    "start_time": "2023-07-12T05:03:41.033Z"
   },
   {
    "duration": 30,
    "start_time": "2023-07-12T05:03:41.053Z"
   },
   {
    "duration": 27,
    "start_time": "2023-07-12T05:03:41.085Z"
   },
   {
    "duration": 28,
    "start_time": "2023-07-12T05:03:41.113Z"
   },
   {
    "duration": 18,
    "start_time": "2023-07-12T05:03:41.142Z"
   },
   {
    "duration": 39,
    "start_time": "2023-07-12T05:03:41.163Z"
   },
   {
    "duration": 4,
    "start_time": "2023-07-12T05:03:41.206Z"
   },
   {
    "duration": 52,
    "start_time": "2023-07-12T05:03:41.212Z"
   },
   {
    "duration": 38,
    "start_time": "2023-07-12T05:03:41.266Z"
   },
   {
    "duration": 57,
    "start_time": "2023-07-12T05:03:41.305Z"
   },
   {
    "duration": 14,
    "start_time": "2023-07-12T05:03:41.363Z"
   },
   {
    "duration": 95,
    "start_time": "2023-07-12T05:03:41.379Z"
   },
   {
    "duration": 65,
    "start_time": "2023-07-12T05:03:41.475Z"
   },
   {
    "duration": 28,
    "start_time": "2023-07-12T05:03:41.542Z"
   },
   {
    "duration": 727,
    "start_time": "2023-07-12T05:03:41.572Z"
   },
   {
    "duration": 38,
    "start_time": "2023-07-12T05:03:42.301Z"
   },
   {
    "duration": 37,
    "start_time": "2023-07-12T05:03:42.341Z"
   },
   {
    "duration": 29,
    "start_time": "2023-07-12T05:03:42.380Z"
   },
   {
    "duration": 120,
    "start_time": "2023-07-12T05:03:42.411Z"
   },
   {
    "duration": 165,
    "start_time": "2023-07-12T05:03:42.533Z"
   },
   {
    "duration": 303,
    "start_time": "2023-07-12T05:03:42.699Z"
   },
   {
    "duration": 10,
    "start_time": "2023-07-12T05:03:43.003Z"
   },
   {
    "duration": 42,
    "start_time": "2023-07-12T05:03:43.015Z"
   },
   {
    "duration": 32,
    "start_time": "2023-07-12T05:03:43.059Z"
   },
   {
    "duration": 16,
    "start_time": "2023-07-12T05:03:43.092Z"
   },
   {
    "duration": 147,
    "start_time": "2023-07-12T05:03:43.110Z"
   },
   {
    "duration": 8,
    "start_time": "2023-07-12T05:03:43.259Z"
   },
   {
    "duration": 350,
    "start_time": "2023-07-12T05:03:43.268Z"
   },
   {
    "duration": 62,
    "start_time": "2023-07-12T05:03:43.620Z"
   },
   {
    "duration": 22,
    "start_time": "2023-07-12T05:03:43.684Z"
   },
   {
    "duration": 39,
    "start_time": "2023-07-12T05:03:43.707Z"
   },
   {
    "duration": 86,
    "start_time": "2023-07-12T05:03:43.748Z"
   },
   {
    "duration": 3,
    "start_time": "2023-07-12T05:03:43.836Z"
   },
   {
    "duration": 8,
    "start_time": "2023-07-12T05:03:43.841Z"
   },
   {
    "duration": 14,
    "start_time": "2023-07-12T05:03:43.851Z"
   },
   {
    "duration": 29,
    "start_time": "2023-07-12T05:03:43.867Z"
   },
   {
    "duration": 27,
    "start_time": "2023-07-12T05:03:43.897Z"
   },
   {
    "duration": 17,
    "start_time": "2023-07-12T05:03:43.926Z"
   },
   {
    "duration": 37,
    "start_time": "2023-07-12T05:03:43.944Z"
   },
   {
    "duration": 1431,
    "start_time": "2023-07-12T05:54:54.550Z"
   },
   {
    "duration": 1328,
    "start_time": "2023-07-12T05:54:55.983Z"
   },
   {
    "duration": 3,
    "start_time": "2023-07-12T05:54:57.312Z"
   },
   {
    "duration": 33,
    "start_time": "2023-07-12T05:54:57.317Z"
   },
   {
    "duration": 348,
    "start_time": "2023-07-12T05:54:57.352Z"
   },
   {
    "duration": 82,
    "start_time": "2023-07-12T05:54:57.701Z"
   },
   {
    "duration": 23,
    "start_time": "2023-07-12T05:54:57.785Z"
   },
   {
    "duration": 69,
    "start_time": "2023-07-12T05:54:57.810Z"
   },
   {
    "duration": 14,
    "start_time": "2023-07-12T05:54:57.881Z"
   },
   {
    "duration": 119,
    "start_time": "2023-07-12T05:54:57.898Z"
   },
   {
    "duration": 193,
    "start_time": "2023-07-12T05:54:58.019Z"
   },
   {
    "duration": 24,
    "start_time": "2023-07-12T05:54:58.214Z"
   },
   {
    "duration": 22,
    "start_time": "2023-07-12T05:54:58.240Z"
   },
   {
    "duration": 17,
    "start_time": "2023-07-12T05:54:58.263Z"
   },
   {
    "duration": 9,
    "start_time": "2023-07-12T05:54:58.282Z"
   },
   {
    "duration": 16,
    "start_time": "2023-07-12T05:54:58.292Z"
   },
   {
    "duration": 12,
    "start_time": "2023-07-12T05:54:58.310Z"
   },
   {
    "duration": 19,
    "start_time": "2023-07-12T05:54:58.323Z"
   },
   {
    "duration": 124,
    "start_time": "2023-07-12T05:54:58.358Z"
   },
   {
    "duration": 14,
    "start_time": "2023-07-12T05:54:58.484Z"
   },
   {
    "duration": 8,
    "start_time": "2023-07-12T05:54:58.500Z"
   },
   {
    "duration": 138,
    "start_time": "2023-07-12T05:54:58.510Z"
   },
   {
    "duration": 25,
    "start_time": "2023-07-12T05:54:58.650Z"
   },
   {
    "duration": 11,
    "start_time": "2023-07-12T05:54:58.677Z"
   },
   {
    "duration": 11,
    "start_time": "2023-07-12T05:54:58.689Z"
   },
   {
    "duration": 11,
    "start_time": "2023-07-12T05:54:58.701Z"
   },
   {
    "duration": 46,
    "start_time": "2023-07-12T05:54:58.714Z"
   },
   {
    "duration": 0,
    "start_time": "2023-07-12T05:54:58.762Z"
   },
   {
    "duration": 0,
    "start_time": "2023-07-12T05:54:58.764Z"
   },
   {
    "duration": 0,
    "start_time": "2023-07-12T05:54:58.765Z"
   },
   {
    "duration": 0,
    "start_time": "2023-07-12T05:54:58.767Z"
   },
   {
    "duration": 0,
    "start_time": "2023-07-12T05:54:58.768Z"
   },
   {
    "duration": 0,
    "start_time": "2023-07-12T05:54:58.769Z"
   },
   {
    "duration": 0,
    "start_time": "2023-07-12T05:54:58.770Z"
   },
   {
    "duration": 0,
    "start_time": "2023-07-12T05:54:58.772Z"
   },
   {
    "duration": 0,
    "start_time": "2023-07-12T05:54:58.773Z"
   },
   {
    "duration": 0,
    "start_time": "2023-07-12T05:54:58.774Z"
   },
   {
    "duration": 0,
    "start_time": "2023-07-12T05:54:58.775Z"
   },
   {
    "duration": 0,
    "start_time": "2023-07-12T05:54:58.776Z"
   },
   {
    "duration": 0,
    "start_time": "2023-07-12T05:54:58.777Z"
   },
   {
    "duration": 0,
    "start_time": "2023-07-12T05:54:58.778Z"
   },
   {
    "duration": 0,
    "start_time": "2023-07-12T05:54:58.779Z"
   },
   {
    "duration": 0,
    "start_time": "2023-07-12T05:54:58.780Z"
   },
   {
    "duration": 0,
    "start_time": "2023-07-12T05:54:58.781Z"
   },
   {
    "duration": 0,
    "start_time": "2023-07-12T05:54:58.783Z"
   },
   {
    "duration": 0,
    "start_time": "2023-07-12T05:54:58.784Z"
   },
   {
    "duration": 1,
    "start_time": "2023-07-12T05:54:58.784Z"
   },
   {
    "duration": 0,
    "start_time": "2023-07-12T05:54:58.786Z"
   },
   {
    "duration": 0,
    "start_time": "2023-07-12T05:54:58.787Z"
   },
   {
    "duration": 0,
    "start_time": "2023-07-12T05:54:58.788Z"
   },
   {
    "duration": 0,
    "start_time": "2023-07-12T05:54:58.789Z"
   },
   {
    "duration": 0,
    "start_time": "2023-07-12T05:54:58.790Z"
   },
   {
    "duration": 0,
    "start_time": "2023-07-12T05:54:58.791Z"
   },
   {
    "duration": 0,
    "start_time": "2023-07-12T05:54:58.792Z"
   },
   {
    "duration": 0,
    "start_time": "2023-07-12T05:54:58.793Z"
   },
   {
    "duration": 0,
    "start_time": "2023-07-12T05:54:58.794Z"
   },
   {
    "duration": 0,
    "start_time": "2023-07-12T05:54:58.796Z"
   },
   {
    "duration": 0,
    "start_time": "2023-07-12T05:54:58.796Z"
   },
   {
    "duration": 0,
    "start_time": "2023-07-12T05:54:58.799Z"
   },
   {
    "duration": 0,
    "start_time": "2023-07-12T05:54:58.859Z"
   },
   {
    "duration": 0,
    "start_time": "2023-07-12T05:54:58.860Z"
   },
   {
    "duration": 18,
    "start_time": "2023-07-12T05:55:44.770Z"
   },
   {
    "duration": 14,
    "start_time": "2023-07-12T06:00:35.074Z"
   },
   {
    "duration": 18,
    "start_time": "2023-07-12T06:02:14.128Z"
   },
   {
    "duration": 6,
    "start_time": "2023-07-12T06:02:20.625Z"
   },
   {
    "duration": 1244,
    "start_time": "2023-07-12T06:02:34.478Z"
   },
   {
    "duration": 1461,
    "start_time": "2023-07-12T06:02:35.724Z"
   },
   {
    "duration": 3,
    "start_time": "2023-07-12T06:02:37.187Z"
   },
   {
    "duration": 46,
    "start_time": "2023-07-12T06:02:37.192Z"
   },
   {
    "duration": 385,
    "start_time": "2023-07-12T06:02:37.240Z"
   },
   {
    "duration": 87,
    "start_time": "2023-07-12T06:02:37.626Z"
   },
   {
    "duration": 23,
    "start_time": "2023-07-12T06:02:37.714Z"
   },
   {
    "duration": 69,
    "start_time": "2023-07-12T06:02:37.738Z"
   },
   {
    "duration": 15,
    "start_time": "2023-07-12T06:02:37.808Z"
   },
   {
    "duration": 128,
    "start_time": "2023-07-12T06:02:37.825Z"
   },
   {
    "duration": 191,
    "start_time": "2023-07-12T06:02:37.955Z"
   },
   {
    "duration": 28,
    "start_time": "2023-07-12T06:02:38.148Z"
   },
   {
    "duration": 39,
    "start_time": "2023-07-12T06:02:38.178Z"
   },
   {
    "duration": 102,
    "start_time": "2023-07-12T06:02:38.219Z"
   },
   {
    "duration": 132,
    "start_time": "2023-07-12T06:02:38.323Z"
   },
   {
    "duration": 31,
    "start_time": "2023-07-12T06:02:38.457Z"
   },
   {
    "duration": 16,
    "start_time": "2023-07-12T06:02:38.490Z"
   },
   {
    "duration": 118,
    "start_time": "2023-07-12T06:02:38.508Z"
   },
   {
    "duration": 14,
    "start_time": "2023-07-12T06:02:38.628Z"
   },
   {
    "duration": 18,
    "start_time": "2023-07-12T06:02:38.644Z"
   },
   {
    "duration": 20,
    "start_time": "2023-07-12T06:02:38.664Z"
   },
   {
    "duration": 16,
    "start_time": "2023-07-12T06:02:38.685Z"
   },
   {
    "duration": 141,
    "start_time": "2023-07-12T06:02:38.703Z"
   },
   {
    "duration": 31,
    "start_time": "2023-07-12T06:02:38.846Z"
   },
   {
    "duration": 14,
    "start_time": "2023-07-12T06:02:38.879Z"
   },
   {
    "duration": 17,
    "start_time": "2023-07-12T06:02:38.895Z"
   },
   {
    "duration": 18,
    "start_time": "2023-07-12T06:02:38.913Z"
   },
   {
    "duration": 34,
    "start_time": "2023-07-12T06:02:38.936Z"
   },
   {
    "duration": 17,
    "start_time": "2023-07-12T06:02:38.973Z"
   },
   {
    "duration": 10,
    "start_time": "2023-07-12T06:02:38.992Z"
   },
   {
    "duration": 14,
    "start_time": "2023-07-12T06:02:39.004Z"
   },
   {
    "duration": 16,
    "start_time": "2023-07-12T06:02:39.020Z"
   },
   {
    "duration": 18,
    "start_time": "2023-07-12T06:02:39.059Z"
   },
   {
    "duration": 15,
    "start_time": "2023-07-12T06:02:39.079Z"
   },
   {
    "duration": 8,
    "start_time": "2023-07-12T06:02:39.096Z"
   },
   {
    "duration": 53,
    "start_time": "2023-07-12T06:02:39.106Z"
   },
   {
    "duration": 12,
    "start_time": "2023-07-12T06:02:39.161Z"
   },
   {
    "duration": 391,
    "start_time": "2023-07-12T06:02:39.174Z"
   },
   {
    "duration": 22,
    "start_time": "2023-07-12T06:02:39.567Z"
   },
   {
    "duration": 9,
    "start_time": "2023-07-12T06:02:39.591Z"
   },
   {
    "duration": 59,
    "start_time": "2023-07-12T06:02:39.601Z"
   },
   {
    "duration": 7,
    "start_time": "2023-07-12T06:02:39.663Z"
   },
   {
    "duration": 10,
    "start_time": "2023-07-12T06:02:39.672Z"
   },
   {
    "duration": 451,
    "start_time": "2023-07-12T06:02:39.684Z"
   },
   {
    "duration": 10,
    "start_time": "2023-07-12T06:02:40.136Z"
   },
   {
    "duration": 9,
    "start_time": "2023-07-12T06:02:40.160Z"
   },
   {
    "duration": 14,
    "start_time": "2023-07-12T06:02:40.170Z"
   },
   {
    "duration": 13,
    "start_time": "2023-07-12T06:02:40.186Z"
   },
   {
    "duration": 26,
    "start_time": "2023-07-12T06:02:40.200Z"
   },
   {
    "duration": 36,
    "start_time": "2023-07-12T06:02:40.228Z"
   },
   {
    "duration": 361,
    "start_time": "2023-07-12T06:02:40.266Z"
   },
   {
    "duration": 64,
    "start_time": "2023-07-12T06:02:40.629Z"
   },
   {
    "duration": 26,
    "start_time": "2023-07-12T06:02:40.694Z"
   },
   {
    "duration": 40,
    "start_time": "2023-07-12T06:02:40.721Z"
   },
   {
    "duration": 75,
    "start_time": "2023-07-12T06:02:40.763Z"
   },
   {
    "duration": 20,
    "start_time": "2023-07-12T06:02:40.840Z"
   },
   {
    "duration": 15,
    "start_time": "2023-07-12T06:02:40.862Z"
   },
   {
    "duration": 6,
    "start_time": "2023-07-12T06:02:40.879Z"
   },
   {
    "duration": 15,
    "start_time": "2023-07-12T06:02:40.887Z"
   },
   {
    "duration": 15,
    "start_time": "2023-07-12T06:02:40.903Z"
   },
   {
    "duration": 13,
    "start_time": "2023-07-12T06:02:40.920Z"
   },
   {
    "duration": 22,
    "start_time": "2023-07-12T06:02:40.934Z"
   },
   {
    "duration": 1494,
    "start_time": "2023-07-12T06:05:01.734Z"
   },
   {
    "duration": 1351,
    "start_time": "2023-07-12T06:05:03.230Z"
   },
   {
    "duration": 4,
    "start_time": "2023-07-12T06:05:04.582Z"
   },
   {
    "duration": 31,
    "start_time": "2023-07-12T06:05:04.588Z"
   },
   {
    "duration": 428,
    "start_time": "2023-07-12T06:05:04.621Z"
   },
   {
    "duration": 79,
    "start_time": "2023-07-12T06:05:05.051Z"
   },
   {
    "duration": 35,
    "start_time": "2023-07-12T06:05:05.132Z"
   },
   {
    "duration": 55,
    "start_time": "2023-07-12T06:05:05.169Z"
   },
   {
    "duration": 38,
    "start_time": "2023-07-12T06:05:05.225Z"
   },
   {
    "duration": 141,
    "start_time": "2023-07-12T06:05:05.267Z"
   },
   {
    "duration": 197,
    "start_time": "2023-07-12T06:05:05.409Z"
   },
   {
    "duration": 26,
    "start_time": "2023-07-12T06:05:05.608Z"
   },
   {
    "duration": 29,
    "start_time": "2023-07-12T06:05:05.635Z"
   },
   {
    "duration": 23,
    "start_time": "2023-07-12T06:05:05.666Z"
   },
   {
    "duration": 13,
    "start_time": "2023-07-12T06:05:05.691Z"
   },
   {
    "duration": 26,
    "start_time": "2023-07-12T06:05:05.706Z"
   },
   {
    "duration": 37,
    "start_time": "2023-07-12T06:05:05.733Z"
   },
   {
    "duration": 146,
    "start_time": "2023-07-12T06:05:05.773Z"
   },
   {
    "duration": 15,
    "start_time": "2023-07-12T06:05:05.920Z"
   },
   {
    "duration": 18,
    "start_time": "2023-07-12T06:05:05.936Z"
   },
   {
    "duration": 13,
    "start_time": "2023-07-12T06:05:05.960Z"
   },
   {
    "duration": 8,
    "start_time": "2023-07-12T06:05:05.975Z"
   },
   {
    "duration": 162,
    "start_time": "2023-07-12T06:05:05.984Z"
   },
   {
    "duration": 29,
    "start_time": "2023-07-12T06:05:06.148Z"
   },
   {
    "duration": 11,
    "start_time": "2023-07-12T06:05:06.179Z"
   },
   {
    "duration": 20,
    "start_time": "2023-07-12T06:05:06.191Z"
   },
   {
    "duration": 13,
    "start_time": "2023-07-12T06:05:06.213Z"
   },
   {
    "duration": 37,
    "start_time": "2023-07-12T06:05:06.232Z"
   },
   {
    "duration": 13,
    "start_time": "2023-07-12T06:05:06.270Z"
   },
   {
    "duration": 9,
    "start_time": "2023-07-12T06:05:06.285Z"
   },
   {
    "duration": 20,
    "start_time": "2023-07-12T06:05:06.296Z"
   },
   {
    "duration": 26,
    "start_time": "2023-07-12T06:05:06.318Z"
   },
   {
    "duration": 29,
    "start_time": "2023-07-12T06:05:06.346Z"
   },
   {
    "duration": 28,
    "start_time": "2023-07-12T06:05:06.377Z"
   },
   {
    "duration": 15,
    "start_time": "2023-07-12T06:05:06.407Z"
   },
   {
    "duration": 25,
    "start_time": "2023-07-12T06:05:06.423Z"
   },
   {
    "duration": 17,
    "start_time": "2023-07-12T06:05:06.449Z"
   },
   {
    "duration": 462,
    "start_time": "2023-07-12T06:05:06.468Z"
   },
   {
    "duration": 28,
    "start_time": "2023-07-12T06:05:06.931Z"
   },
   {
    "duration": 7,
    "start_time": "2023-07-12T06:05:06.961Z"
   },
   {
    "duration": 8,
    "start_time": "2023-07-12T06:05:06.970Z"
   },
   {
    "duration": 16,
    "start_time": "2023-07-12T06:05:06.980Z"
   },
   {
    "duration": 13,
    "start_time": "2023-07-12T06:05:06.997Z"
   },
   {
    "duration": 426,
    "start_time": "2023-07-12T06:05:07.060Z"
   },
   {
    "duration": 10,
    "start_time": "2023-07-12T06:05:07.487Z"
   },
   {
    "duration": 9,
    "start_time": "2023-07-12T06:05:07.498Z"
   },
   {
    "duration": 11,
    "start_time": "2023-07-12T06:05:07.509Z"
   },
   {
    "duration": 43,
    "start_time": "2023-07-12T06:05:07.521Z"
   },
   {
    "duration": 27,
    "start_time": "2023-07-12T06:05:07.566Z"
   },
   {
    "duration": 8,
    "start_time": "2023-07-12T06:05:07.594Z"
   },
   {
    "duration": 390,
    "start_time": "2023-07-12T06:05:07.603Z"
   },
   {
    "duration": 80,
    "start_time": "2023-07-12T06:05:07.995Z"
   },
   {
    "duration": 32,
    "start_time": "2023-07-12T06:05:08.077Z"
   },
   {
    "duration": 50,
    "start_time": "2023-07-12T06:05:08.111Z"
   },
   {
    "duration": 75,
    "start_time": "2023-07-12T06:05:08.162Z"
   },
   {
    "duration": 21,
    "start_time": "2023-07-12T06:05:08.238Z"
   },
   {
    "duration": 24,
    "start_time": "2023-07-12T06:05:08.261Z"
   },
   {
    "duration": 4,
    "start_time": "2023-07-12T06:05:08.287Z"
   },
   {
    "duration": 15,
    "start_time": "2023-07-12T06:05:08.292Z"
   },
   {
    "duration": 14,
    "start_time": "2023-07-12T06:05:08.309Z"
   },
   {
    "duration": 5,
    "start_time": "2023-07-12T06:05:08.325Z"
   },
   {
    "duration": 35,
    "start_time": "2023-07-12T06:05:08.332Z"
   },
   {
    "duration": 77,
    "start_time": "2023-07-12T06:28:21.269Z"
   },
   {
    "duration": 67,
    "start_time": "2023-07-12T06:28:34.731Z"
   },
   {
    "duration": 1288,
    "start_time": "2023-07-12T06:29:35.707Z"
   },
   {
    "duration": 1189,
    "start_time": "2023-07-12T06:29:36.997Z"
   },
   {
    "duration": 4,
    "start_time": "2023-07-12T06:29:38.189Z"
   },
   {
    "duration": 36,
    "start_time": "2023-07-12T06:29:38.195Z"
   },
   {
    "duration": 454,
    "start_time": "2023-07-12T06:29:38.233Z"
   },
   {
    "duration": 93,
    "start_time": "2023-07-12T06:29:38.689Z"
   },
   {
    "duration": 24,
    "start_time": "2023-07-12T06:29:38.784Z"
   },
   {
    "duration": 81,
    "start_time": "2023-07-12T06:29:38.810Z"
   },
   {
    "duration": 15,
    "start_time": "2023-07-12T06:29:38.893Z"
   },
   {
    "duration": 139,
    "start_time": "2023-07-12T06:29:38.911Z"
   },
   {
    "duration": 189,
    "start_time": "2023-07-12T06:29:39.052Z"
   },
   {
    "duration": 33,
    "start_time": "2023-07-12T06:29:39.243Z"
   },
   {
    "duration": 12,
    "start_time": "2023-07-12T06:29:39.278Z"
   },
   {
    "duration": 18,
    "start_time": "2023-07-12T06:29:39.292Z"
   },
   {
    "duration": 9,
    "start_time": "2023-07-12T06:29:39.312Z"
   },
   {
    "duration": 40,
    "start_time": "2023-07-12T06:29:39.322Z"
   },
   {
    "duration": 12,
    "start_time": "2023-07-12T06:29:39.364Z"
   },
   {
    "duration": 133,
    "start_time": "2023-07-12T06:29:39.378Z"
   },
   {
    "duration": 20,
    "start_time": "2023-07-12T06:29:39.513Z"
   },
   {
    "duration": 26,
    "start_time": "2023-07-12T06:29:39.535Z"
   },
   {
    "duration": 15,
    "start_time": "2023-07-12T06:29:39.563Z"
   },
   {
    "duration": 9,
    "start_time": "2023-07-12T06:29:39.579Z"
   },
   {
    "duration": 153,
    "start_time": "2023-07-12T06:29:39.589Z"
   },
   {
    "duration": 30,
    "start_time": "2023-07-12T06:29:39.744Z"
   },
   {
    "duration": 17,
    "start_time": "2023-07-12T06:29:39.776Z"
   },
   {
    "duration": 23,
    "start_time": "2023-07-12T06:29:39.794Z"
   },
   {
    "duration": 22,
    "start_time": "2023-07-12T06:29:39.819Z"
   },
   {
    "duration": 30,
    "start_time": "2023-07-12T06:29:39.847Z"
   },
   {
    "duration": 16,
    "start_time": "2023-07-12T06:29:39.879Z"
   },
   {
    "duration": 16,
    "start_time": "2023-07-12T06:29:39.897Z"
   },
   {
    "duration": 17,
    "start_time": "2023-07-12T06:29:39.914Z"
   },
   {
    "duration": 34,
    "start_time": "2023-07-12T06:29:39.933Z"
   },
   {
    "duration": 18,
    "start_time": "2023-07-12T06:29:39.969Z"
   },
   {
    "duration": 16,
    "start_time": "2023-07-12T06:29:39.988Z"
   },
   {
    "duration": 12,
    "start_time": "2023-07-12T06:29:40.006Z"
   },
   {
    "duration": 51,
    "start_time": "2023-07-12T06:29:40.020Z"
   },
   {
    "duration": 11,
    "start_time": "2023-07-12T06:29:40.074Z"
   },
   {
    "duration": 397,
    "start_time": "2023-07-12T06:29:40.088Z"
   },
   {
    "duration": 18,
    "start_time": "2023-07-12T06:29:40.487Z"
   },
   {
    "duration": 11,
    "start_time": "2023-07-12T06:29:40.506Z"
   },
   {
    "duration": 42,
    "start_time": "2023-07-12T06:29:40.519Z"
   },
   {
    "duration": 23,
    "start_time": "2023-07-12T06:29:40.564Z"
   },
   {
    "duration": 28,
    "start_time": "2023-07-12T06:29:40.589Z"
   },
   {
    "duration": 430,
    "start_time": "2023-07-12T06:29:40.620Z"
   },
   {
    "duration": 13,
    "start_time": "2023-07-12T06:29:41.052Z"
   },
   {
    "duration": 12,
    "start_time": "2023-07-12T06:29:41.067Z"
   },
   {
    "duration": 11,
    "start_time": "2023-07-12T06:29:41.080Z"
   },
   {
    "duration": 14,
    "start_time": "2023-07-12T06:29:41.093Z"
   },
   {
    "duration": 60,
    "start_time": "2023-07-12T06:29:41.109Z"
   },
   {
    "duration": 8,
    "start_time": "2023-07-12T06:29:41.171Z"
   },
   {
    "duration": 373,
    "start_time": "2023-07-12T06:29:41.180Z"
   },
   {
    "duration": 59,
    "start_time": "2023-07-12T06:29:41.555Z"
   },
   {
    "duration": 43,
    "start_time": "2023-07-12T06:29:41.616Z"
   },
   {
    "duration": 26,
    "start_time": "2023-07-12T06:29:41.661Z"
   },
   {
    "duration": 86,
    "start_time": "2023-07-12T06:29:41.688Z"
   },
   {
    "duration": 4,
    "start_time": "2023-07-12T06:29:41.775Z"
   },
   {
    "duration": 5,
    "start_time": "2023-07-12T06:29:41.781Z"
   },
   {
    "duration": 7,
    "start_time": "2023-07-12T06:29:41.788Z"
   },
   {
    "duration": 18,
    "start_time": "2023-07-12T06:29:41.797Z"
   },
   {
    "duration": 20,
    "start_time": "2023-07-12T06:29:41.817Z"
   },
   {
    "duration": 25,
    "start_time": "2023-07-12T06:29:41.839Z"
   },
   {
    "duration": 18,
    "start_time": "2023-07-12T06:29:41.866Z"
   },
   {
    "duration": 1240,
    "start_time": "2023-07-12T06:37:34.368Z"
   },
   {
    "duration": 1280,
    "start_time": "2023-07-12T06:37:35.610Z"
   },
   {
    "duration": 3,
    "start_time": "2023-07-12T06:37:36.892Z"
   },
   {
    "duration": 29,
    "start_time": "2023-07-12T06:37:36.897Z"
   },
   {
    "duration": 372,
    "start_time": "2023-07-12T06:37:36.928Z"
   },
   {
    "duration": 86,
    "start_time": "2023-07-12T06:37:37.302Z"
   },
   {
    "duration": 27,
    "start_time": "2023-07-12T06:37:37.389Z"
   },
   {
    "duration": 77,
    "start_time": "2023-07-12T06:37:37.418Z"
   },
   {
    "duration": 15,
    "start_time": "2023-07-12T06:37:37.496Z"
   },
   {
    "duration": 133,
    "start_time": "2023-07-12T06:37:37.514Z"
   },
   {
    "duration": 195,
    "start_time": "2023-07-12T06:37:37.648Z"
   },
   {
    "duration": 35,
    "start_time": "2023-07-12T06:37:37.845Z"
   },
   {
    "duration": 13,
    "start_time": "2023-07-12T06:37:37.881Z"
   },
   {
    "duration": 18,
    "start_time": "2023-07-12T06:37:37.896Z"
   },
   {
    "duration": 9,
    "start_time": "2023-07-12T06:37:37.916Z"
   },
   {
    "duration": 13,
    "start_time": "2023-07-12T06:37:37.958Z"
   },
   {
    "duration": 15,
    "start_time": "2023-07-12T06:37:37.973Z"
   },
   {
    "duration": 133,
    "start_time": "2023-07-12T06:37:37.990Z"
   },
   {
    "duration": 13,
    "start_time": "2023-07-12T06:37:38.125Z"
   },
   {
    "duration": 8,
    "start_time": "2023-07-12T06:37:38.158Z"
   },
   {
    "duration": 15,
    "start_time": "2023-07-12T06:37:38.167Z"
   },
   {
    "duration": 8,
    "start_time": "2023-07-12T06:37:38.184Z"
   },
   {
    "duration": 139,
    "start_time": "2023-07-12T06:37:38.193Z"
   },
   {
    "duration": 28,
    "start_time": "2023-07-12T06:37:38.334Z"
   },
   {
    "duration": 12,
    "start_time": "2023-07-12T06:37:38.363Z"
   },
   {
    "duration": 11,
    "start_time": "2023-07-12T06:37:38.377Z"
   },
   {
    "duration": 11,
    "start_time": "2023-07-12T06:37:38.390Z"
   },
   {
    "duration": 22,
    "start_time": "2023-07-12T06:37:38.404Z"
   },
   {
    "duration": 32,
    "start_time": "2023-07-12T06:37:38.428Z"
   },
   {
    "duration": 4,
    "start_time": "2023-07-12T06:37:38.462Z"
   },
   {
    "duration": 14,
    "start_time": "2023-07-12T06:37:38.467Z"
   },
   {
    "duration": 15,
    "start_time": "2023-07-12T06:37:38.483Z"
   },
   {
    "duration": 19,
    "start_time": "2023-07-12T06:37:38.500Z"
   },
   {
    "duration": 48,
    "start_time": "2023-07-12T06:37:38.521Z"
   },
   {
    "duration": 9,
    "start_time": "2023-07-12T06:37:38.572Z"
   },
   {
    "duration": 38,
    "start_time": "2023-07-12T06:37:38.582Z"
   },
   {
    "duration": 10,
    "start_time": "2023-07-12T06:37:38.621Z"
   },
   {
    "duration": 395,
    "start_time": "2023-07-12T06:37:38.633Z"
   },
   {
    "duration": 30,
    "start_time": "2023-07-12T06:37:39.030Z"
   },
   {
    "duration": 7,
    "start_time": "2023-07-12T06:37:39.062Z"
   },
   {
    "duration": 20,
    "start_time": "2023-07-12T06:37:39.071Z"
   },
   {
    "duration": 8,
    "start_time": "2023-07-12T06:37:39.093Z"
   },
   {
    "duration": 9,
    "start_time": "2023-07-12T06:37:39.103Z"
   },
   {
    "duration": 427,
    "start_time": "2023-07-12T06:37:39.160Z"
   },
   {
    "duration": 10,
    "start_time": "2023-07-12T06:37:39.589Z"
   },
   {
    "duration": 16,
    "start_time": "2023-07-12T06:37:39.600Z"
   },
   {
    "duration": 13,
    "start_time": "2023-07-12T06:37:39.617Z"
   },
   {
    "duration": 29,
    "start_time": "2023-07-12T06:37:39.631Z"
   },
   {
    "duration": 26,
    "start_time": "2023-07-12T06:37:39.661Z"
   },
   {
    "duration": 9,
    "start_time": "2023-07-12T06:37:39.689Z"
   },
   {
    "duration": 423,
    "start_time": "2023-07-12T06:37:39.700Z"
   },
   {
    "duration": 75,
    "start_time": "2023-07-12T06:37:40.125Z"
   },
   {
    "duration": 37,
    "start_time": "2023-07-12T06:37:40.202Z"
   },
   {
    "duration": 43,
    "start_time": "2023-07-12T06:37:40.241Z"
   },
   {
    "duration": 86,
    "start_time": "2023-07-12T06:37:40.287Z"
   },
   {
    "duration": 4,
    "start_time": "2023-07-12T06:37:40.376Z"
   },
   {
    "duration": 30,
    "start_time": "2023-07-12T06:37:40.382Z"
   },
   {
    "duration": 17,
    "start_time": "2023-07-12T06:37:40.414Z"
   },
   {
    "duration": 33,
    "start_time": "2023-07-12T06:37:40.433Z"
   },
   {
    "duration": 24,
    "start_time": "2023-07-12T06:37:40.468Z"
   },
   {
    "duration": 5,
    "start_time": "2023-07-12T06:37:40.494Z"
   },
   {
    "duration": 26,
    "start_time": "2023-07-12T06:37:40.501Z"
   },
   {
    "duration": 14,
    "start_time": "2023-07-12T06:40:03.052Z"
   },
   {
    "duration": 65,
    "start_time": "2023-07-12T06:40:22.159Z"
   },
   {
    "duration": 57,
    "start_time": "2023-07-12T06:40:42.753Z"
   },
   {
    "duration": 72,
    "start_time": "2023-07-12T06:41:03.014Z"
   },
   {
    "duration": 82,
    "start_time": "2023-07-12T06:41:36.540Z"
   },
   {
    "duration": 16,
    "start_time": "2023-07-12T06:41:42.555Z"
   },
   {
    "duration": 253,
    "start_time": "2023-07-12T06:41:48.846Z"
   },
   {
    "duration": 426,
    "start_time": "2023-07-12T06:42:20.587Z"
   },
   {
    "duration": 563,
    "start_time": "2023-07-12T06:42:30.392Z"
   },
   {
    "duration": 1328,
    "start_time": "2023-07-12T06:44:43.519Z"
   },
   {
    "duration": 1343,
    "start_time": "2023-07-12T06:44:44.849Z"
   },
   {
    "duration": 3,
    "start_time": "2023-07-12T06:44:46.194Z"
   },
   {
    "duration": 31,
    "start_time": "2023-07-12T06:44:46.200Z"
   },
   {
    "duration": 432,
    "start_time": "2023-07-12T06:44:46.234Z"
   },
   {
    "duration": 94,
    "start_time": "2023-07-12T06:44:46.668Z"
   },
   {
    "duration": 41,
    "start_time": "2023-07-12T06:44:46.764Z"
   },
   {
    "duration": 109,
    "start_time": "2023-07-12T06:44:46.807Z"
   },
   {
    "duration": 21,
    "start_time": "2023-07-12T06:44:46.918Z"
   },
   {
    "duration": 218,
    "start_time": "2023-07-12T06:44:46.942Z"
   },
   {
    "duration": 208,
    "start_time": "2023-07-12T06:44:47.163Z"
   },
   {
    "duration": 26,
    "start_time": "2023-07-12T06:44:47.373Z"
   },
   {
    "duration": 12,
    "start_time": "2023-07-12T06:44:47.401Z"
   },
   {
    "duration": 17,
    "start_time": "2023-07-12T06:44:47.415Z"
   },
   {
    "duration": 9,
    "start_time": "2023-07-12T06:44:47.460Z"
   },
   {
    "duration": 12,
    "start_time": "2023-07-12T06:44:47.470Z"
   },
   {
    "duration": 11,
    "start_time": "2023-07-12T06:44:47.484Z"
   },
   {
    "duration": 150,
    "start_time": "2023-07-12T06:44:47.496Z"
   },
   {
    "duration": 22,
    "start_time": "2023-07-12T06:44:47.648Z"
   },
   {
    "duration": 10,
    "start_time": "2023-07-12T06:44:47.672Z"
   },
   {
    "duration": 16,
    "start_time": "2023-07-12T06:44:47.684Z"
   },
   {
    "duration": 11,
    "start_time": "2023-07-12T06:44:47.702Z"
   },
   {
    "duration": 183,
    "start_time": "2023-07-12T06:44:47.715Z"
   },
   {
    "duration": 19,
    "start_time": "2023-07-12T06:44:47.900Z"
   },
   {
    "duration": 11,
    "start_time": "2023-07-12T06:44:47.921Z"
   },
   {
    "duration": 32,
    "start_time": "2023-07-12T06:44:47.934Z"
   },
   {
    "duration": 16,
    "start_time": "2023-07-12T06:44:47.968Z"
   },
   {
    "duration": 12,
    "start_time": "2023-07-12T06:44:47.989Z"
   },
   {
    "duration": 11,
    "start_time": "2023-07-12T06:44:48.003Z"
   },
   {
    "duration": 5,
    "start_time": "2023-07-12T06:44:48.015Z"
   },
   {
    "duration": 45,
    "start_time": "2023-07-12T06:44:48.021Z"
   },
   {
    "duration": 23,
    "start_time": "2023-07-12T06:44:48.068Z"
   },
   {
    "duration": 22,
    "start_time": "2023-07-12T06:44:48.093Z"
   },
   {
    "duration": 45,
    "start_time": "2023-07-12T06:44:48.118Z"
   },
   {
    "duration": 7,
    "start_time": "2023-07-12T06:44:48.165Z"
   },
   {
    "duration": 23,
    "start_time": "2023-07-12T06:44:48.174Z"
   },
   {
    "duration": 10,
    "start_time": "2023-07-12T06:44:48.199Z"
   },
   {
    "duration": 423,
    "start_time": "2023-07-12T06:44:48.211Z"
   },
   {
    "duration": 20,
    "start_time": "2023-07-12T06:44:48.636Z"
   },
   {
    "duration": 7,
    "start_time": "2023-07-12T06:44:48.660Z"
   },
   {
    "duration": 10,
    "start_time": "2023-07-12T06:44:48.669Z"
   },
   {
    "duration": 12,
    "start_time": "2023-07-12T06:44:48.682Z"
   },
   {
    "duration": 11,
    "start_time": "2023-07-12T06:44:48.696Z"
   },
   {
    "duration": 350,
    "start_time": "2023-07-12T06:44:48.761Z"
   },
   {
    "duration": 11,
    "start_time": "2023-07-12T06:44:49.113Z"
   },
   {
    "duration": 10,
    "start_time": "2023-07-12T06:44:49.126Z"
   },
   {
    "duration": 31,
    "start_time": "2023-07-12T06:44:49.140Z"
   },
   {
    "duration": 38,
    "start_time": "2023-07-12T06:44:49.172Z"
   },
   {
    "duration": 118,
    "start_time": "2023-07-12T06:44:49.212Z"
   },
   {
    "duration": 8,
    "start_time": "2023-07-12T06:44:49.332Z"
   },
   {
    "duration": 391,
    "start_time": "2023-07-12T06:44:49.342Z"
   },
   {
    "duration": 80,
    "start_time": "2023-07-12T06:44:49.736Z"
   },
   {
    "duration": 45,
    "start_time": "2023-07-12T06:44:49.819Z"
   },
   {
    "duration": 29,
    "start_time": "2023-07-12T06:44:49.866Z"
   },
   {
    "duration": 96,
    "start_time": "2023-07-12T06:44:49.897Z"
   },
   {
    "duration": 4,
    "start_time": "2023-07-12T06:44:49.994Z"
   },
   {
    "duration": 19,
    "start_time": "2023-07-12T06:44:50.000Z"
   },
   {
    "duration": 77,
    "start_time": "2023-07-12T06:44:50.021Z"
   },
   {
    "duration": 29,
    "start_time": "2023-07-12T06:44:50.100Z"
   },
   {
    "duration": 25,
    "start_time": "2023-07-12T06:44:50.131Z"
   },
   {
    "duration": 7,
    "start_time": "2023-07-12T06:44:50.159Z"
   },
   {
    "duration": 36,
    "start_time": "2023-07-12T06:44:50.168Z"
   },
   {
    "duration": 1541,
    "start_time": "2023-07-12T07:45:53.781Z"
   },
   {
    "duration": 1795,
    "start_time": "2023-07-12T07:45:55.325Z"
   },
   {
    "duration": 4,
    "start_time": "2023-07-12T07:45:57.123Z"
   },
   {
    "duration": 55,
    "start_time": "2023-07-12T07:45:57.129Z"
   },
   {
    "duration": 429,
    "start_time": "2023-07-12T07:45:57.186Z"
   },
   {
    "duration": 103,
    "start_time": "2023-07-12T07:45:57.617Z"
   },
   {
    "duration": 50,
    "start_time": "2023-07-12T07:45:57.734Z"
   },
   {
    "duration": 88,
    "start_time": "2023-07-12T07:45:57.786Z"
   },
   {
    "duration": 17,
    "start_time": "2023-07-12T07:45:57.875Z"
   },
   {
    "duration": 191,
    "start_time": "2023-07-12T07:45:57.896Z"
   },
   {
    "duration": 247,
    "start_time": "2023-07-12T07:45:58.088Z"
   },
   {
    "duration": 36,
    "start_time": "2023-07-12T07:45:58.337Z"
   },
   {
    "duration": 12,
    "start_time": "2023-07-12T07:45:58.374Z"
   },
   {
    "duration": 52,
    "start_time": "2023-07-12T07:45:58.388Z"
   },
   {
    "duration": 12,
    "start_time": "2023-07-12T07:45:58.442Z"
   },
   {
    "duration": 14,
    "start_time": "2023-07-12T07:45:58.456Z"
   },
   {
    "duration": 20,
    "start_time": "2023-07-12T07:45:58.472Z"
   },
   {
    "duration": 164,
    "start_time": "2023-07-12T07:45:58.494Z"
   },
   {
    "duration": 17,
    "start_time": "2023-07-12T07:45:58.661Z"
   },
   {
    "duration": 9,
    "start_time": "2023-07-12T07:45:58.680Z"
   },
   {
    "duration": 44,
    "start_time": "2023-07-12T07:45:58.691Z"
   },
   {
    "duration": 11,
    "start_time": "2023-07-12T07:45:58.737Z"
   },
   {
    "duration": 141,
    "start_time": "2023-07-12T07:45:58.751Z"
   },
   {
    "duration": 21,
    "start_time": "2023-07-12T07:45:58.894Z"
   },
   {
    "duration": 13,
    "start_time": "2023-07-12T07:45:58.932Z"
   },
   {
    "duration": 19,
    "start_time": "2023-07-12T07:45:58.947Z"
   },
   {
    "duration": 25,
    "start_time": "2023-07-12T07:45:58.968Z"
   },
   {
    "duration": 43,
    "start_time": "2023-07-12T07:45:58.997Z"
   },
   {
    "duration": 18,
    "start_time": "2023-07-12T07:45:59.043Z"
   },
   {
    "duration": 14,
    "start_time": "2023-07-12T07:45:59.064Z"
   },
   {
    "duration": 41,
    "start_time": "2023-07-12T07:45:59.082Z"
   },
   {
    "duration": 38,
    "start_time": "2023-07-12T07:45:59.127Z"
   },
   {
    "duration": 20,
    "start_time": "2023-07-12T07:45:59.168Z"
   },
   {
    "duration": 23,
    "start_time": "2023-07-12T07:45:59.190Z"
   },
   {
    "duration": 20,
    "start_time": "2023-07-12T07:45:59.231Z"
   },
   {
    "duration": 25,
    "start_time": "2023-07-12T07:45:59.253Z"
   },
   {
    "duration": 17,
    "start_time": "2023-07-12T07:45:59.281Z"
   },
   {
    "duration": 700,
    "start_time": "2023-07-12T07:45:59.300Z"
   },
   {
    "duration": 40,
    "start_time": "2023-07-12T07:46:00.002Z"
   },
   {
    "duration": 26,
    "start_time": "2023-07-12T07:46:00.044Z"
   },
   {
    "duration": 62,
    "start_time": "2023-07-12T07:46:00.072Z"
   },
   {
    "duration": 19,
    "start_time": "2023-07-12T07:46:00.136Z"
   },
   {
    "duration": 24,
    "start_time": "2023-07-12T07:46:00.158Z"
   },
   {
    "duration": 673,
    "start_time": "2023-07-12T07:46:00.184Z"
   },
   {
    "duration": 11,
    "start_time": "2023-07-12T07:46:00.860Z"
   },
   {
    "duration": 130,
    "start_time": "2023-07-12T07:46:00.872Z"
   },
   {
    "duration": 75,
    "start_time": "2023-07-12T07:46:01.003Z"
   },
   {
    "duration": 90,
    "start_time": "2023-07-12T07:46:01.080Z"
   },
   {
    "duration": 50,
    "start_time": "2023-07-12T07:46:01.172Z"
   },
   {
    "duration": 48,
    "start_time": "2023-07-12T07:46:01.224Z"
   },
   {
    "duration": 643,
    "start_time": "2023-07-12T07:46:01.274Z"
   },
   {
    "duration": 70,
    "start_time": "2023-07-12T07:46:01.919Z"
   },
   {
    "duration": 45,
    "start_time": "2023-07-12T07:46:01.991Z"
   },
   {
    "duration": 46,
    "start_time": "2023-07-12T07:46:02.040Z"
   },
   {
    "duration": 95,
    "start_time": "2023-07-12T07:46:02.087Z"
   },
   {
    "duration": 4,
    "start_time": "2023-07-12T07:46:02.184Z"
   },
   {
    "duration": 63,
    "start_time": "2023-07-12T07:46:02.189Z"
   },
   {
    "duration": 26,
    "start_time": "2023-07-12T07:46:02.253Z"
   },
   {
    "duration": 38,
    "start_time": "2023-07-12T07:46:02.281Z"
   },
   {
    "duration": 53,
    "start_time": "2023-07-12T07:46:02.321Z"
   },
   {
    "duration": 23,
    "start_time": "2023-07-12T07:46:02.376Z"
   },
   {
    "duration": 48,
    "start_time": "2023-07-12T07:46:02.402Z"
   }
  ],
  "kernelspec": {
   "display_name": "Python 3 (ipykernel)",
   "language": "python",
   "name": "python3"
  },
  "language_info": {
   "codemirror_mode": {
    "name": "ipython",
    "version": 3
   },
   "file_extension": ".py",
   "mimetype": "text/x-python",
   "name": "python",
   "nbconvert_exporter": "python",
   "pygments_lexer": "ipython3",
   "version": "3.9.13"
  },
  "toc": {
   "base_numbering": 1,
   "nav_menu": {},
   "number_sections": true,
   "sideBar": true,
   "skip_h1_title": true,
   "title_cell": "Table of Contents",
   "title_sidebar": "Contents",
   "toc_cell": false,
   "toc_position": {},
   "toc_section_display": true,
   "toc_window_display": false
  }
 },
 "nbformat": 4,
 "nbformat_minor": 5
}
